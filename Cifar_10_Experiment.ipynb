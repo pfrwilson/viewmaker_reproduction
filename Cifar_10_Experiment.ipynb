{
 "cells": [
  {
   "cell_type": "markdown",
   "id": "a18acb0f",
   "metadata": {},
   "source": [
    "<h1> Experiment 1 </h1>"
   ]
  },
  {
   "cell_type": "markdown",
   "metadata": {},
   "source": [
    "# Part 1: Pre-training the encoder using SimCLR"
   ]
  },
  {
   "cell_type": "markdown",
   "metadata": {},
   "source": [
    "set up the environment"
   ]
  },
  {
   "cell_type": "code",
   "execution_count": 1,
   "metadata": {},
   "outputs": [],
   "source": [
    "import tensorflow as tf\n",
    "import numpy as np\n",
    "import matplotlib.pyplot as plt\n",
    "from SimCLR_data_util import preprocess_for_train\n",
    "from resnet_small import ResNet18\n",
    "from tensorflow.keras.layers import Dense\n",
    "from SimCLR import SimCLR"
   ]
  },
  {
   "cell_type": "code",
   "execution_count": 2,
   "metadata": {},
   "outputs": [
    {
     "output_type": "execute_result",
     "data": {
      "text/plain": "'2.6.0'"
     },
     "metadata": {},
     "execution_count": 2
    }
   ],
   "source": [
    "tf.__version__"
   ]
  },
  {
   "cell_type": "markdown",
   "metadata": {},
   "source": [
    "Get the dataset:"
   ]
  },
  {
   "cell_type": "code",
   "execution_count": 3,
   "metadata": {},
   "outputs": [],
   "source": [
    "from datasets.cifar_10 import get_unsupervised_dataset\n",
    "dataset = get_unsupervised_dataset(batch_size=64)          # increase batch size if GPU memory available"
   ]
  },
  {
   "cell_type": "markdown",
   "metadata": {},
   "source": [
    "## Augmentations \n",
    "Build the random augmentation layer. In this case, the augmentations are based on a composition of randomly applied crops, collor jitter, reflection, gaussian blur, etc."
   ]
  },
  {
   "cell_type": "code",
   "execution_count": 6,
   "metadata": {},
   "outputs": [],
   "source": [
    "class MyAugmentation(tf.keras.layers.Layer):\n",
    "    def __init__(self):\n",
    "        super().__init__()\n",
    "    \n",
    "    def call(self, x):\n",
    "        augment_image = lambda im: preprocess_for_train(im, 32, 32)\n",
    "        return tf.map_fn(augment_image, x)\n",
    "\n",
    "augmentation = MyAugmentation()"
   ]
  },
  {
   "cell_type": "markdown",
   "metadata": {},
   "source": [
    "Here is an example of the original compared to the augmented image"
   ]
  },
  {
   "cell_type": "code",
   "execution_count": 7,
   "metadata": {
    "tags": []
   },
   "outputs": [
    {
     "output_type": "stream",
     "name": "stdout",
     "text": "WARNING:tensorflow:From /home/ayesha/Desktop/CISC867/viewmaker_reproduction/env/lib/python3.6/site-packages/tensorflow/python/util/dispatch.py:206: sample_distorted_bounding_box (from tensorflow.python.ops.image_ops_impl) is deprecated and will be removed in a future version.\nInstructions for updating:\n`seed2` arg is deprecated.Use sample_distorted_bounding_box_v2 instead.\nWARNING:tensorflow:From /home/ayesha/Desktop/CISC867/viewmaker_reproduction/env/lib/python3.6/site-packages/tensorflow/python/autograph/impl/api.py:464: to_int32 (from tensorflow.python.ops.math_ops) is deprecated and will be removed in a future version.\nInstructions for updating:\nUse `tf.cast` instead.\nWARNING:tensorflow:From /home/ayesha/Desktop/CISC867/viewmaker_reproduction/env/lib/python3.6/site-packages/tensorflow/python/autograph/impl/api.py:464: to_float (from tensorflow.python.ops.math_ops) is deprecated and will be removed in a future version.\nInstructions for updating:\nUse `tf.cast` instead.\n"
    },
    {
     "output_type": "execute_result",
     "data": {
      "text/plain": "<matplotlib.image.AxesImage at 0x7f59695a20f0>"
     },
     "metadata": {},
     "execution_count": 7
    },
    {
     "output_type": "display_data",
     "data": {
      "text/plain": "<Figure size 432x288 with 2 Axes>",
      "image/svg+xml": "<?xml version=\"1.0\" encoding=\"utf-8\" standalone=\"no\"?>\n<!DOCTYPE svg PUBLIC \"-//W3C//DTD SVG 1.1//EN\"\n  \"http://www.w3.org/Graphics/SVG/1.1/DTD/svg11.dtd\">\n<!-- Created with matplotlib (https://matplotlib.org/) -->\n<svg height=\"184.681321pt\" version=\"1.1\" viewBox=\"0 0 368.925 184.681321\" width=\"368.925pt\" xmlns=\"http://www.w3.org/2000/svg\" xmlns:xlink=\"http://www.w3.org/1999/xlink\">\n <metadata>\n  <rdf:RDF xmlns:cc=\"http://creativecommons.org/ns#\" xmlns:dc=\"http://purl.org/dc/elements/1.1/\" xmlns:rdf=\"http://www.w3.org/1999/02/22-rdf-syntax-ns#\">\n   <cc:Work>\n    <dc:type rdf:resource=\"http://purl.org/dc/dcmitype/StillImage\"/>\n    <dc:date>2021-10-18T12:39:01.681991</dc:date>\n    <dc:format>image/svg+xml</dc:format>\n    <dc:creator>\n     <cc:Agent>\n      <dc:title>Matplotlib v3.3.4, https://matplotlib.org/</dc:title>\n     </cc:Agent>\n    </dc:creator>\n   </cc:Work>\n  </rdf:RDF>\n </metadata>\n <defs>\n  <style type=\"text/css\">*{stroke-linecap:butt;stroke-linejoin:round;}</style>\n </defs>\n <g id=\"figure_1\">\n  <g id=\"patch_1\">\n   <path d=\"M -0 184.681321 \nL 368.925 184.681321 \nL 368.925 0 \nL -0 0 \nz\n\" style=\"fill:none;\"/>\n  </g>\n  <g id=\"axes_1\">\n   <g id=\"patch_2\">\n    <path d=\"M 26.925 160.803196 \nL 179.106818 160.803196 \nL 179.106818 8.621378 \nL 26.925 8.621378 \nz\n\" style=\"fill:#ffffff;\"/>\n   </g>\n   <g clip-path=\"url(#p7f92331b78)\">\n    <image height=\"153\" id=\"image9b1cde5277\" transform=\"scale(1 -1)translate(0 -153)\" width=\"153\" x=\"26.925\" xlink:href=\"data:image/png;base64,\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\" y=\"-7.803196\"/>\n   </g>\n   <g id=\"matplotlib.axis_1\">\n    <g id=\"xtick_1\">\n     <g id=\"line2d_1\">\n      <defs>\n       <path d=\"M 0 0 \nL 0 3.5 \n\" id=\"m56e1be440b\" style=\"stroke:#000000;stroke-width:0.8;\"/>\n      </defs>\n      <g>\n       <use style=\"stroke:#000000;stroke-width:0.8;\" x=\"29.302841\" xlink:href=\"#m56e1be440b\" y=\"160.803196\"/>\n      </g>\n     </g>\n     <g id=\"text_1\">\n      <!-- 0 -->\n      <g transform=\"translate(26.121591 175.401634)scale(0.1 -0.1)\">\n       <defs>\n        <path d=\"M 31.78125 66.40625 \nQ 24.171875 66.40625 20.328125 58.90625 \nQ 16.5 51.421875 16.5 36.375 \nQ 16.5 21.390625 20.328125 13.890625 \nQ 24.171875 6.390625 31.78125 6.390625 \nQ 39.453125 6.390625 43.28125 13.890625 \nQ 47.125 21.390625 47.125 36.375 \nQ 47.125 51.421875 43.28125 58.90625 \nQ 39.453125 66.40625 31.78125 66.40625 \nz\nM 31.78125 74.21875 \nQ 44.046875 74.21875 50.515625 64.515625 \nQ 56.984375 54.828125 56.984375 36.375 \nQ 56.984375 17.96875 50.515625 8.265625 \nQ 44.046875 -1.421875 31.78125 -1.421875 \nQ 19.53125 -1.421875 13.0625 8.265625 \nQ 6.59375 17.96875 6.59375 36.375 \nQ 6.59375 54.828125 13.0625 64.515625 \nQ 19.53125 74.21875 31.78125 74.21875 \nz\n\" id=\"DejaVuSans-48\"/>\n       </defs>\n       <use xlink:href=\"#DejaVuSans-48\"/>\n      </g>\n     </g>\n    </g>\n    <g id=\"xtick_2\">\n     <g id=\"line2d_2\">\n      <g>\n       <use style=\"stroke:#000000;stroke-width:0.8;\" x=\"76.859659\" xlink:href=\"#m56e1be440b\" y=\"160.803196\"/>\n      </g>\n     </g>\n     <g id=\"text_2\">\n      <!-- 10 -->\n      <g transform=\"translate(70.497159 175.401634)scale(0.1 -0.1)\">\n       <defs>\n        <path d=\"M 12.40625 8.296875 \nL 28.515625 8.296875 \nL 28.515625 63.921875 \nL 10.984375 60.40625 \nL 10.984375 69.390625 \nL 28.421875 72.90625 \nL 38.28125 72.90625 \nL 38.28125 8.296875 \nL 54.390625 8.296875 \nL 54.390625 0 \nL 12.40625 0 \nz\n\" id=\"DejaVuSans-49\"/>\n       </defs>\n       <use xlink:href=\"#DejaVuSans-49\"/>\n       <use x=\"63.623047\" xlink:href=\"#DejaVuSans-48\"/>\n      </g>\n     </g>\n    </g>\n    <g id=\"xtick_3\">\n     <g id=\"line2d_3\">\n      <g>\n       <use style=\"stroke:#000000;stroke-width:0.8;\" x=\"124.416477\" xlink:href=\"#m56e1be440b\" y=\"160.803196\"/>\n      </g>\n     </g>\n     <g id=\"text_3\">\n      <!-- 20 -->\n      <g transform=\"translate(118.053977 175.401634)scale(0.1 -0.1)\">\n       <defs>\n        <path d=\"M 19.1875 8.296875 \nL 53.609375 8.296875 \nL 53.609375 0 \nL 7.328125 0 \nL 7.328125 8.296875 \nQ 12.9375 14.109375 22.625 23.890625 \nQ 32.328125 33.6875 34.8125 36.53125 \nQ 39.546875 41.84375 41.421875 45.53125 \nQ 43.3125 49.21875 43.3125 52.78125 \nQ 43.3125 58.59375 39.234375 62.25 \nQ 35.15625 65.921875 28.609375 65.921875 \nQ 23.96875 65.921875 18.8125 64.3125 \nQ 13.671875 62.703125 7.8125 59.421875 \nL 7.8125 69.390625 \nQ 13.765625 71.78125 18.9375 73 \nQ 24.125 74.21875 28.421875 74.21875 \nQ 39.75 74.21875 46.484375 68.546875 \nQ 53.21875 62.890625 53.21875 53.421875 \nQ 53.21875 48.921875 51.53125 44.890625 \nQ 49.859375 40.875 45.40625 35.40625 \nQ 44.1875 33.984375 37.640625 27.21875 \nQ 31.109375 20.453125 19.1875 8.296875 \nz\n\" id=\"DejaVuSans-50\"/>\n       </defs>\n       <use xlink:href=\"#DejaVuSans-50\"/>\n       <use x=\"63.623047\" xlink:href=\"#DejaVuSans-48\"/>\n      </g>\n     </g>\n    </g>\n    <g id=\"xtick_4\">\n     <g id=\"line2d_4\">\n      <g>\n       <use style=\"stroke:#000000;stroke-width:0.8;\" x=\"171.973295\" xlink:href=\"#m56e1be440b\" y=\"160.803196\"/>\n      </g>\n     </g>\n     <g id=\"text_4\">\n      <!-- 30 -->\n      <g transform=\"translate(165.610795 175.401634)scale(0.1 -0.1)\">\n       <defs>\n        <path d=\"M 40.578125 39.3125 \nQ 47.65625 37.796875 51.625 33 \nQ 55.609375 28.21875 55.609375 21.1875 \nQ 55.609375 10.40625 48.1875 4.484375 \nQ 40.765625 -1.421875 27.09375 -1.421875 \nQ 22.515625 -1.421875 17.65625 -0.515625 \nQ 12.796875 0.390625 7.625 2.203125 \nL 7.625 11.71875 \nQ 11.71875 9.328125 16.59375 8.109375 \nQ 21.484375 6.890625 26.8125 6.890625 \nQ 36.078125 6.890625 40.9375 10.546875 \nQ 45.796875 14.203125 45.796875 21.1875 \nQ 45.796875 27.640625 41.28125 31.265625 \nQ 36.765625 34.90625 28.71875 34.90625 \nL 20.21875 34.90625 \nL 20.21875 43.015625 \nL 29.109375 43.015625 \nQ 36.375 43.015625 40.234375 45.921875 \nQ 44.09375 48.828125 44.09375 54.296875 \nQ 44.09375 59.90625 40.109375 62.90625 \nQ 36.140625 65.921875 28.71875 65.921875 \nQ 24.65625 65.921875 20.015625 65.03125 \nQ 15.375 64.15625 9.8125 62.3125 \nL 9.8125 71.09375 \nQ 15.4375 72.65625 20.34375 73.4375 \nQ 25.25 74.21875 29.59375 74.21875 \nQ 40.828125 74.21875 47.359375 69.109375 \nQ 53.90625 64.015625 53.90625 55.328125 \nQ 53.90625 49.265625 50.4375 45.09375 \nQ 46.96875 40.921875 40.578125 39.3125 \nz\n\" id=\"DejaVuSans-51\"/>\n       </defs>\n       <use xlink:href=\"#DejaVuSans-51\"/>\n       <use x=\"63.623047\" xlink:href=\"#DejaVuSans-48\"/>\n      </g>\n     </g>\n    </g>\n   </g>\n   <g id=\"matplotlib.axis_2\">\n    <g id=\"ytick_1\">\n     <g id=\"line2d_5\">\n      <defs>\n       <path d=\"M 0 0 \nL -3.5 0 \n\" id=\"m66e87be98e\" style=\"stroke:#000000;stroke-width:0.8;\"/>\n      </defs>\n      <g>\n       <use style=\"stroke:#000000;stroke-width:0.8;\" x=\"26.925\" xlink:href=\"#m66e87be98e\" y=\"10.999219\"/>\n      </g>\n     </g>\n     <g id=\"text_5\">\n      <!-- 0 -->\n      <g transform=\"translate(13.5625 14.798437)scale(0.1 -0.1)\">\n       <use xlink:href=\"#DejaVuSans-48\"/>\n      </g>\n     </g>\n    </g>\n    <g id=\"ytick_2\">\n     <g id=\"line2d_6\">\n      <g>\n       <use style=\"stroke:#000000;stroke-width:0.8;\" x=\"26.925\" xlink:href=\"#m66e87be98e\" y=\"34.777628\"/>\n      </g>\n     </g>\n     <g id=\"text_6\">\n      <!-- 5 -->\n      <g transform=\"translate(13.5625 38.576847)scale(0.1 -0.1)\">\n       <defs>\n        <path d=\"M 10.796875 72.90625 \nL 49.515625 72.90625 \nL 49.515625 64.59375 \nL 19.828125 64.59375 \nL 19.828125 46.734375 \nQ 21.96875 47.46875 24.109375 47.828125 \nQ 26.265625 48.1875 28.421875 48.1875 \nQ 40.625 48.1875 47.75 41.5 \nQ 54.890625 34.8125 54.890625 23.390625 \nQ 54.890625 11.625 47.5625 5.09375 \nQ 40.234375 -1.421875 26.90625 -1.421875 \nQ 22.3125 -1.421875 17.546875 -0.640625 \nQ 12.796875 0.140625 7.71875 1.703125 \nL 7.71875 11.625 \nQ 12.109375 9.234375 16.796875 8.0625 \nQ 21.484375 6.890625 26.703125 6.890625 \nQ 35.15625 6.890625 40.078125 11.328125 \nQ 45.015625 15.765625 45.015625 23.390625 \nQ 45.015625 31 40.078125 35.4375 \nQ 35.15625 39.890625 26.703125 39.890625 \nQ 22.75 39.890625 18.8125 39.015625 \nQ 14.890625 38.140625 10.796875 36.28125 \nz\n\" id=\"DejaVuSans-53\"/>\n       </defs>\n       <use xlink:href=\"#DejaVuSans-53\"/>\n      </g>\n     </g>\n    </g>\n    <g id=\"ytick_3\">\n     <g id=\"line2d_7\">\n      <g>\n       <use style=\"stroke:#000000;stroke-width:0.8;\" x=\"26.925\" xlink:href=\"#m66e87be98e\" y=\"58.556037\"/>\n      </g>\n     </g>\n     <g id=\"text_7\">\n      <!-- 10 -->\n      <g transform=\"translate(7.2 62.355256)scale(0.1 -0.1)\">\n       <use xlink:href=\"#DejaVuSans-49\"/>\n       <use x=\"63.623047\" xlink:href=\"#DejaVuSans-48\"/>\n      </g>\n     </g>\n    </g>\n    <g id=\"ytick_4\">\n     <g id=\"line2d_8\">\n      <g>\n       <use style=\"stroke:#000000;stroke-width:0.8;\" x=\"26.925\" xlink:href=\"#m66e87be98e\" y=\"82.334446\"/>\n      </g>\n     </g>\n     <g id=\"text_8\">\n      <!-- 15 -->\n      <g transform=\"translate(7.2 86.133665)scale(0.1 -0.1)\">\n       <use xlink:href=\"#DejaVuSans-49\"/>\n       <use x=\"63.623047\" xlink:href=\"#DejaVuSans-53\"/>\n      </g>\n     </g>\n    </g>\n    <g id=\"ytick_5\">\n     <g id=\"line2d_9\">\n      <g>\n       <use style=\"stroke:#000000;stroke-width:0.8;\" x=\"26.925\" xlink:href=\"#m66e87be98e\" y=\"106.112855\"/>\n      </g>\n     </g>\n     <g id=\"text_9\">\n      <!-- 20 -->\n      <g transform=\"translate(7.2 109.912074)scale(0.1 -0.1)\">\n       <use xlink:href=\"#DejaVuSans-50\"/>\n       <use x=\"63.623047\" xlink:href=\"#DejaVuSans-48\"/>\n      </g>\n     </g>\n    </g>\n    <g id=\"ytick_6\">\n     <g id=\"line2d_10\">\n      <g>\n       <use style=\"stroke:#000000;stroke-width:0.8;\" x=\"26.925\" xlink:href=\"#m66e87be98e\" y=\"129.891264\"/>\n      </g>\n     </g>\n     <g id=\"text_10\">\n      <!-- 25 -->\n      <g transform=\"translate(7.2 133.690483)scale(0.1 -0.1)\">\n       <use xlink:href=\"#DejaVuSans-50\"/>\n       <use x=\"63.623047\" xlink:href=\"#DejaVuSans-53\"/>\n      </g>\n     </g>\n    </g>\n    <g id=\"ytick_7\">\n     <g id=\"line2d_11\">\n      <g>\n       <use style=\"stroke:#000000;stroke-width:0.8;\" x=\"26.925\" xlink:href=\"#m66e87be98e\" y=\"153.669673\"/>\n      </g>\n     </g>\n     <g id=\"text_11\">\n      <!-- 30 -->\n      <g transform=\"translate(7.2 157.468892)scale(0.1 -0.1)\">\n       <use xlink:href=\"#DejaVuSans-51\"/>\n       <use x=\"63.623047\" xlink:href=\"#DejaVuSans-48\"/>\n      </g>\n     </g>\n    </g>\n   </g>\n   <g id=\"patch_3\">\n    <path d=\"M 26.925 160.803196 \nL 26.925 8.621378 \n\" style=\"fill:none;stroke:#000000;stroke-linecap:square;stroke-linejoin:miter;stroke-width:0.8;\"/>\n   </g>\n   <g id=\"patch_4\">\n    <path d=\"M 179.106818 160.803196 \nL 179.106818 8.621378 \n\" style=\"fill:none;stroke:#000000;stroke-linecap:square;stroke-linejoin:miter;stroke-width:0.8;\"/>\n   </g>\n   <g id=\"patch_5\">\n    <path d=\"M 26.925 160.803196 \nL 179.106818 160.803196 \n\" style=\"fill:none;stroke:#000000;stroke-linecap:square;stroke-linejoin:miter;stroke-width:0.8;\"/>\n   </g>\n   <g id=\"patch_6\">\n    <path d=\"M 26.925 8.621378 \nL 179.106818 8.621378 \n\" style=\"fill:none;stroke:#000000;stroke-linecap:square;stroke-linejoin:miter;stroke-width:0.8;\"/>\n   </g>\n  </g>\n  <g id=\"axes_2\">\n   <g id=\"patch_7\">\n    <path d=\"M 209.543182 160.803196 \nL 361.725 160.803196 \nL 361.725 8.621378 \nL 209.543182 8.621378 \nz\n\" style=\"fill:#ffffff;\"/>\n   </g>\n   <g clip-path=\"url(#p3132277d24)\">\n    <image height=\"153\" id=\"imagec68610c62e\" transform=\"scale(1 -1)translate(0 -153)\" width=\"153\" x=\"209.543182\" xlink:href=\"data:image/png;base64,\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\" y=\"-7.803196\"/>\n   </g>\n   <g id=\"matplotlib.axis_3\">\n    <g id=\"xtick_5\">\n     <g id=\"line2d_12\">\n      <g>\n       <use style=\"stroke:#000000;stroke-width:0.8;\" x=\"211.921023\" xlink:href=\"#m56e1be440b\" y=\"160.803196\"/>\n      </g>\n     </g>\n     <g id=\"text_12\">\n      <!-- 0 -->\n      <g transform=\"translate(208.739773 175.401634)scale(0.1 -0.1)\">\n       <use xlink:href=\"#DejaVuSans-48\"/>\n      </g>\n     </g>\n    </g>\n    <g id=\"xtick_6\">\n     <g id=\"line2d_13\">\n      <g>\n       <use style=\"stroke:#000000;stroke-width:0.8;\" x=\"259.477841\" xlink:href=\"#m56e1be440b\" y=\"160.803196\"/>\n      </g>\n     </g>\n     <g id=\"text_13\">\n      <!-- 10 -->\n      <g transform=\"translate(253.115341 175.401634)scale(0.1 -0.1)\">\n       <use xlink:href=\"#DejaVuSans-49\"/>\n       <use x=\"63.623047\" xlink:href=\"#DejaVuSans-48\"/>\n      </g>\n     </g>\n    </g>\n    <g id=\"xtick_7\">\n     <g id=\"line2d_14\">\n      <g>\n       <use style=\"stroke:#000000;stroke-width:0.8;\" x=\"307.034659\" xlink:href=\"#m56e1be440b\" y=\"160.803196\"/>\n      </g>\n     </g>\n     <g id=\"text_14\">\n      <!-- 20 -->\n      <g transform=\"translate(300.672159 175.401634)scale(0.1 -0.1)\">\n       <use xlink:href=\"#DejaVuSans-50\"/>\n       <use x=\"63.623047\" xlink:href=\"#DejaVuSans-48\"/>\n      </g>\n     </g>\n    </g>\n    <g id=\"xtick_8\">\n     <g id=\"line2d_15\">\n      <g>\n       <use style=\"stroke:#000000;stroke-width:0.8;\" x=\"354.591477\" xlink:href=\"#m56e1be440b\" y=\"160.803196\"/>\n      </g>\n     </g>\n     <g id=\"text_15\">\n      <!-- 30 -->\n      <g transform=\"translate(348.228977 175.401634)scale(0.1 -0.1)\">\n       <use xlink:href=\"#DejaVuSans-51\"/>\n       <use x=\"63.623047\" xlink:href=\"#DejaVuSans-48\"/>\n      </g>\n     </g>\n    </g>\n   </g>\n   <g id=\"matplotlib.axis_4\">\n    <g id=\"ytick_8\">\n     <g id=\"line2d_16\">\n      <g>\n       <use style=\"stroke:#000000;stroke-width:0.8;\" x=\"209.543182\" xlink:href=\"#m66e87be98e\" y=\"10.999219\"/>\n      </g>\n     </g>\n     <g id=\"text_16\">\n      <!-- 0 -->\n      <g transform=\"translate(196.180682 14.798437)scale(0.1 -0.1)\">\n       <use xlink:href=\"#DejaVuSans-48\"/>\n      </g>\n     </g>\n    </g>\n    <g id=\"ytick_9\">\n     <g id=\"line2d_17\">\n      <g>\n       <use style=\"stroke:#000000;stroke-width:0.8;\" x=\"209.543182\" xlink:href=\"#m66e87be98e\" y=\"34.777628\"/>\n      </g>\n     </g>\n     <g id=\"text_17\">\n      <!-- 5 -->\n      <g transform=\"translate(196.180682 38.576847)scale(0.1 -0.1)\">\n       <use xlink:href=\"#DejaVuSans-53\"/>\n      </g>\n     </g>\n    </g>\n    <g id=\"ytick_10\">\n     <g id=\"line2d_18\">\n      <g>\n       <use style=\"stroke:#000000;stroke-width:0.8;\" x=\"209.543182\" xlink:href=\"#m66e87be98e\" y=\"58.556037\"/>\n      </g>\n     </g>\n     <g id=\"text_18\">\n      <!-- 10 -->\n      <g transform=\"translate(189.818182 62.355256)scale(0.1 -0.1)\">\n       <use xlink:href=\"#DejaVuSans-49\"/>\n       <use x=\"63.623047\" xlink:href=\"#DejaVuSans-48\"/>\n      </g>\n     </g>\n    </g>\n    <g id=\"ytick_11\">\n     <g id=\"line2d_19\">\n      <g>\n       <use style=\"stroke:#000000;stroke-width:0.8;\" x=\"209.543182\" xlink:href=\"#m66e87be98e\" y=\"82.334446\"/>\n      </g>\n     </g>\n     <g id=\"text_19\">\n      <!-- 15 -->\n      <g transform=\"translate(189.818182 86.133665)scale(0.1 -0.1)\">\n       <use xlink:href=\"#DejaVuSans-49\"/>\n       <use x=\"63.623047\" xlink:href=\"#DejaVuSans-53\"/>\n      </g>\n     </g>\n    </g>\n    <g id=\"ytick_12\">\n     <g id=\"line2d_20\">\n      <g>\n       <use style=\"stroke:#000000;stroke-width:0.8;\" x=\"209.543182\" xlink:href=\"#m66e87be98e\" y=\"106.112855\"/>\n      </g>\n     </g>\n     <g id=\"text_20\">\n      <!-- 20 -->\n      <g transform=\"translate(189.818182 109.912074)scale(0.1 -0.1)\">\n       <use xlink:href=\"#DejaVuSans-50\"/>\n       <use x=\"63.623047\" xlink:href=\"#DejaVuSans-48\"/>\n      </g>\n     </g>\n    </g>\n    <g id=\"ytick_13\">\n     <g id=\"line2d_21\">\n      <g>\n       <use style=\"stroke:#000000;stroke-width:0.8;\" x=\"209.543182\" xlink:href=\"#m66e87be98e\" y=\"129.891264\"/>\n      </g>\n     </g>\n     <g id=\"text_21\">\n      <!-- 25 -->\n      <g transform=\"translate(189.818182 133.690483)scale(0.1 -0.1)\">\n       <use xlink:href=\"#DejaVuSans-50\"/>\n       <use x=\"63.623047\" xlink:href=\"#DejaVuSans-53\"/>\n      </g>\n     </g>\n    </g>\n    <g id=\"ytick_14\">\n     <g id=\"line2d_22\">\n      <g>\n       <use style=\"stroke:#000000;stroke-width:0.8;\" x=\"209.543182\" xlink:href=\"#m66e87be98e\" y=\"153.669673\"/>\n      </g>\n     </g>\n     <g id=\"text_22\">\n      <!-- 30 -->\n      <g transform=\"translate(189.818182 157.468892)scale(0.1 -0.1)\">\n       <use xlink:href=\"#DejaVuSans-51\"/>\n       <use x=\"63.623047\" xlink:href=\"#DejaVuSans-48\"/>\n      </g>\n     </g>\n    </g>\n   </g>\n   <g id=\"patch_8\">\n    <path d=\"M 209.543182 160.803196 \nL 209.543182 8.621378 \n\" style=\"fill:none;stroke:#000000;stroke-linecap:square;stroke-linejoin:miter;stroke-width:0.8;\"/>\n   </g>\n   <g id=\"patch_9\">\n    <path d=\"M 361.725 160.803196 \nL 361.725 8.621378 \n\" style=\"fill:none;stroke:#000000;stroke-linecap:square;stroke-linejoin:miter;stroke-width:0.8;\"/>\n   </g>\n   <g id=\"patch_10\">\n    <path d=\"M 209.543182 160.803196 \nL 361.725 160.803196 \n\" style=\"fill:none;stroke:#000000;stroke-linecap:square;stroke-linejoin:miter;stroke-width:0.8;\"/>\n   </g>\n   <g id=\"patch_11\">\n    <path d=\"M 209.543182 8.621378 \nL 361.725 8.621378 \n\" style=\"fill:none;stroke:#000000;stroke-linecap:square;stroke-linejoin:miter;stroke-width:0.8;\"/>\n   </g>\n  </g>\n </g>\n <defs>\n  <clipPath id=\"p7f92331b78\">\n   <rect height=\"152.181818\" width=\"152.181818\" x=\"26.925\" y=\"8.621378\"/>\n  </clipPath>\n  <clipPath id=\"p3132277d24\">\n   <rect height=\"152.181818\" width=\"152.181818\" x=\"209.543182\" y=\"8.621378\"/>\n  </clipPath>\n </defs>\n</svg>\n",
      "image/png": "[encoded data removed]"
     },
     "metadata": {
      "needs_background": "light"
     }
    }
   ],
   "source": [
    "batch = next(iter(dataset))\n",
    "batch_augmented = augmentation(batch)\n",
    "fix, (axis1, axis2) = plt.subplots(1, 2)\n",
    "axis1.imshow(batch[0])\n",
    "axis2.imshow(batch_augmented[0])"
   ]
  },
  {
   "cell_type": "markdown",
   "metadata": {},
   "source": [
    "## Encoder \n",
    "Build the encoder. We use a ResNet18 backbone, with the final layer removed, and passed through a dense layer onto 2048-dimensional space"
   ]
  },
  {
   "cell_type": "code",
   "execution_count": 8,
   "id": "bd5a556e",
   "metadata": {},
   "outputs": [],
   "source": [
    "def get_encoder():\n",
    "    model = ResNet18(10)\n",
    "    encoder = tf.keras.Sequential(model.layers[:-1])\n",
    "    # encoder = tf.keras.Sequential([\n",
    "    #     encoder, \n",
    "    #     tf.keras.layers.ReLU(), \n",
    "    #     tf.keras.layers.Dense(2048)\n",
    "    # ])\n",
    "    return encoder\n",
    "\n",
    "encoder = get_encoder()"
   ]
  },
  {
   "cell_type": "markdown",
   "metadata": {},
   "source": [
    "Take a look at the encoder network: first, we must build the network by calling it on a batch of data"
   ]
  },
  {
   "cell_type": "code",
   "execution_count": 9,
   "metadata": {
    "tags": []
   },
   "outputs": [
    {
     "output_type": "stream",
     "name": "stdout",
     "text": "Model: \"sequential_12\"\n_________________________________________________________________\nLayer (type)                 Output Shape              Param #   \n=================================================================\nconv2d (Conv2D)              (64, 32, 32, 64)          1728      \n_________________________________________________________________\nbatch_normalization (BatchNo (64, 32, 32, 64)          256       \n_________________________________________________________________\nsequential_2 (Sequential)    (64, 32, 32, 64)          148480    \n_________________________________________________________________\nsequential_5 (Sequential)    (64, 16, 16, 128)         526848    \n_________________________________________________________________\nsequential_8 (Sequential)    (64, 8, 8, 256)           2102272   \n_________________________________________________________________\nsequential_11 (Sequential)   (64, 4, 4, 512)           8398848   \n_________________________________________________________________\nflatten (Flatten)            (64, 8192)                0         \n=================================================================\nTotal params: 11,178,432\nTrainable params: 11,168,832\nNon-trainable params: 9,600\n_________________________________________________________________\ninput shape: (64, 32, 32, 3)\noutput shape: (64, 8192)\n"
    }
   ],
   "source": [
    "batch = next(iter(dataset))\n",
    "output = encoder(batch)\n",
    "encoder.summary()\n",
    "print(f'input shape: {batch.shape}')\n",
    "print(f'output shape: {output.shape}')\n"
   ]
  },
  {
   "cell_type": "markdown",
   "metadata": {},
   "source": [
    "We see that the network maps images of size 32 x 32 x 3 to representations of 8192 dimensions. Our goal is to pretrain this encoder by learning good representations."
   ]
  },
  {
   "cell_type": "markdown",
   "metadata": {},
   "source": [
    "## Projection head \n",
    "\n",
    "SimCLR requires a projection head which projects the high-dimensional representation onto a lower-dimensional embedding space. Here we use a simple multi-layer perceptron which maps from the 8192-dimensional representation space to a 265-dimensional embedding space: "
   ]
  },
  {
   "cell_type": "code",
   "execution_count": 10,
   "metadata": {},
   "outputs": [],
   "source": [
    "def get_projection_head():\n",
    "\n",
    "    projection_head = tf.keras.Sequential([\n",
    "        Dense(1024, activation='relu'),\n",
    "        tf.keras.layers.Dropout(0.5),\n",
    "        Dense(512, activation='relu'),\n",
    "        tf.keras.layers.Dropout(0.5),\n",
    "        Dense(256)\n",
    "    ])\n",
    "\n",
    "    return projection_head\n",
    "\n",
    "projection_head = get_projection_head()"
   ]
  },
  {
   "cell_type": "code",
   "execution_count": 13,
   "metadata": {
    "tags": []
   },
   "outputs": [
    {
     "output_type": "stream",
     "name": "stdout",
     "text": "Model: \"sequential_13\"\n_________________________________________________________________\nLayer (type)                 Output Shape              Param #   \n=================================================================\ndense_1 (Dense)              (64, 1024)                8389632   \n_________________________________________________________________\ndropout (Dropout)            (64, 1024)                0         \n_________________________________________________________________\ndense_2 (Dense)              (64, 512)                 524800    \n_________________________________________________________________\ndropout_1 (Dropout)          (64, 512)                 0         \n_________________________________________________________________\ndense_3 (Dense)              (64, 256)                 131328    \n=================================================================\nTotal params: 9,045,760\nTrainable params: 9,045,760\nNon-trainable params: 0\n_________________________________________________________________\ninput shape: (64, 32, 32, 3)\noutput shape: (64, 256)\n"
    }
   ],
   "source": [
    "batch = next(iter(dataset))\n",
    "output = projection_head(encoder(batch))\n",
    "projection_head.summary()\n",
    "print(f'input shape: {batch.shape}')\n",
    "print(f'output shape: {output.shape}')\n"
   ]
  },
  {
   "cell_type": "markdown",
   "metadata": {},
   "source": [
    "## Building and training the SimCLR Model"
   ]
  },
  {
   "cell_type": "code",
   "execution_count": null,
   "metadata": {},
   "outputs": [],
   "source": [
    "sim_clr_model = SimCLR(encoder, augmentation, projection_head, temperature=0.07)"
   ]
  },
  {
   "cell_type": "code",
   "execution_count": null,
   "metadata": {
    "tags": []
   },
   "outputs": [],
   "source": [
    "sim_clr_model(next(iter(dataset)))\n",
    "sim_clr_model.summary()"
   ]
  },
  {
   "cell_type": "markdown",
   "metadata": {},
   "source": [
    "The following cell performs the unsupervised pre-training:"
   ]
  },
  {
   "cell_type": "code",
   "execution_count": null,
   "metadata": {
    "tags": []
   },
   "outputs": [],
   "source": [
    "BATCH_SIZE = 256 \n",
    "EPOCHS = 10     \n",
    "LEARNING_RATE = 0.0001\n",
    "SAVE_DIRECTORY = './cifar_10_experiment'\n",
    "\n",
    "sim_clr_model.compile(optimizer=tf.keras.optimizers.Adam(learning_rate=LEARNING_RATE))\n",
    "\n",
    "dataset = get_unsupervised_dataset(batch_size=BATCH_SIZE)  \n",
    "dataset = dataset.take(len(dataset)-1)\n",
    "\n",
    "sim_clr_model.fit(dataset, epochs=EPOCHS)"
   ]
  },
  {
   "cell_type": "code",
   "execution_count": null,
   "metadata": {
    "tags": []
   },
   "outputs": [],
   "source": [
    "BATCH_SIZE = 256 \n",
    "EPOCHS = 100     \n",
    "LEARNING_RATE = 0.0001\n",
    "SAVE_DIRECTORY = './cifar_10_experiment'\n",
    "\n",
    "sim_clr_model.compile(optimizer=tf.keras.optimizers.Adam(learning_rate=LEARNING_RATE))\n",
    "\n",
    "dataset = get_unsupervised_dataset(batch_size=BATCH_SIZE)  \n",
    "dataset = dataset.take(len(dataset)-1)\n",
    "\n",
    "sim_clr_model.fit(dataset, epochs=EPOCHS)"
   ]
  },
  {
   "cell_type": "code",
   "execution_count": null,
   "metadata": {},
   "outputs": [],
   "source": [
    "encoder = sim_clr_model.encoder"
   ]
  },
  {
   "cell_type": "code",
   "execution_count": null,
   "metadata": {
    "tags": []
   },
   "outputs": [],
   "source": [
    "encoder.save_weights(f'{SAVE_DIRECTORY}/encoder_weights/ckpt1')"
   ]
  },
  {
   "cell_type": "code",
   "execution_count": null,
   "metadata": {
    "tags": []
   },
   "outputs": [],
   "source": [
    "BATCH_SIZE = 256 \n",
    "EPOCHS = 3     \n",
    "LEARNING_RATE = 0.0001\n",
    "SAVE_DIRECTORY = './cifar_10_experiment'\n",
    "\n",
    "sim_clr_model.compile(optimizer=tf.keras.optimizers.Adam(learning_rate=LEARNING_RATE))\n",
    "\n",
    "dataset = get_unsupervised_dataset(batch_size=BATCH_SIZE)  \n",
    "dataset = dataset.take(len(dataset)-1)\n",
    "\n",
    "sim_clr_model.fit(dataset, epochs=EPOCHS)"
   ]
  },
  {
   "cell_type": "code",
   "execution_count": null,
   "metadata": {},
   "outputs": [],
   "source": [
    "SAVE_DIRECTORY = './cifar_10_experiment'\n",
    "encoder = get_encoder()\n",
    "encoder(next(iter(dataset)))\n",
    "encoder.load_weights(f'{SAVE_DIRECTORY}/encoder_weights/ckpt1')"
   ]
  },
  {
   "cell_type": "code",
   "execution_count": null,
   "metadata": {
    "tags": []
   },
   "outputs": [],
   "source": [
    "encoder.summary()"
   ]
  },
  {
   "cell_type": "code",
   "execution_count": null,
   "metadata": {
    "tags": []
   },
   "outputs": [],
   "source": [
    "sim_clr_model = SimCLR(encoder, augmentation, projection_head)\n",
    "BATCH_SIZE = 256 \n",
    "EPOCHS = 100     \n",
    "LEARNING_RATE = 0.0001\n",
    "SAVE_DIRECTORY = './cifar_10_experiment'\n",
    "\n",
    "sim_clr_model.compile(optimizer=tf.keras.optimizers.Adam(learning_rate=LEARNING_RATE))\n",
    "\n",
    "dataset = get_unsupervised_dataset(batch_size=BATCH_SIZE)  \n",
    "dataset = dataset.take(len(dataset)-1)\n",
    "\n",
    "sim_clr_model.fit(dataset, epochs=EPOCHS)\n"
   ]
  },
  {
   "cell_type": "code",
   "execution_count": null,
   "metadata": {},
   "outputs": [],
   "source": [
    "sim_clr_model.save_weights(f'{SAVE_DIRECTORY}/simclr_weights/ckpt1')"
   ]
  },
  {
   "cell_type": "code",
   "execution_count": null,
   "metadata": {},
   "outputs": [],
   "source": []
  }
 ],
 "metadata": {
  "interpreter": {
   "hash": "0e408a2d422f08ada9bc5fb395ddea2cf1b39d559985be2430f6620bfcca087f"
  },
  "kernelspec": {
   "display_name": "Python 3",
   "name": "python3"
  },
  "language_info": {
   "codemirror_mode": {
    "name": "ipython",
    "version": 3
   },
   "file_extension": ".py",
   "mimetype": "text/x-python",
   "name": "python",
   "nbconvert_exporter": "python",
   "pygments_lexer": "ipython3",
   "version": "3.6.9-final"
  }
 },
 "nbformat": 4,
 "nbformat_minor": 5
}