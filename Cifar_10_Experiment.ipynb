{
 "cells": [
  {
   "cell_type": "markdown",
   "id": "a18acb0f",
   "metadata": {},
   "source": [
    "<h1> Experiment 1 </h1>"
   ]
  },
  {
   "cell_type": "markdown",
   "metadata": {},
   "source": [
    "# Part 1: Pre-training the encoder using SimCLR"
   ]
  },
  {
   "cell_type": "markdown",
   "metadata": {},
   "source": [
    "set up the environment"
   ]
  },
  {
   "cell_type": "code",
   "execution_count": 1,
   "metadata": {},
   "outputs": [],
   "source": [
    "import tensorflow as tf\n",
    "import numpy as np\n",
    "import matplotlib.pyplot as plt\n",
    "from SimCLR_data_util import preprocess_for_train\n",
    "from resnet_small import ResNet18\n",
    "from tensorflow.keras.layers import Dense\n",
    "from SimCLR import SimCLR"
   ]
  },
  {
   "cell_type": "code",
   "execution_count": 2,
   "metadata": {},
   "outputs": [
    {
     "output_type": "execute_result",
     "data": {
      "text/plain": "'2.6.0'"
     },
     "metadata": {},
     "execution_count": 2
    }
   ],
   "source": [
    "tf.__version__"
   ]
  },
  {
   "cell_type": "markdown",
   "metadata": {},
   "source": [
    "Get the dataset:"
   ]
  },
  {
   "cell_type": "code",
   "execution_count": 3,
   "metadata": {},
   "outputs": [],
   "source": [
    "from datasets.cifar_10 import get_unsupervised_dataset\n",
    "dataset = get_unsupervised_dataset(batch_size=64)          # increase batch size if GPU memory available"
   ]
  },
  {
   "cell_type": "markdown",
   "metadata": {},
   "source": [
    "## Augmentations \n",
    "Build the random augmentation layer. In this case, the augmentations are based on a composition of randomly applied crops, collor jitter, reflection, gaussian blur, etc."
   ]
  },
  {
   "cell_type": "code",
   "execution_count": 4,
   "metadata": {},
   "outputs": [],
   "source": [
    "class MyAugmentation(tf.keras.layers.Layer):\n",
    "    def __init__(self):\n",
    "        super().__init__()\n",
    "    \n",
    "    def call(self, x):\n",
    "        augment_image = lambda im: preprocess_for_train(im, 32, 32)\n",
    "        return tf.map_fn(augment_image, x)\n",
    "\n",
    "augmentation = MyAugmentation()"
   ]
  },
  {
   "cell_type": "markdown",
   "metadata": {},
   "source": [
    "Here is an example of the original compared to the augmented image"
   ]
  },
  {
   "cell_type": "code",
   "execution_count": 5,
   "metadata": {
    "tags": []
   },
   "outputs": [
    {
     "output_type": "stream",
     "name": "stdout",
     "text": "WARNING:tensorflow:From /home/ayesha/Desktop/CISC867/viewmaker_reproduction/env/lib/python3.6/site-packages/tensorflow/python/util/dispatch.py:206: sample_distorted_bounding_box (from tensorflow.python.ops.image_ops_impl) is deprecated and will be removed in a future version.\nInstructions for updating:\n`seed2` arg is deprecated.Use sample_distorted_bounding_box_v2 instead.\nWARNING:tensorflow:From /home/ayesha/Desktop/CISC867/viewmaker_reproduction/env/lib/python3.6/site-packages/tensorflow/python/autograph/impl/api.py:464: to_int32 (from tensorflow.python.ops.math_ops) is deprecated and will be removed in a future version.\nInstructions for updating:\nUse `tf.cast` instead.\nWARNING:tensorflow:From /home/ayesha/Desktop/CISC867/viewmaker_reproduction/env/lib/python3.6/site-packages/tensorflow/python/autograph/impl/api.py:464: to_float (from tensorflow.python.ops.math_ops) is deprecated and will be removed in a future version.\nInstructions for updating:\nUse `tf.cast` instead.\n"
    },
    {
     "output_type": "execute_result",
     "data": {
      "text/plain": "<matplotlib.image.AxesImage at 0x7f923f7a2828>"
     },
     "metadata": {},
     "execution_count": 5
    },
    {
     "output_type": "display_data",
     "data": {
      "text/plain": "<Figure size 432x288 with 2 Axes>",
      "image/svg+xml": "<?xml version=\"1.0\" encoding=\"utf-8\" standalone=\"no\"?>\n<!DOCTYPE svg PUBLIC \"-//W3C//DTD SVG 1.1//EN\"\n  \"http://www.w3.org/Graphics/SVG/1.1/DTD/svg11.dtd\">\n<!-- Created with matplotlib (https://matplotlib.org/) -->\n<svg height=\"184.681321pt\" version=\"1.1\" viewBox=\"0 0 368.925 184.681321\" width=\"368.925pt\" xmlns=\"http://www.w3.org/2000/svg\" xmlns:xlink=\"http://www.w3.org/1999/xlink\">\n <metadata>\n  <rdf:RDF xmlns:cc=\"http://creativecommons.org/ns#\" xmlns:dc=\"http://purl.org/dc/elements/1.1/\" xmlns:rdf=\"http://www.w3.org/1999/02/22-rdf-syntax-ns#\">\n   <cc:Work>\n    <dc:type rdf:resource=\"http://purl.org/dc/dcmitype/StillImage\"/>\n    <dc:date>2021-10-14T15:03:51.438765</dc:date>\n    <dc:format>image/svg+xml</dc:format>\n    <dc:creator>\n     <cc:Agent>\n      <dc:title>Matplotlib v3.3.4, https://matplotlib.org/</dc:title>\n     </cc:Agent>\n    </dc:creator>\n   </cc:Work>\n  </rdf:RDF>\n </metadata>\n <defs>\n  <style type=\"text/css\">*{stroke-linecap:butt;stroke-linejoin:round;}</style>\n </defs>\n <g id=\"figure_1\">\n  <g id=\"patch_1\">\n   <path d=\"M -0 184.681321 \nL 368.925 184.681321 \nL 368.925 0 \nL -0 0 \nz\n\" style=\"fill:none;\"/>\n  </g>\n  <g id=\"axes_1\">\n   <g id=\"patch_2\">\n    <path d=\"M 26.925 160.803196 \nL 179.106818 160.803196 \nL 179.106818 8.621378 \nL 26.925 8.621378 \nz\n\" style=\"fill:#ffffff;\"/>\n   </g>\n   <g clip-path=\"url(#p84eb0560ab)\">\n    <image height=\"153\" id=\"imagef2b8e860c6\" transform=\"scale(1 -1)translate(0 -153)\" width=\"153\" x=\"26.925\" xlink:href=\"data:image/png;base64,\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\" y=\"-7.803196\"/>\n   </g>\n   <g id=\"matplotlib.axis_1\">\n    <g id=\"xtick_1\">\n     <g id=\"line2d_1\">\n      <defs>\n       <path d=\"M 0 0 \nL 0 3.5 \n\" id=\"mace7618d03\" style=\"stroke:#000000;stroke-width:0.8;\"/>\n      </defs>\n      <g>\n       <use style=\"stroke:#000000;stroke-width:0.8;\" x=\"29.302841\" xlink:href=\"#mace7618d03\" y=\"160.803196\"/>\n      </g>\n     </g>\n     <g id=\"text_1\">\n      <!-- 0 -->\n      <g transform=\"translate(26.121591 175.401634)scale(0.1 -0.1)\">\n       <defs>\n        <path d=\"M 31.78125 66.40625 \nQ 24.171875 66.40625 20.328125 58.90625 \nQ 16.5 51.421875 16.5 36.375 \nQ 16.5 21.390625 20.328125 13.890625 \nQ 24.171875 6.390625 31.78125 6.390625 \nQ 39.453125 6.390625 43.28125 13.890625 \nQ 47.125 21.390625 47.125 36.375 \nQ 47.125 51.421875 43.28125 58.90625 \nQ 39.453125 66.40625 31.78125 66.40625 \nz\nM 31.78125 74.21875 \nQ 44.046875 74.21875 50.515625 64.515625 \nQ 56.984375 54.828125 56.984375 36.375 \nQ 56.984375 17.96875 50.515625 8.265625 \nQ 44.046875 -1.421875 31.78125 -1.421875 \nQ 19.53125 -1.421875 13.0625 8.265625 \nQ 6.59375 17.96875 6.59375 36.375 \nQ 6.59375 54.828125 13.0625 64.515625 \nQ 19.53125 74.21875 31.78125 74.21875 \nz\n\" id=\"DejaVuSans-48\"/>\n       </defs>\n       <use xlink:href=\"#DejaVuSans-48\"/>\n      </g>\n     </g>\n    </g>\n    <g id=\"xtick_2\">\n     <g id=\"line2d_2\">\n      <g>\n       <use style=\"stroke:#000000;stroke-width:0.8;\" x=\"76.859659\" xlink:href=\"#mace7618d03\" y=\"160.803196\"/>\n      </g>\n     </g>\n     <g id=\"text_2\">\n      <!-- 10 -->\n      <g transform=\"translate(70.497159 175.401634)scale(0.1 -0.1)\">\n       <defs>\n        <path d=\"M 12.40625 8.296875 \nL 28.515625 8.296875 \nL 28.515625 63.921875 \nL 10.984375 60.40625 \nL 10.984375 69.390625 \nL 28.421875 72.90625 \nL 38.28125 72.90625 \nL 38.28125 8.296875 \nL 54.390625 8.296875 \nL 54.390625 0 \nL 12.40625 0 \nz\n\" id=\"DejaVuSans-49\"/>\n       </defs>\n       <use xlink:href=\"#DejaVuSans-49\"/>\n       <use x=\"63.623047\" xlink:href=\"#DejaVuSans-48\"/>\n      </g>\n     </g>\n    </g>\n    <g id=\"xtick_3\">\n     <g id=\"line2d_3\">\n      <g>\n       <use style=\"stroke:#000000;stroke-width:0.8;\" x=\"124.416477\" xlink:href=\"#mace7618d03\" y=\"160.803196\"/>\n      </g>\n     </g>\n     <g id=\"text_3\">\n      <!-- 20 -->\n      <g transform=\"translate(118.053977 175.401634)scale(0.1 -0.1)\">\n       <defs>\n        <path d=\"M 19.1875 8.296875 \nL 53.609375 8.296875 \nL 53.609375 0 \nL 7.328125 0 \nL 7.328125 8.296875 \nQ 12.9375 14.109375 22.625 23.890625 \nQ 32.328125 33.6875 34.8125 36.53125 \nQ 39.546875 41.84375 41.421875 45.53125 \nQ 43.3125 49.21875 43.3125 52.78125 \nQ 43.3125 58.59375 39.234375 62.25 \nQ 35.15625 65.921875 28.609375 65.921875 \nQ 23.96875 65.921875 18.8125 64.3125 \nQ 13.671875 62.703125 7.8125 59.421875 \nL 7.8125 69.390625 \nQ 13.765625 71.78125 18.9375 73 \nQ 24.125 74.21875 28.421875 74.21875 \nQ 39.75 74.21875 46.484375 68.546875 \nQ 53.21875 62.890625 53.21875 53.421875 \nQ 53.21875 48.921875 51.53125 44.890625 \nQ 49.859375 40.875 45.40625 35.40625 \nQ 44.1875 33.984375 37.640625 27.21875 \nQ 31.109375 20.453125 19.1875 8.296875 \nz\n\" id=\"DejaVuSans-50\"/>\n       </defs>\n       <use xlink:href=\"#DejaVuSans-50\"/>\n       <use x=\"63.623047\" xlink:href=\"#DejaVuSans-48\"/>\n      </g>\n     </g>\n    </g>\n    <g id=\"xtick_4\">\n     <g id=\"line2d_4\">\n      <g>\n       <use style=\"stroke:#000000;stroke-width:0.8;\" x=\"171.973295\" xlink:href=\"#mace7618d03\" y=\"160.803196\"/>\n      </g>\n     </g>\n     <g id=\"text_4\">\n      <!-- 30 -->\n      <g transform=\"translate(165.610795 175.401634)scale(0.1 -0.1)\">\n       <defs>\n        <path d=\"M 40.578125 39.3125 \nQ 47.65625 37.796875 51.625 33 \nQ 55.609375 28.21875 55.609375 21.1875 \nQ 55.609375 10.40625 48.1875 4.484375 \nQ 40.765625 -1.421875 27.09375 -1.421875 \nQ 22.515625 -1.421875 17.65625 -0.515625 \nQ 12.796875 0.390625 7.625 2.203125 \nL 7.625 11.71875 \nQ 11.71875 9.328125 16.59375 8.109375 \nQ 21.484375 6.890625 26.8125 6.890625 \nQ 36.078125 6.890625 40.9375 10.546875 \nQ 45.796875 14.203125 45.796875 21.1875 \nQ 45.796875 27.640625 41.28125 31.265625 \nQ 36.765625 34.90625 28.71875 34.90625 \nL 20.21875 34.90625 \nL 20.21875 43.015625 \nL 29.109375 43.015625 \nQ 36.375 43.015625 40.234375 45.921875 \nQ 44.09375 48.828125 44.09375 54.296875 \nQ 44.09375 59.90625 40.109375 62.90625 \nQ 36.140625 65.921875 28.71875 65.921875 \nQ 24.65625 65.921875 20.015625 65.03125 \nQ 15.375 64.15625 9.8125 62.3125 \nL 9.8125 71.09375 \nQ 15.4375 72.65625 20.34375 73.4375 \nQ 25.25 74.21875 29.59375 74.21875 \nQ 40.828125 74.21875 47.359375 69.109375 \nQ 53.90625 64.015625 53.90625 55.328125 \nQ 53.90625 49.265625 50.4375 45.09375 \nQ 46.96875 40.921875 40.578125 39.3125 \nz\n\" id=\"DejaVuSans-51\"/>\n       </defs>\n       <use xlink:href=\"#DejaVuSans-51\"/>\n       <use x=\"63.623047\" xlink:href=\"#DejaVuSans-48\"/>\n      </g>\n     </g>\n    </g>\n   </g>\n   <g id=\"matplotlib.axis_2\">\n    <g id=\"ytick_1\">\n     <g id=\"line2d_5\">\n      <defs>\n       <path d=\"M 0 0 \nL -3.5 0 \n\" id=\"m3b8076f599\" style=\"stroke:#000000;stroke-width:0.8;\"/>\n      </defs>\n      <g>\n       <use style=\"stroke:#000000;stroke-width:0.8;\" x=\"26.925\" xlink:href=\"#m3b8076f599\" y=\"10.999219\"/>\n      </g>\n     </g>\n     <g id=\"text_5\">\n      <!-- 0 -->\n      <g transform=\"translate(13.5625 14.798437)scale(0.1 -0.1)\">\n       <use xlink:href=\"#DejaVuSans-48\"/>\n      </g>\n     </g>\n    </g>\n    <g id=\"ytick_2\">\n     <g id=\"line2d_6\">\n      <g>\n       <use style=\"stroke:#000000;stroke-width:0.8;\" x=\"26.925\" xlink:href=\"#m3b8076f599\" y=\"34.777628\"/>\n      </g>\n     </g>\n     <g id=\"text_6\">\n      <!-- 5 -->\n      <g transform=\"translate(13.5625 38.576847)scale(0.1 -0.1)\">\n       <defs>\n        <path d=\"M 10.796875 72.90625 \nL 49.515625 72.90625 \nL 49.515625 64.59375 \nL 19.828125 64.59375 \nL 19.828125 46.734375 \nQ 21.96875 47.46875 24.109375 47.828125 \nQ 26.265625 48.1875 28.421875 48.1875 \nQ 40.625 48.1875 47.75 41.5 \nQ 54.890625 34.8125 54.890625 23.390625 \nQ 54.890625 11.625 47.5625 5.09375 \nQ 40.234375 -1.421875 26.90625 -1.421875 \nQ 22.3125 -1.421875 17.546875 -0.640625 \nQ 12.796875 0.140625 7.71875 1.703125 \nL 7.71875 11.625 \nQ 12.109375 9.234375 16.796875 8.0625 \nQ 21.484375 6.890625 26.703125 6.890625 \nQ 35.15625 6.890625 40.078125 11.328125 \nQ 45.015625 15.765625 45.015625 23.390625 \nQ 45.015625 31 40.078125 35.4375 \nQ 35.15625 39.890625 26.703125 39.890625 \nQ 22.75 39.890625 18.8125 39.015625 \nQ 14.890625 38.140625 10.796875 36.28125 \nz\n\" id=\"DejaVuSans-53\"/>\n       </defs>\n       <use xlink:href=\"#DejaVuSans-53\"/>\n      </g>\n     </g>\n    </g>\n    <g id=\"ytick_3\">\n     <g id=\"line2d_7\">\n      <g>\n       <use style=\"stroke:#000000;stroke-width:0.8;\" x=\"26.925\" xlink:href=\"#m3b8076f599\" y=\"58.556037\"/>\n      </g>\n     </g>\n     <g id=\"text_7\">\n      <!-- 10 -->\n      <g transform=\"translate(7.2 62.355256)scale(0.1 -0.1)\">\n       <use xlink:href=\"#DejaVuSans-49\"/>\n       <use x=\"63.623047\" xlink:href=\"#DejaVuSans-48\"/>\n      </g>\n     </g>\n    </g>\n    <g id=\"ytick_4\">\n     <g id=\"line2d_8\">\n      <g>\n       <use style=\"stroke:#000000;stroke-width:0.8;\" x=\"26.925\" xlink:href=\"#m3b8076f599\" y=\"82.334446\"/>\n      </g>\n     </g>\n     <g id=\"text_8\">\n      <!-- 15 -->\n      <g transform=\"translate(7.2 86.133665)scale(0.1 -0.1)\">\n       <use xlink:href=\"#DejaVuSans-49\"/>\n       <use x=\"63.623047\" xlink:href=\"#DejaVuSans-53\"/>\n      </g>\n     </g>\n    </g>\n    <g id=\"ytick_5\">\n     <g id=\"line2d_9\">\n      <g>\n       <use style=\"stroke:#000000;stroke-width:0.8;\" x=\"26.925\" xlink:href=\"#m3b8076f599\" y=\"106.112855\"/>\n      </g>\n     </g>\n     <g id=\"text_9\">\n      <!-- 20 -->\n      <g transform=\"translate(7.2 109.912074)scale(0.1 -0.1)\">\n       <use xlink:href=\"#DejaVuSans-50\"/>\n       <use x=\"63.623047\" xlink:href=\"#DejaVuSans-48\"/>\n      </g>\n     </g>\n    </g>\n    <g id=\"ytick_6\">\n     <g id=\"line2d_10\">\n      <g>\n       <use style=\"stroke:#000000;stroke-width:0.8;\" x=\"26.925\" xlink:href=\"#m3b8076f599\" y=\"129.891264\"/>\n      </g>\n     </g>\n     <g id=\"text_10\">\n      <!-- 25 -->\n      <g transform=\"translate(7.2 133.690483)scale(0.1 -0.1)\">\n       <use xlink:href=\"#DejaVuSans-50\"/>\n       <use x=\"63.623047\" xlink:href=\"#DejaVuSans-53\"/>\n      </g>\n     </g>\n    </g>\n    <g id=\"ytick_7\">\n     <g id=\"line2d_11\">\n      <g>\n       <use style=\"stroke:#000000;stroke-width:0.8;\" x=\"26.925\" xlink:href=\"#m3b8076f599\" y=\"153.669673\"/>\n      </g>\n     </g>\n     <g id=\"text_11\">\n      <!-- 30 -->\n      <g transform=\"translate(7.2 157.468892)scale(0.1 -0.1)\">\n       <use xlink:href=\"#DejaVuSans-51\"/>\n       <use x=\"63.623047\" xlink:href=\"#DejaVuSans-48\"/>\n      </g>\n     </g>\n    </g>\n   </g>\n   <g id=\"patch_3\">\n    <path d=\"M 26.925 160.803196 \nL 26.925 8.621378 \n\" style=\"fill:none;stroke:#000000;stroke-linecap:square;stroke-linejoin:miter;stroke-width:0.8;\"/>\n   </g>\n   <g id=\"patch_4\">\n    <path d=\"M 179.106818 160.803196 \nL 179.106818 8.621378 \n\" style=\"fill:none;stroke:#000000;stroke-linecap:square;stroke-linejoin:miter;stroke-width:0.8;\"/>\n   </g>\n   <g id=\"patch_5\">\n    <path d=\"M 26.925 160.803196 \nL 179.106818 160.803196 \n\" style=\"fill:none;stroke:#000000;stroke-linecap:square;stroke-linejoin:miter;stroke-width:0.8;\"/>\n   </g>\n   <g id=\"patch_6\">\n    <path d=\"M 26.925 8.621378 \nL 179.106818 8.621378 \n\" style=\"fill:none;stroke:#000000;stroke-linecap:square;stroke-linejoin:miter;stroke-width:0.8;\"/>\n   </g>\n  </g>\n  <g id=\"axes_2\">\n   <g id=\"patch_7\">\n    <path d=\"M 209.543182 160.803196 \nL 361.725 160.803196 \nL 361.725 8.621378 \nL 209.543182 8.621378 \nz\n\" style=\"fill:#ffffff;\"/>\n   </g>\n   <g clip-path=\"url(#p2b677b812c)\">\n    <image height=\"153\" id=\"image78e8d60d42\" transform=\"scale(1 -1)translate(0 -153)\" width=\"153\" x=\"209.543182\" xlink:href=\"data:image/png;base64,\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\" y=\"-7.803196\"/>\n   </g>\n   <g id=\"matplotlib.axis_3\">\n    <g id=\"xtick_5\">\n     <g id=\"line2d_12\">\n      <g>\n       <use style=\"stroke:#000000;stroke-width:0.8;\" x=\"211.921023\" xlink:href=\"#mace7618d03\" y=\"160.803196\"/>\n      </g>\n     </g>\n     <g id=\"text_12\">\n      <!-- 0 -->\n      <g transform=\"translate(208.739773 175.401634)scale(0.1 -0.1)\">\n       <use xlink:href=\"#DejaVuSans-48\"/>\n      </g>\n     </g>\n    </g>\n    <g id=\"xtick_6\">\n     <g id=\"line2d_13\">\n      <g>\n       <use style=\"stroke:#000000;stroke-width:0.8;\" x=\"259.477841\" xlink:href=\"#mace7618d03\" y=\"160.803196\"/>\n      </g>\n     </g>\n     <g id=\"text_13\">\n      <!-- 10 -->\n      <g transform=\"translate(253.115341 175.401634)scale(0.1 -0.1)\">\n       <use xlink:href=\"#DejaVuSans-49\"/>\n       <use x=\"63.623047\" xlink:href=\"#DejaVuSans-48\"/>\n      </g>\n     </g>\n    </g>\n    <g id=\"xtick_7\">\n     <g id=\"line2d_14\">\n      <g>\n       <use style=\"stroke:#000000;stroke-width:0.8;\" x=\"307.034659\" xlink:href=\"#mace7618d03\" y=\"160.803196\"/>\n      </g>\n     </g>\n     <g id=\"text_14\">\n      <!-- 20 -->\n      <g transform=\"translate(300.672159 175.401634)scale(0.1 -0.1)\">\n       <use xlink:href=\"#DejaVuSans-50\"/>\n       <use x=\"63.623047\" xlink:href=\"#DejaVuSans-48\"/>\n      </g>\n     </g>\n    </g>\n    <g id=\"xtick_8\">\n     <g id=\"line2d_15\">\n      <g>\n       <use style=\"stroke:#000000;stroke-width:0.8;\" x=\"354.591477\" xlink:href=\"#mace7618d03\" y=\"160.803196\"/>\n      </g>\n     </g>\n     <g id=\"text_15\">\n      <!-- 30 -->\n      <g transform=\"translate(348.228977 175.401634)scale(0.1 -0.1)\">\n       <use xlink:href=\"#DejaVuSans-51\"/>\n       <use x=\"63.623047\" xlink:href=\"#DejaVuSans-48\"/>\n      </g>\n     </g>\n    </g>\n   </g>\n   <g id=\"matplotlib.axis_4\">\n    <g id=\"ytick_8\">\n     <g id=\"line2d_16\">\n      <g>\n       <use style=\"stroke:#000000;stroke-width:0.8;\" x=\"209.543182\" xlink:href=\"#m3b8076f599\" y=\"10.999219\"/>\n      </g>\n     </g>\n     <g id=\"text_16\">\n      <!-- 0 -->\n      <g transform=\"translate(196.180682 14.798437)scale(0.1 -0.1)\">\n       <use xlink:href=\"#DejaVuSans-48\"/>\n      </g>\n     </g>\n    </g>\n    <g id=\"ytick_9\">\n     <g id=\"line2d_17\">\n      <g>\n       <use style=\"stroke:#000000;stroke-width:0.8;\" x=\"209.543182\" xlink:href=\"#m3b8076f599\" y=\"34.777628\"/>\n      </g>\n     </g>\n     <g id=\"text_17\">\n      <!-- 5 -->\n      <g transform=\"translate(196.180682 38.576847)scale(0.1 -0.1)\">\n       <use xlink:href=\"#DejaVuSans-53\"/>\n      </g>\n     </g>\n    </g>\n    <g id=\"ytick_10\">\n     <g id=\"line2d_18\">\n      <g>\n       <use style=\"stroke:#000000;stroke-width:0.8;\" x=\"209.543182\" xlink:href=\"#m3b8076f599\" y=\"58.556037\"/>\n      </g>\n     </g>\n     <g id=\"text_18\">\n      <!-- 10 -->\n      <g transform=\"translate(189.818182 62.355256)scale(0.1 -0.1)\">\n       <use xlink:href=\"#DejaVuSans-49\"/>\n       <use x=\"63.623047\" xlink:href=\"#DejaVuSans-48\"/>\n      </g>\n     </g>\n    </g>\n    <g id=\"ytick_11\">\n     <g id=\"line2d_19\">\n      <g>\n       <use style=\"stroke:#000000;stroke-width:0.8;\" x=\"209.543182\" xlink:href=\"#m3b8076f599\" y=\"82.334446\"/>\n      </g>\n     </g>\n     <g id=\"text_19\">\n      <!-- 15 -->\n      <g transform=\"translate(189.818182 86.133665)scale(0.1 -0.1)\">\n       <use xlink:href=\"#DejaVuSans-49\"/>\n       <use x=\"63.623047\" xlink:href=\"#DejaVuSans-53\"/>\n      </g>\n     </g>\n    </g>\n    <g id=\"ytick_12\">\n     <g id=\"line2d_20\">\n      <g>\n       <use style=\"stroke:#000000;stroke-width:0.8;\" x=\"209.543182\" xlink:href=\"#m3b8076f599\" y=\"106.112855\"/>\n      </g>\n     </g>\n     <g id=\"text_20\">\n      <!-- 20 -->\n      <g transform=\"translate(189.818182 109.912074)scale(0.1 -0.1)\">\n       <use xlink:href=\"#DejaVuSans-50\"/>\n       <use x=\"63.623047\" xlink:href=\"#DejaVuSans-48\"/>\n      </g>\n     </g>\n    </g>\n    <g id=\"ytick_13\">\n     <g id=\"line2d_21\">\n      <g>\n       <use style=\"stroke:#000000;stroke-width:0.8;\" x=\"209.543182\" xlink:href=\"#m3b8076f599\" y=\"129.891264\"/>\n      </g>\n     </g>\n     <g id=\"text_21\">\n      <!-- 25 -->\n      <g transform=\"translate(189.818182 133.690483)scale(0.1 -0.1)\">\n       <use xlink:href=\"#DejaVuSans-50\"/>\n       <use x=\"63.623047\" xlink:href=\"#DejaVuSans-53\"/>\n      </g>\n     </g>\n    </g>\n    <g id=\"ytick_14\">\n     <g id=\"line2d_22\">\n      <g>\n       <use style=\"stroke:#000000;stroke-width:0.8;\" x=\"209.543182\" xlink:href=\"#m3b8076f599\" y=\"153.669673\"/>\n      </g>\n     </g>\n     <g id=\"text_22\">\n      <!-- 30 -->\n      <g transform=\"translate(189.818182 157.468892)scale(0.1 -0.1)\">\n       <use xlink:href=\"#DejaVuSans-51\"/>\n       <use x=\"63.623047\" xlink:href=\"#DejaVuSans-48\"/>\n      </g>\n     </g>\n    </g>\n   </g>\n   <g id=\"patch_8\">\n    <path d=\"M 209.543182 160.803196 \nL 209.543182 8.621378 \n\" style=\"fill:none;stroke:#000000;stroke-linecap:square;stroke-linejoin:miter;stroke-width:0.8;\"/>\n   </g>\n   <g id=\"patch_9\">\n    <path d=\"M 361.725 160.803196 \nL 361.725 8.621378 \n\" style=\"fill:none;stroke:#000000;stroke-linecap:square;stroke-linejoin:miter;stroke-width:0.8;\"/>\n   </g>\n   <g id=\"patch_10\">\n    <path d=\"M 209.543182 160.803196 \nL 361.725 160.803196 \n\" style=\"fill:none;stroke:#000000;stroke-linecap:square;stroke-linejoin:miter;stroke-width:0.8;\"/>\n   </g>\n   <g id=\"patch_11\">\n    <path d=\"M 209.543182 8.621378 \nL 361.725 8.621378 \n\" style=\"fill:none;stroke:#000000;stroke-linecap:square;stroke-linejoin:miter;stroke-width:0.8;\"/>\n   </g>\n  </g>\n </g>\n <defs>\n  <clipPath id=\"p84eb0560ab\">\n   <rect height=\"152.181818\" width=\"152.181818\" x=\"26.925\" y=\"8.621378\"/>\n  </clipPath>\n  <clipPath id=\"p2b677b812c\">\n   <rect height=\"152.181818\" width=\"152.181818\" x=\"209.543182\" y=\"8.621378\"/>\n  </clipPath>\n </defs>\n</svg>\n",
      "image/png": "[encoded data removed]"
     },
     "metadata": {
      "needs_background": "light"
     }
    }
   ],
   "source": [
    "batch = next(iter(dataset))\n",
    "batch_augmented = augmentation(batch)\n",
    "fix, (axis1, axis2) = plt.subplots(1, 2)\n",
    "axis1.imshow(batch[0])\n",
    "axis2.imshow(batch_augmented[0])"
   ]
  },
  {
   "cell_type": "markdown",
   "metadata": {},
   "source": [
    "## Encoder \n",
    "Build the encoder. We use a ResNet18 backbone, with the final layer removed, and passed through a dense layer onto 2048-dimensional space"
   ]
  },
  {
   "cell_type": "code",
   "execution_count": 6,
   "id": "bd5a556e",
   "metadata": {},
   "outputs": [],
   "source": [
    "def get_encoder():\n",
    "    model = ResNet18(10)\n",
    "    encoder = tf.keras.Sequential(model.layers[:-1])\n",
    "    encoder = tf.keras.Sequential([\n",
    "        encoder, \n",
    "        tf.keras.layers.ReLU(), \n",
    "        tf.keras.layers.Dense(2048)\n",
    "    ])\n",
    "    return encoder\n",
    "\n",
    "encoder = get_encoder()"
   ]
  },
  {
   "cell_type": "markdown",
   "metadata": {},
   "source": [
    "Take a look at the encoder network: first, we must build the network by calling it on a batch of data"
   ]
  },
  {
   "cell_type": "code",
   "execution_count": 7,
   "metadata": {
    "tags": []
   },
   "outputs": [
    {
     "output_type": "stream",
     "name": "stdout",
     "text": "Model: \"sequential_13\"\n_________________________________________________________________\nLayer (type)                 Output Shape              Param #   \n=================================================================\nsequential_12 (Sequential)   (64, 8192)                11178432  \n_________________________________________________________________\nre_lu (ReLU)                 (64, 8192)                0         \n_________________________________________________________________\ndense_1 (Dense)              (64, 2048)                16779264  \n=================================================================\nTotal params: 27,957,696\nTrainable params: 27,948,096\nNon-trainable params: 9,600\n_________________________________________________________________\ninput shape: (64, 32, 32, 3)\noutput shape: (64, 2048)\n"
    }
   ],
   "source": [
    "batch = next(iter(dataset))\n",
    "output = encoder(batch)\n",
    "encoder.summary()\n",
    "print(f'input shape: {batch.shape}')\n",
    "print(f'output shape: {output.shape}')\n"
   ]
  },
  {
   "cell_type": "markdown",
   "metadata": {},
   "source": [
    "We see that the network maps images of size 32 x 32 x 3 to representations of 2048 dimensions. Our goal is to pretrain this encoder by learning good representations."
   ]
  },
  {
   "cell_type": "markdown",
   "metadata": {},
   "source": [
    "## Projection head \n",
    "\n",
    "SimCLR requires a projection head which projects the high-dimensional representation onto a lower-dimensional embedding space. Here we use a simple multi-layer perceptron which maps from the 2048-dimensional representation space to a 265-dimensional embedding space: "
   ]
  },
  {
   "cell_type": "code",
   "execution_count": 9,
   "metadata": {},
   "outputs": [],
   "source": [
    "def get_projection_head():\n",
    "\n",
    "    projection_head = tf.keras.Sequential([\n",
    "        Dense(1024, activation='relu'),\n",
    "        tf.keras.layers.Dropout(0.5),\n",
    "        Dense(512, activation='relu'),\n",
    "        tf.keras.layers.Dropout(0.5),\n",
    "        Dense(256)\n",
    "    ])\n",
    "\n",
    "    return projection_head\n",
    "\n",
    "projection_head = get_projection_head()"
   ]
  },
  {
   "cell_type": "markdown",
   "metadata": {},
   "source": [
    "## Building and training the SimCLR Model"
   ]
  },
  {
   "cell_type": "code",
   "execution_count": 10,
   "metadata": {},
   "outputs": [],
   "source": [
    "sim_clr_model = SimCLR(encoder, augmentation, projection_head)"
   ]
  },
  {
   "cell_type": "markdown",
   "metadata": {},
   "source": [
    "The following cell performs the unsupervised pre-training:"
   ]
  },
  {
   "cell_type": "code",
   "execution_count": 10,
   "metadata": {
    "tags": []
   },
   "outputs": [
    {
     "output_type": "stream",
     "name": "stdout",
     "text": "Epoch 1/10\n234/234 [==============================] - 170s 699ms/step - SimCLR_loss: 5.4967 - SimCLR_accuracy: 0.1664\nEpoch 2/10\n234/234 [==============================] - 166s 709ms/step - SimCLR_loss: 5.4395 - SimCLR_accuracy: 0.2481\nEpoch 3/10\n234/234 [==============================] - 159s 677ms/step - SimCLR_loss: 5.4195 - SimCLR_accuracy: 0.3023\nEpoch 4/10\n201/234 [========================>.....] - ETA: 21s - SimCLR_loss: 5.4048 - SimCLR_accuracy: 0.3379"
    },
    {
     "output_type": "error",
     "ename": "KeyboardInterrupt",
     "evalue": "",
     "traceback": [
      "\u001b[0;31m---------------------------------------------------------------------------\u001b[0m",
      "\u001b[0;31mKeyboardInterrupt\u001b[0m                         Traceback (most recent call last)",
      "\u001b[0;32m<ipython-input-10-d31f4349ec3e>\u001b[0m in \u001b[0;36m<module>\u001b[0;34m\u001b[0m\n\u001b[1;32m      9\u001b[0m \u001b[0mdataset\u001b[0m \u001b[0;34m=\u001b[0m \u001b[0mdataset\u001b[0m\u001b[0;34m.\u001b[0m\u001b[0mtake\u001b[0m\u001b[0;34m(\u001b[0m\u001b[0mlen\u001b[0m\u001b[0;34m(\u001b[0m\u001b[0mdataset\u001b[0m\u001b[0;34m)\u001b[0m\u001b[0;34m-\u001b[0m\u001b[0;36m1\u001b[0m\u001b[0;34m)\u001b[0m\u001b[0;34m\u001b[0m\u001b[0;34m\u001b[0m\u001b[0m\n\u001b[1;32m     10\u001b[0m \u001b[0;34m\u001b[0m\u001b[0m\n\u001b[0;32m---> 11\u001b[0;31m \u001b[0msim_clr_model\u001b[0m\u001b[0;34m.\u001b[0m\u001b[0mfit\u001b[0m\u001b[0;34m(\u001b[0m\u001b[0mdataset\u001b[0m\u001b[0;34m,\u001b[0m \u001b[0mepochs\u001b[0m\u001b[0;34m=\u001b[0m\u001b[0mEPOCHS\u001b[0m\u001b[0;34m)\u001b[0m\u001b[0;34m\u001b[0m\u001b[0;34m\u001b[0m\u001b[0m\n\u001b[0m",
      "\u001b[0;32m~/Desktop/CISC867/viewmaker_reproduction/env/lib/python3.6/site-packages/keras/engine/training.py\u001b[0m in \u001b[0;36mfit\u001b[0;34m(self, x, y, batch_size, epochs, verbose, callbacks, validation_split, validation_data, shuffle, class_weight, sample_weight, initial_epoch, steps_per_epoch, validation_steps, validation_batch_size, validation_freq, max_queue_size, workers, use_multiprocessing)\u001b[0m\n\u001b[1;32m   1187\u001b[0m               \u001b[0mlogs\u001b[0m \u001b[0;34m=\u001b[0m \u001b[0mtmp_logs\u001b[0m  \u001b[0;31m# No error, now safe to assign to logs.\u001b[0m\u001b[0;34m\u001b[0m\u001b[0;34m\u001b[0m\u001b[0m\n\u001b[1;32m   1188\u001b[0m               \u001b[0mend_step\u001b[0m \u001b[0;34m=\u001b[0m \u001b[0mstep\u001b[0m \u001b[0;34m+\u001b[0m \u001b[0mdata_handler\u001b[0m\u001b[0;34m.\u001b[0m\u001b[0mstep_increment\u001b[0m\u001b[0;34m\u001b[0m\u001b[0;34m\u001b[0m\u001b[0m\n\u001b[0;32m-> 1189\u001b[0;31m               \u001b[0mcallbacks\u001b[0m\u001b[0;34m.\u001b[0m\u001b[0mon_train_batch_end\u001b[0m\u001b[0;34m(\u001b[0m\u001b[0mend_step\u001b[0m\u001b[0;34m,\u001b[0m \u001b[0mlogs\u001b[0m\u001b[0;34m)\u001b[0m\u001b[0;34m\u001b[0m\u001b[0;34m\u001b[0m\u001b[0m\n\u001b[0m\u001b[1;32m   1190\u001b[0m               \u001b[0;32mif\u001b[0m \u001b[0mself\u001b[0m\u001b[0;34m.\u001b[0m\u001b[0mstop_training\u001b[0m\u001b[0;34m:\u001b[0m\u001b[0;34m\u001b[0m\u001b[0;34m\u001b[0m\u001b[0m\n\u001b[1;32m   1191\u001b[0m                 \u001b[0;32mbreak\u001b[0m\u001b[0;34m\u001b[0m\u001b[0;34m\u001b[0m\u001b[0m\n",
      "\u001b[0;32m~/Desktop/CISC867/viewmaker_reproduction/env/lib/python3.6/site-packages/keras/callbacks.py\u001b[0m in \u001b[0;36mon_train_batch_end\u001b[0;34m(self, batch, logs)\u001b[0m\n\u001b[1;32m    433\u001b[0m     \"\"\"\n\u001b[1;32m    434\u001b[0m     \u001b[0;32mif\u001b[0m \u001b[0mself\u001b[0m\u001b[0;34m.\u001b[0m\u001b[0m_should_call_train_batch_hooks\u001b[0m\u001b[0;34m:\u001b[0m\u001b[0;34m\u001b[0m\u001b[0;34m\u001b[0m\u001b[0m\n\u001b[0;32m--> 435\u001b[0;31m       \u001b[0mself\u001b[0m\u001b[0;34m.\u001b[0m\u001b[0m_call_batch_hook\u001b[0m\u001b[0;34m(\u001b[0m\u001b[0mModeKeys\u001b[0m\u001b[0;34m.\u001b[0m\u001b[0mTRAIN\u001b[0m\u001b[0;34m,\u001b[0m \u001b[0;34m'end'\u001b[0m\u001b[0;34m,\u001b[0m \u001b[0mbatch\u001b[0m\u001b[0;34m,\u001b[0m \u001b[0mlogs\u001b[0m\u001b[0;34m=\u001b[0m\u001b[0mlogs\u001b[0m\u001b[0;34m)\u001b[0m\u001b[0;34m\u001b[0m\u001b[0;34m\u001b[0m\u001b[0m\n\u001b[0m\u001b[1;32m    436\u001b[0m \u001b[0;34m\u001b[0m\u001b[0m\n\u001b[1;32m    437\u001b[0m   \u001b[0;32mdef\u001b[0m \u001b[0mon_test_batch_begin\u001b[0m\u001b[0;34m(\u001b[0m\u001b[0mself\u001b[0m\u001b[0;34m,\u001b[0m \u001b[0mbatch\u001b[0m\u001b[0;34m,\u001b[0m \u001b[0mlogs\u001b[0m\u001b[0;34m=\u001b[0m\u001b[0;32mNone\u001b[0m\u001b[0;34m)\u001b[0m\u001b[0;34m:\u001b[0m\u001b[0;34m\u001b[0m\u001b[0;34m\u001b[0m\u001b[0m\n",
      "\u001b[0;32m~/Desktop/CISC867/viewmaker_reproduction/env/lib/python3.6/site-packages/keras/callbacks.py\u001b[0m in \u001b[0;36m_call_batch_hook\u001b[0;34m(self, mode, hook, batch, logs)\u001b[0m\n\u001b[1;32m    293\u001b[0m       \u001b[0mself\u001b[0m\u001b[0;34m.\u001b[0m\u001b[0m_call_batch_begin_hook\u001b[0m\u001b[0;34m(\u001b[0m\u001b[0mmode\u001b[0m\u001b[0;34m,\u001b[0m \u001b[0mbatch\u001b[0m\u001b[0;34m,\u001b[0m \u001b[0mlogs\u001b[0m\u001b[0;34m)\u001b[0m\u001b[0;34m\u001b[0m\u001b[0;34m\u001b[0m\u001b[0m\n\u001b[1;32m    294\u001b[0m     \u001b[0;32melif\u001b[0m \u001b[0mhook\u001b[0m \u001b[0;34m==\u001b[0m \u001b[0;34m'end'\u001b[0m\u001b[0;34m:\u001b[0m\u001b[0;34m\u001b[0m\u001b[0;34m\u001b[0m\u001b[0m\n\u001b[0;32m--> 295\u001b[0;31m       \u001b[0mself\u001b[0m\u001b[0;34m.\u001b[0m\u001b[0m_call_batch_end_hook\u001b[0m\u001b[0;34m(\u001b[0m\u001b[0mmode\u001b[0m\u001b[0;34m,\u001b[0m \u001b[0mbatch\u001b[0m\u001b[0;34m,\u001b[0m \u001b[0mlogs\u001b[0m\u001b[0;34m)\u001b[0m\u001b[0;34m\u001b[0m\u001b[0;34m\u001b[0m\u001b[0m\n\u001b[0m\u001b[1;32m    296\u001b[0m     \u001b[0;32melse\u001b[0m\u001b[0;34m:\u001b[0m\u001b[0;34m\u001b[0m\u001b[0;34m\u001b[0m\u001b[0m\n\u001b[1;32m    297\u001b[0m       \u001b[0;32mraise\u001b[0m \u001b[0mValueError\u001b[0m\u001b[0;34m(\u001b[0m\u001b[0;34m'Unrecognized hook: {}'\u001b[0m\u001b[0;34m.\u001b[0m\u001b[0mformat\u001b[0m\u001b[0;34m(\u001b[0m\u001b[0mhook\u001b[0m\u001b[0;34m)\u001b[0m\u001b[0;34m)\u001b[0m\u001b[0;34m\u001b[0m\u001b[0;34m\u001b[0m\u001b[0m\n",
      "\u001b[0;32m~/Desktop/CISC867/viewmaker_reproduction/env/lib/python3.6/site-packages/keras/callbacks.py\u001b[0m in \u001b[0;36m_call_batch_end_hook\u001b[0;34m(self, mode, batch, logs)\u001b[0m\n\u001b[1;32m    313\u001b[0m       \u001b[0mself\u001b[0m\u001b[0;34m.\u001b[0m\u001b[0m_batch_times\u001b[0m\u001b[0;34m.\u001b[0m\u001b[0mappend\u001b[0m\u001b[0;34m(\u001b[0m\u001b[0mbatch_time\u001b[0m\u001b[0;34m)\u001b[0m\u001b[0;34m\u001b[0m\u001b[0;34m\u001b[0m\u001b[0m\n\u001b[1;32m    314\u001b[0m \u001b[0;34m\u001b[0m\u001b[0m\n\u001b[0;32m--> 315\u001b[0;31m     \u001b[0mself\u001b[0m\u001b[0;34m.\u001b[0m\u001b[0m_call_batch_hook_helper\u001b[0m\u001b[0;34m(\u001b[0m\u001b[0mhook_name\u001b[0m\u001b[0;34m,\u001b[0m \u001b[0mbatch\u001b[0m\u001b[0;34m,\u001b[0m \u001b[0mlogs\u001b[0m\u001b[0;34m)\u001b[0m\u001b[0;34m\u001b[0m\u001b[0;34m\u001b[0m\u001b[0m\n\u001b[0m\u001b[1;32m    316\u001b[0m \u001b[0;34m\u001b[0m\u001b[0m\n\u001b[1;32m    317\u001b[0m     \u001b[0;32mif\u001b[0m \u001b[0mlen\u001b[0m\u001b[0;34m(\u001b[0m\u001b[0mself\u001b[0m\u001b[0;34m.\u001b[0m\u001b[0m_batch_times\u001b[0m\u001b[0;34m)\u001b[0m \u001b[0;34m>=\u001b[0m \u001b[0mself\u001b[0m\u001b[0;34m.\u001b[0m\u001b[0m_num_batches_for_timing_check\u001b[0m\u001b[0;34m:\u001b[0m\u001b[0;34m\u001b[0m\u001b[0;34m\u001b[0m\u001b[0m\n",
      "\u001b[0;32m~/Desktop/CISC867/viewmaker_reproduction/env/lib/python3.6/site-packages/keras/callbacks.py\u001b[0m in \u001b[0;36m_call_batch_hook_helper\u001b[0;34m(self, hook_name, batch, logs)\u001b[0m\n\u001b[1;32m    351\u001b[0m     \u001b[0;32mfor\u001b[0m \u001b[0mcallback\u001b[0m \u001b[0;32min\u001b[0m \u001b[0mself\u001b[0m\u001b[0;34m.\u001b[0m\u001b[0mcallbacks\u001b[0m\u001b[0;34m:\u001b[0m\u001b[0;34m\u001b[0m\u001b[0;34m\u001b[0m\u001b[0m\n\u001b[1;32m    352\u001b[0m       \u001b[0mhook\u001b[0m \u001b[0;34m=\u001b[0m \u001b[0mgetattr\u001b[0m\u001b[0;34m(\u001b[0m\u001b[0mcallback\u001b[0m\u001b[0;34m,\u001b[0m \u001b[0mhook_name\u001b[0m\u001b[0;34m)\u001b[0m\u001b[0;34m\u001b[0m\u001b[0;34m\u001b[0m\u001b[0m\n\u001b[0;32m--> 353\u001b[0;31m       \u001b[0mhook\u001b[0m\u001b[0;34m(\u001b[0m\u001b[0mbatch\u001b[0m\u001b[0;34m,\u001b[0m \u001b[0mlogs\u001b[0m\u001b[0;34m)\u001b[0m\u001b[0;34m\u001b[0m\u001b[0;34m\u001b[0m\u001b[0m\n\u001b[0m\u001b[1;32m    354\u001b[0m \u001b[0;34m\u001b[0m\u001b[0m\n\u001b[1;32m    355\u001b[0m     \u001b[0;32mif\u001b[0m \u001b[0mself\u001b[0m\u001b[0;34m.\u001b[0m\u001b[0m_check_timing\u001b[0m\u001b[0;34m:\u001b[0m\u001b[0;34m\u001b[0m\u001b[0;34m\u001b[0m\u001b[0m\n",
      "\u001b[0;32m~/Desktop/CISC867/viewmaker_reproduction/env/lib/python3.6/site-packages/keras/callbacks.py\u001b[0m in \u001b[0;36mon_train_batch_end\u001b[0;34m(self, batch, logs)\u001b[0m\n\u001b[1;32m   1026\u001b[0m \u001b[0;34m\u001b[0m\u001b[0m\n\u001b[1;32m   1027\u001b[0m   \u001b[0;32mdef\u001b[0m \u001b[0mon_train_batch_end\u001b[0m\u001b[0;34m(\u001b[0m\u001b[0mself\u001b[0m\u001b[0;34m,\u001b[0m \u001b[0mbatch\u001b[0m\u001b[0;34m,\u001b[0m \u001b[0mlogs\u001b[0m\u001b[0;34m=\u001b[0m\u001b[0;32mNone\u001b[0m\u001b[0;34m)\u001b[0m\u001b[0;34m:\u001b[0m\u001b[0;34m\u001b[0m\u001b[0;34m\u001b[0m\u001b[0m\n\u001b[0;32m-> 1028\u001b[0;31m     \u001b[0mself\u001b[0m\u001b[0;34m.\u001b[0m\u001b[0m_batch_update_progbar\u001b[0m\u001b[0;34m(\u001b[0m\u001b[0mbatch\u001b[0m\u001b[0;34m,\u001b[0m \u001b[0mlogs\u001b[0m\u001b[0;34m)\u001b[0m\u001b[0;34m\u001b[0m\u001b[0;34m\u001b[0m\u001b[0m\n\u001b[0m\u001b[1;32m   1029\u001b[0m \u001b[0;34m\u001b[0m\u001b[0m\n\u001b[1;32m   1030\u001b[0m   \u001b[0;32mdef\u001b[0m \u001b[0mon_test_batch_end\u001b[0m\u001b[0;34m(\u001b[0m\u001b[0mself\u001b[0m\u001b[0;34m,\u001b[0m \u001b[0mbatch\u001b[0m\u001b[0;34m,\u001b[0m \u001b[0mlogs\u001b[0m\u001b[0;34m=\u001b[0m\u001b[0;32mNone\u001b[0m\u001b[0;34m)\u001b[0m\u001b[0;34m:\u001b[0m\u001b[0;34m\u001b[0m\u001b[0;34m\u001b[0m\u001b[0m\n",
      "\u001b[0;32m~/Desktop/CISC867/viewmaker_reproduction/env/lib/python3.6/site-packages/keras/callbacks.py\u001b[0m in \u001b[0;36m_batch_update_progbar\u001b[0;34m(self, batch, logs)\u001b[0m\n\u001b[1;32m   1098\u001b[0m     \u001b[0;32mif\u001b[0m \u001b[0mself\u001b[0m\u001b[0;34m.\u001b[0m\u001b[0mverbose\u001b[0m \u001b[0;34m==\u001b[0m \u001b[0;36m1\u001b[0m\u001b[0;34m:\u001b[0m\u001b[0;34m\u001b[0m\u001b[0;34m\u001b[0m\u001b[0m\n\u001b[1;32m   1099\u001b[0m       \u001b[0;31m# Only block async when verbose = 1.\u001b[0m\u001b[0;34m\u001b[0m\u001b[0;34m\u001b[0m\u001b[0;34m\u001b[0m\u001b[0m\n\u001b[0;32m-> 1100\u001b[0;31m       \u001b[0mlogs\u001b[0m \u001b[0;34m=\u001b[0m \u001b[0mtf_utils\u001b[0m\u001b[0;34m.\u001b[0m\u001b[0msync_to_numpy_or_python_type\u001b[0m\u001b[0;34m(\u001b[0m\u001b[0mlogs\u001b[0m\u001b[0;34m)\u001b[0m\u001b[0;34m\u001b[0m\u001b[0;34m\u001b[0m\u001b[0m\n\u001b[0m\u001b[1;32m   1101\u001b[0m       \u001b[0mself\u001b[0m\u001b[0;34m.\u001b[0m\u001b[0mprogbar\u001b[0m\u001b[0;34m.\u001b[0m\u001b[0mupdate\u001b[0m\u001b[0;34m(\u001b[0m\u001b[0mself\u001b[0m\u001b[0;34m.\u001b[0m\u001b[0mseen\u001b[0m\u001b[0;34m,\u001b[0m \u001b[0mlist\u001b[0m\u001b[0;34m(\u001b[0m\u001b[0mlogs\u001b[0m\u001b[0;34m.\u001b[0m\u001b[0mitems\u001b[0m\u001b[0;34m(\u001b[0m\u001b[0;34m)\u001b[0m\u001b[0;34m)\u001b[0m\u001b[0;34m,\u001b[0m \u001b[0mfinalize\u001b[0m\u001b[0;34m=\u001b[0m\u001b[0;32mFalse\u001b[0m\u001b[0;34m)\u001b[0m\u001b[0;34m\u001b[0m\u001b[0;34m\u001b[0m\u001b[0m\n\u001b[1;32m   1102\u001b[0m \u001b[0;34m\u001b[0m\u001b[0m\n",
      "\u001b[0;32m~/Desktop/CISC867/viewmaker_reproduction/env/lib/python3.6/site-packages/keras/utils/tf_utils.py\u001b[0m in \u001b[0;36msync_to_numpy_or_python_type\u001b[0;34m(tensors)\u001b[0m\n\u001b[1;32m    514\u001b[0m     \u001b[0;32mreturn\u001b[0m \u001b[0mt\u001b[0m  \u001b[0;31m# Don't turn ragged or sparse tensors to NumPy.\u001b[0m\u001b[0;34m\u001b[0m\u001b[0;34m\u001b[0m\u001b[0m\n\u001b[1;32m    515\u001b[0m \u001b[0;34m\u001b[0m\u001b[0m\n\u001b[0;32m--> 516\u001b[0;31m   \u001b[0;32mreturn\u001b[0m \u001b[0mtf\u001b[0m\u001b[0;34m.\u001b[0m\u001b[0mnest\u001b[0m\u001b[0;34m.\u001b[0m\u001b[0mmap_structure\u001b[0m\u001b[0;34m(\u001b[0m\u001b[0m_to_single_numpy_or_python_type\u001b[0m\u001b[0;34m,\u001b[0m \u001b[0mtensors\u001b[0m\u001b[0;34m)\u001b[0m\u001b[0;34m\u001b[0m\u001b[0;34m\u001b[0m\u001b[0m\n\u001b[0m\u001b[1;32m    517\u001b[0m \u001b[0;34m\u001b[0m\u001b[0m\n\u001b[1;32m    518\u001b[0m \u001b[0;34m\u001b[0m\u001b[0m\n",
      "\u001b[0;32m~/Desktop/CISC867/viewmaker_reproduction/env/lib/python3.6/site-packages/tensorflow/python/util/nest.py\u001b[0m in \u001b[0;36mmap_structure\u001b[0;34m(func, *structure, **kwargs)\u001b[0m\n\u001b[1;32m    867\u001b[0m \u001b[0;34m\u001b[0m\u001b[0m\n\u001b[1;32m    868\u001b[0m   return pack_sequence_as(\n\u001b[0;32m--> 869\u001b[0;31m       \u001b[0mstructure\u001b[0m\u001b[0;34m[\u001b[0m\u001b[0;36m0\u001b[0m\u001b[0;34m]\u001b[0m\u001b[0;34m,\u001b[0m \u001b[0;34m[\u001b[0m\u001b[0mfunc\u001b[0m\u001b[0;34m(\u001b[0m\u001b[0;34m*\u001b[0m\u001b[0mx\u001b[0m\u001b[0;34m)\u001b[0m \u001b[0;32mfor\u001b[0m \u001b[0mx\u001b[0m \u001b[0;32min\u001b[0m \u001b[0mentries\u001b[0m\u001b[0;34m]\u001b[0m\u001b[0;34m,\u001b[0m\u001b[0;34m\u001b[0m\u001b[0;34m\u001b[0m\u001b[0m\n\u001b[0m\u001b[1;32m    870\u001b[0m       expand_composites=expand_composites)\n\u001b[1;32m    871\u001b[0m \u001b[0;34m\u001b[0m\u001b[0m\n",
      "\u001b[0;32m~/Desktop/CISC867/viewmaker_reproduction/env/lib/python3.6/site-packages/tensorflow/python/util/nest.py\u001b[0m in \u001b[0;36m<listcomp>\u001b[0;34m(.0)\u001b[0m\n\u001b[1;32m    867\u001b[0m \u001b[0;34m\u001b[0m\u001b[0m\n\u001b[1;32m    868\u001b[0m   return pack_sequence_as(\n\u001b[0;32m--> 869\u001b[0;31m       \u001b[0mstructure\u001b[0m\u001b[0;34m[\u001b[0m\u001b[0;36m0\u001b[0m\u001b[0;34m]\u001b[0m\u001b[0;34m,\u001b[0m \u001b[0;34m[\u001b[0m\u001b[0mfunc\u001b[0m\u001b[0;34m(\u001b[0m\u001b[0;34m*\u001b[0m\u001b[0mx\u001b[0m\u001b[0;34m)\u001b[0m \u001b[0;32mfor\u001b[0m \u001b[0mx\u001b[0m \u001b[0;32min\u001b[0m \u001b[0mentries\u001b[0m\u001b[0;34m]\u001b[0m\u001b[0;34m,\u001b[0m\u001b[0;34m\u001b[0m\u001b[0;34m\u001b[0m\u001b[0m\n\u001b[0m\u001b[1;32m    870\u001b[0m       expand_composites=expand_composites)\n\u001b[1;32m    871\u001b[0m \u001b[0;34m\u001b[0m\u001b[0m\n",
      "\u001b[0;32m~/Desktop/CISC867/viewmaker_reproduction/env/lib/python3.6/site-packages/keras/utils/tf_utils.py\u001b[0m in \u001b[0;36m_to_single_numpy_or_python_type\u001b[0;34m(t)\u001b[0m\n\u001b[1;32m    510\u001b[0m   \u001b[0;32mdef\u001b[0m \u001b[0m_to_single_numpy_or_python_type\u001b[0m\u001b[0;34m(\u001b[0m\u001b[0mt\u001b[0m\u001b[0;34m)\u001b[0m\u001b[0;34m:\u001b[0m\u001b[0;34m\u001b[0m\u001b[0;34m\u001b[0m\u001b[0m\n\u001b[1;32m    511\u001b[0m     \u001b[0;32mif\u001b[0m \u001b[0misinstance\u001b[0m\u001b[0;34m(\u001b[0m\u001b[0mt\u001b[0m\u001b[0;34m,\u001b[0m \u001b[0mtf\u001b[0m\u001b[0;34m.\u001b[0m\u001b[0mTensor\u001b[0m\u001b[0;34m)\u001b[0m\u001b[0;34m:\u001b[0m\u001b[0;34m\u001b[0m\u001b[0;34m\u001b[0m\u001b[0m\n\u001b[0;32m--> 512\u001b[0;31m       \u001b[0mx\u001b[0m \u001b[0;34m=\u001b[0m \u001b[0mt\u001b[0m\u001b[0;34m.\u001b[0m\u001b[0mnumpy\u001b[0m\u001b[0;34m(\u001b[0m\u001b[0;34m)\u001b[0m\u001b[0;34m\u001b[0m\u001b[0;34m\u001b[0m\u001b[0m\n\u001b[0m\u001b[1;32m    513\u001b[0m       \u001b[0;32mreturn\u001b[0m \u001b[0mx\u001b[0m\u001b[0;34m.\u001b[0m\u001b[0mitem\u001b[0m\u001b[0;34m(\u001b[0m\u001b[0;34m)\u001b[0m \u001b[0;32mif\u001b[0m \u001b[0mnp\u001b[0m\u001b[0;34m.\u001b[0m\u001b[0mndim\u001b[0m\u001b[0;34m(\u001b[0m\u001b[0mx\u001b[0m\u001b[0;34m)\u001b[0m \u001b[0;34m==\u001b[0m \u001b[0;36m0\u001b[0m \u001b[0;32melse\u001b[0m \u001b[0mx\u001b[0m\u001b[0;34m\u001b[0m\u001b[0;34m\u001b[0m\u001b[0m\n\u001b[1;32m    514\u001b[0m     \u001b[0;32mreturn\u001b[0m \u001b[0mt\u001b[0m  \u001b[0;31m# Don't turn ragged or sparse tensors to NumPy.\u001b[0m\u001b[0;34m\u001b[0m\u001b[0;34m\u001b[0m\u001b[0m\n",
      "\u001b[0;32m~/Desktop/CISC867/viewmaker_reproduction/env/lib/python3.6/site-packages/tensorflow/python/framework/ops.py\u001b[0m in \u001b[0;36mnumpy\u001b[0;34m(self)\u001b[0m\n\u001b[1;32m   1092\u001b[0m     \"\"\"\n\u001b[1;32m   1093\u001b[0m     \u001b[0;31m# TODO(slebedev): Consider avoiding a copy for non-CPU or remote tensors.\u001b[0m\u001b[0;34m\u001b[0m\u001b[0;34m\u001b[0m\u001b[0;34m\u001b[0m\u001b[0m\n\u001b[0;32m-> 1094\u001b[0;31m     \u001b[0mmaybe_arr\u001b[0m \u001b[0;34m=\u001b[0m \u001b[0mself\u001b[0m\u001b[0;34m.\u001b[0m\u001b[0m_numpy\u001b[0m\u001b[0;34m(\u001b[0m\u001b[0;34m)\u001b[0m  \u001b[0;31m# pylint: disable=protected-access\u001b[0m\u001b[0;34m\u001b[0m\u001b[0;34m\u001b[0m\u001b[0m\n\u001b[0m\u001b[1;32m   1095\u001b[0m     \u001b[0;32mreturn\u001b[0m \u001b[0mmaybe_arr\u001b[0m\u001b[0;34m.\u001b[0m\u001b[0mcopy\u001b[0m\u001b[0;34m(\u001b[0m\u001b[0;34m)\u001b[0m \u001b[0;32mif\u001b[0m \u001b[0misinstance\u001b[0m\u001b[0;34m(\u001b[0m\u001b[0mmaybe_arr\u001b[0m\u001b[0;34m,\u001b[0m \u001b[0mnp\u001b[0m\u001b[0;34m.\u001b[0m\u001b[0mndarray\u001b[0m\u001b[0;34m)\u001b[0m \u001b[0;32melse\u001b[0m \u001b[0mmaybe_arr\u001b[0m\u001b[0;34m\u001b[0m\u001b[0;34m\u001b[0m\u001b[0m\n\u001b[1;32m   1096\u001b[0m \u001b[0;34m\u001b[0m\u001b[0m\n",
      "\u001b[0;32m~/Desktop/CISC867/viewmaker_reproduction/env/lib/python3.6/site-packages/tensorflow/python/framework/ops.py\u001b[0m in \u001b[0;36m_numpy\u001b[0;34m(self)\u001b[0m\n\u001b[1;32m   1058\u001b[0m   \u001b[0;32mdef\u001b[0m \u001b[0m_numpy\u001b[0m\u001b[0;34m(\u001b[0m\u001b[0mself\u001b[0m\u001b[0;34m)\u001b[0m\u001b[0;34m:\u001b[0m\u001b[0;34m\u001b[0m\u001b[0;34m\u001b[0m\u001b[0m\n\u001b[1;32m   1059\u001b[0m     \u001b[0;32mtry\u001b[0m\u001b[0;34m:\u001b[0m\u001b[0;34m\u001b[0m\u001b[0;34m\u001b[0m\u001b[0m\n\u001b[0;32m-> 1060\u001b[0;31m       \u001b[0;32mreturn\u001b[0m \u001b[0mself\u001b[0m\u001b[0;34m.\u001b[0m\u001b[0m_numpy_internal\u001b[0m\u001b[0;34m(\u001b[0m\u001b[0;34m)\u001b[0m\u001b[0;34m\u001b[0m\u001b[0;34m\u001b[0m\u001b[0m\n\u001b[0m\u001b[1;32m   1061\u001b[0m     \u001b[0;32mexcept\u001b[0m \u001b[0mcore\u001b[0m\u001b[0;34m.\u001b[0m\u001b[0m_NotOkStatusException\u001b[0m \u001b[0;32mas\u001b[0m \u001b[0me\u001b[0m\u001b[0;34m:\u001b[0m  \u001b[0;31m# pylint: disable=protected-access\u001b[0m\u001b[0;34m\u001b[0m\u001b[0;34m\u001b[0m\u001b[0m\n\u001b[1;32m   1062\u001b[0m       \u001b[0msix\u001b[0m\u001b[0;34m.\u001b[0m\u001b[0mraise_from\u001b[0m\u001b[0;34m(\u001b[0m\u001b[0mcore\u001b[0m\u001b[0;34m.\u001b[0m\u001b[0m_status_to_exception\u001b[0m\u001b[0;34m(\u001b[0m\u001b[0me\u001b[0m\u001b[0;34m.\u001b[0m\u001b[0mcode\u001b[0m\u001b[0;34m,\u001b[0m \u001b[0me\u001b[0m\u001b[0;34m.\u001b[0m\u001b[0mmessage\u001b[0m\u001b[0;34m)\u001b[0m\u001b[0;34m,\u001b[0m \u001b[0;32mNone\u001b[0m\u001b[0;34m)\u001b[0m  \u001b[0;31m# pylint: disable=protected-access\u001b[0m\u001b[0;34m\u001b[0m\u001b[0;34m\u001b[0m\u001b[0m\n",
      "\u001b[0;31mKeyboardInterrupt\u001b[0m: "
     ]
    }
   ],
   "source": [
    "BATCH_SIZE = 256 \n",
    "EPOCHS = 10     \n",
    "LEARNING_RATE = 0.0001\n",
    "SAVE_DIRECTORY = './cifar_10_experiment'\n",
    "\n",
    "sim_clr_model.compile(optimizer=tf.keras.optimizers.Adam(learning_rate=LEARNING_RATE))\n",
    "\n",
    "dataset = get_unsupervised_dataset(batch_size=BATCH_SIZE)  \n",
    "dataset = dataset.take(len(dataset)-1)\n",
    "\n",
    "sim_clr_model.fit(dataset, epochs=EPOCHS)"
   ]
  },
  {
   "cell_type": "code",
   "execution_count": null,
   "metadata": {
    "tags": []
   },
   "outputs": [],
   "source": [
    "BATCH_SIZE = 256 \n",
    "EPOCHS = 100     \n",
    "LEARNING_RATE = 0.0001\n",
    "SAVE_DIRECTORY = './cifar_10_experiment'\n",
    "\n",
    "sim_clr_model.compile(optimizer=tf.keras.optimizers.Adam(learning_rate=LEARNING_RATE))\n",
    "\n",
    "dataset = get_unsupervised_dataset(batch_size=BATCH_SIZE)  \n",
    "dataset = dataset.take(len(dataset)-1)\n",
    "\n",
    "sim_clr_model.fit(dataset, epochs=EPOCHS)"
   ]
  },
  {
   "cell_type": "code",
   "execution_count": 18,
   "metadata": {},
   "outputs": [],
   "source": [
    "encoder = sim_clr_model.encoder"
   ]
  },
  {
   "cell_type": "code",
   "execution_count": 20,
   "metadata": {
    "tags": []
   },
   "outputs": [],
   "source": [
    "encoder.save_weights(f'{SAVE_DIRECTORY}/encoder_weights/ckpt1')"
   ]
  },
  {
   "cell_type": "code",
   "execution_count": 21,
   "metadata": {
    "tags": []
   },
   "outputs": [
    {
     "output_type": "stream",
     "name": "stdout",
     "text": "Epoch 1/3\n 29/234 [==>...........................] - ETA: 2:24 - SimCLR_loss: 10.7098"
    }
   ],
   "source": [
    "BATCH_SIZE = 256 \n",
    "EPOCHS = 3     \n",
    "LEARNING_RATE = 0.0001\n",
    "SAVE_DIRECTORY = './cifar_10_experiment'\n",
    "\n",
    "sim_clr_model.compile(optimizer=tf.keras.optimizers.Adam(learning_rate=LEARNING_RATE))\n",
    "\n",
    "dataset = get_unsupervised_dataset(batch_size=BATCH_SIZE)  \n",
    "dataset = dataset.take(len(dataset)-1)\n",
    "\n",
    "sim_clr_model.fit(dataset, epochs=EPOCHS)"
   ]
  },
  {
   "cell_type": "code",
   "execution_count": 12,
   "metadata": {},
   "outputs": [
    {
     "output_type": "execute_result",
     "data": {
      "text/plain": "<tensorflow.python.training.tracking.util.CheckpointLoadStatus at 0x7f923ed2c240>"
     },
     "metadata": {},
     "execution_count": 12
    }
   ],
   "source": [
    "SAVE_DIRECTORY = './cifar_10_experiment'\n",
    "encoder = get_encoder()\n",
    "encoder(next(iter(dataset)))\n",
    "encoder.load_weights(f'{SAVE_DIRECTORY}/encoder_weights/ckpt1')"
   ]
  },
  {
   "cell_type": "code",
   "execution_count": 13,
   "metadata": {
    "tags": []
   },
   "outputs": [
    {
     "output_type": "stream",
     "name": "stdout",
     "text": "Model: \"sequential_43\"\n_________________________________________________________________\nLayer (type)                 Output Shape              Param #   \n=================================================================\nsequential_42 (Sequential)   (64, 8192)                11178432  \n_________________________________________________________________\nre_lu_34 (ReLU)              (64, 8192)                0         \n_________________________________________________________________\ndense_11 (Dense)             (64, 2048)                16779264  \n=================================================================\nTotal params: 27,957,696\nTrainable params: 27,948,096\nNon-trainable params: 9,600\n_________________________________________________________________\n"
    }
   ],
   "source": [
    "encoder.summary()"
   ]
  },
  {
   "cell_type": "code",
   "execution_count": 14,
   "metadata": {
    "tags": []
   },
   "outputs": [
    {
     "output_type": "stream",
     "name": "stdout",
     "text": "234/234 [==============================] - 172s 708ms/step - SimCLR_loss: 5.3712 - SimCLR_accuracy: 0.3939\n"
    },
    {
     "output_type": "execute_result",
     "data": {
      "text/plain": "<keras.callbacks.History at 0x7f923c188e48>"
     },
     "metadata": {},
     "execution_count": 14
    }
   ],
   "source": [
    "sim_clr_model = SimCLR(encoder, augmentation, projection_head)\n",
    "BATCH_SIZE = 256 \n",
    "EPOCHS = 1     \n",
    "LEARNING_RATE = 0.0001\n",
    "SAVE_DIRECTORY = './cifar_10_experiment'\n",
    "\n",
    "sim_clr_model.compile(optimizer=tf.keras.optimizers.Adam(learning_rate=LEARNING_RATE))\n",
    "\n",
    "dataset = get_unsupervised_dataset(batch_size=BATCH_SIZE)  \n",
    "dataset = dataset.take(len(dataset)-1)\n",
    "\n",
    "sim_clr_model.fit(dataset, epochs=EPOCHS)\n"
   ]
  },
  {
   "cell_type": "code",
   "execution_count": null,
   "metadata": {},
   "outputs": [],
   "source": [
    "\n"
   ]
  }
 ],
 "metadata": {
  "interpreter": {
   "hash": "0e408a2d422f08ada9bc5fb395ddea2cf1b39d559985be2430f6620bfcca087f"
  },
  "kernelspec": {
   "display_name": "Python 3",
   "name": "python3"
  },
  "language_info": {
   "codemirror_mode": {
    "name": "ipython",
    "version": 3
   },
   "file_extension": ".py",
   "mimetype": "text/x-python",
   "name": "python",
   "nbconvert_exporter": "python",
   "pygments_lexer": "ipython3",
   "version": "3.6.9-final"
  }
 },
 "nbformat": 4,
 "nbformat_minor": 5
}