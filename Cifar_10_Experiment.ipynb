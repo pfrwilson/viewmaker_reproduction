{
 "cells": [
  {
   "cell_type": "markdown",
   "id": "a18acb0f",
   "metadata": {},
   "source": [
    "<h1> Experiment 1 </h1>"
   ]
  },
  {
   "cell_type": "markdown",
   "metadata": {},
   "source": [
    "# Part 1: Pre-training the encoder using SimCLR"
   ]
  },
  {
   "cell_type": "markdown",
   "metadata": {},
   "source": [
    "set up the environment"
   ]
  },
  {
   "cell_type": "code",
   "execution_count": 1,
   "metadata": {},
   "outputs": [],
   "source": [
    "import tensorflow as tf\n",
    "import numpy as np\n",
    "import matplotlib.pyplot as plt\n",
    "from SimCLR_data_util import preprocess_for_train\n",
    "from resnet_small import ResNet18\n",
    "from tensorflow.keras.layers import Dense\n",
    "from SimCLR import SimCLR"
   ]
  },
  {
   "cell_type": "code",
   "execution_count": 2,
   "metadata": {},
   "outputs": [
    {
     "output_type": "execute_result",
     "data": {
      "text/plain": "'2.6.0'"
     },
     "metadata": {},
     "execution_count": 2
    }
   ],
   "source": [
    "tf.__version__"
   ]
  },
  {
   "cell_type": "markdown",
   "metadata": {},
   "source": [
    "Get the dataset:"
   ]
  },
  {
   "cell_type": "code",
   "execution_count": 3,
   "metadata": {},
   "outputs": [],
   "source": [
    "from datasets.cifar_10 import get_unsupervised_dataset\n",
    "dataset = get_unsupervised_dataset(batch_size=64)          # increase batch size if GPU memory available"
   ]
  },
  {
   "cell_type": "markdown",
   "metadata": {},
   "source": [
    "## Augmentations \n",
    "Build the random augmentation layer. In this case, the augmentations are based on a composition of randomly applied crops, collor jitter, reflection, gaussian blur, etc."
   ]
  },
  {
   "cell_type": "code",
   "execution_count": 4,
   "metadata": {},
   "outputs": [],
   "source": [
    "class MyAugmentation(tf.keras.layers.Layer):\n",
    "    def __init__(self):\n",
    "        super().__init__()\n",
    "    \n",
    "    def call(self, x):\n",
    "        augment_image = lambda im: preprocess_for_train(im, 32, 32)\n",
    "        return tf.map_fn(augment_image, x)\n",
    "\n",
    "augmentation = MyAugmentation()"
   ]
  },
  {
   "cell_type": "markdown",
   "metadata": {},
   "source": [
    "Here is an example of the original compared to the augmented image"
   ]
  },
  {
   "cell_type": "code",
   "execution_count": 5,
   "metadata": {
    "tags": []
   },
   "outputs": [
    {
     "output_type": "stream",
     "name": "stdout",
     "text": "WARNING:tensorflow:From /home/ayesha/Desktop/CISC867/viewmaker_reproduction/env/lib/python3.6/site-packages/tensorflow/python/util/dispatch.py:206: sample_distorted_bounding_box (from tensorflow.python.ops.image_ops_impl) is deprecated and will be removed in a future version.\nInstructions for updating:\n`seed2` arg is deprecated.Use sample_distorted_bounding_box_v2 instead.\nWARNING:tensorflow:From /home/ayesha/Desktop/CISC867/viewmaker_reproduction/env/lib/python3.6/site-packages/tensorflow/python/autograph/impl/api.py:464: to_int32 (from tensorflow.python.ops.math_ops) is deprecated and will be removed in a future version.\nInstructions for updating:\nUse `tf.cast` instead.\nWARNING:tensorflow:From /home/ayesha/Desktop/CISC867/viewmaker_reproduction/env/lib/python3.6/site-packages/tensorflow/python/autograph/impl/api.py:464: to_float (from tensorflow.python.ops.math_ops) is deprecated and will be removed in a future version.\nInstructions for updating:\nUse `tf.cast` instead.\n"
    },
    {
     "output_type": "execute_result",
     "data": {
      "text/plain": "<matplotlib.image.AxesImage at 0x7fd2477c7630>"
     },
     "metadata": {},
     "execution_count": 5
    },
    {
     "output_type": "display_data",
     "data": {
      "text/plain": "<Figure size 432x288 with 2 Axes>",
      "image/svg+xml": "<?xml version=\"1.0\" encoding=\"utf-8\" standalone=\"no\"?>\n<!DOCTYPE svg PUBLIC \"-//W3C//DTD SVG 1.1//EN\"\n  \"http://www.w3.org/Graphics/SVG/1.1/DTD/svg11.dtd\">\n<!-- Created with matplotlib (https://matplotlib.org/) -->\n<svg height=\"184.681321pt\" version=\"1.1\" viewBox=\"0 0 368.925 184.681321\" width=\"368.925pt\" xmlns=\"http://www.w3.org/2000/svg\" xmlns:xlink=\"http://www.w3.org/1999/xlink\">\n <metadata>\n  <rdf:RDF xmlns:cc=\"http://creativecommons.org/ns#\" xmlns:dc=\"http://purl.org/dc/elements/1.1/\" xmlns:rdf=\"http://www.w3.org/1999/02/22-rdf-syntax-ns#\">\n   <cc:Work>\n    <dc:type rdf:resource=\"http://purl.org/dc/dcmitype/StillImage\"/>\n    <dc:date>2021-10-14T15:29:38.920753</dc:date>\n    <dc:format>image/svg+xml</dc:format>\n    <dc:creator>\n     <cc:Agent>\n      <dc:title>Matplotlib v3.3.4, https://matplotlib.org/</dc:title>\n     </cc:Agent>\n    </dc:creator>\n   </cc:Work>\n  </rdf:RDF>\n </metadata>\n <defs>\n  <style type=\"text/css\">*{stroke-linecap:butt;stroke-linejoin:round;}</style>\n </defs>\n <g id=\"figure_1\">\n  <g id=\"patch_1\">\n   <path d=\"M -0 184.681321 \nL 368.925 184.681321 \nL 368.925 0 \nL -0 0 \nz\n\" style=\"fill:none;\"/>\n  </g>\n  <g id=\"axes_1\">\n   <g id=\"patch_2\">\n    <path d=\"M 26.925 160.803196 \nL 179.106818 160.803196 \nL 179.106818 8.621378 \nL 26.925 8.621378 \nz\n\" style=\"fill:#ffffff;\"/>\n   </g>\n   <g clip-path=\"url(#p0092e8ecb1)\">\n    <image height=\"153\" id=\"image134cb666e7\" transform=\"scale(1 -1)translate(0 -153)\" width=\"153\" x=\"26.925\" xlink:href=\"data:image/png;base64,\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\" y=\"-7.803196\"/>\n   </g>\n   <g id=\"matplotlib.axis_1\">\n    <g id=\"xtick_1\">\n     <g id=\"line2d_1\">\n      <defs>\n       <path d=\"M 0 0 \nL 0 3.5 \n\" id=\"m99c1969803\" style=\"stroke:#000000;stroke-width:0.8;\"/>\n      </defs>\n      <g>\n       <use style=\"stroke:#000000;stroke-width:0.8;\" x=\"29.302841\" xlink:href=\"#m99c1969803\" y=\"160.803196\"/>\n      </g>\n     </g>\n     <g id=\"text_1\">\n      <!-- 0 -->\n      <g transform=\"translate(26.121591 175.401634)scale(0.1 -0.1)\">\n       <defs>\n        <path d=\"M 31.78125 66.40625 \nQ 24.171875 66.40625 20.328125 58.90625 \nQ 16.5 51.421875 16.5 36.375 \nQ 16.5 21.390625 20.328125 13.890625 \nQ 24.171875 6.390625 31.78125 6.390625 \nQ 39.453125 6.390625 43.28125 13.890625 \nQ 47.125 21.390625 47.125 36.375 \nQ 47.125 51.421875 43.28125 58.90625 \nQ 39.453125 66.40625 31.78125 66.40625 \nz\nM 31.78125 74.21875 \nQ 44.046875 74.21875 50.515625 64.515625 \nQ 56.984375 54.828125 56.984375 36.375 \nQ 56.984375 17.96875 50.515625 8.265625 \nQ 44.046875 -1.421875 31.78125 -1.421875 \nQ 19.53125 -1.421875 13.0625 8.265625 \nQ 6.59375 17.96875 6.59375 36.375 \nQ 6.59375 54.828125 13.0625 64.515625 \nQ 19.53125 74.21875 31.78125 74.21875 \nz\n\" id=\"DejaVuSans-48\"/>\n       </defs>\n       <use xlink:href=\"#DejaVuSans-48\"/>\n      </g>\n     </g>\n    </g>\n    <g id=\"xtick_2\">\n     <g id=\"line2d_2\">\n      <g>\n       <use style=\"stroke:#000000;stroke-width:0.8;\" x=\"76.859659\" xlink:href=\"#m99c1969803\" y=\"160.803196\"/>\n      </g>\n     </g>\n     <g id=\"text_2\">\n      <!-- 10 -->\n      <g transform=\"translate(70.497159 175.401634)scale(0.1 -0.1)\">\n       <defs>\n        <path d=\"M 12.40625 8.296875 \nL 28.515625 8.296875 \nL 28.515625 63.921875 \nL 10.984375 60.40625 \nL 10.984375 69.390625 \nL 28.421875 72.90625 \nL 38.28125 72.90625 \nL 38.28125 8.296875 \nL 54.390625 8.296875 \nL 54.390625 0 \nL 12.40625 0 \nz\n\" id=\"DejaVuSans-49\"/>\n       </defs>\n       <use xlink:href=\"#DejaVuSans-49\"/>\n       <use x=\"63.623047\" xlink:href=\"#DejaVuSans-48\"/>\n      </g>\n     </g>\n    </g>\n    <g id=\"xtick_3\">\n     <g id=\"line2d_3\">\n      <g>\n       <use style=\"stroke:#000000;stroke-width:0.8;\" x=\"124.416477\" xlink:href=\"#m99c1969803\" y=\"160.803196\"/>\n      </g>\n     </g>\n     <g id=\"text_3\">\n      <!-- 20 -->\n      <g transform=\"translate(118.053977 175.401634)scale(0.1 -0.1)\">\n       <defs>\n        <path d=\"M 19.1875 8.296875 \nL 53.609375 8.296875 \nL 53.609375 0 \nL 7.328125 0 \nL 7.328125 8.296875 \nQ 12.9375 14.109375 22.625 23.890625 \nQ 32.328125 33.6875 34.8125 36.53125 \nQ 39.546875 41.84375 41.421875 45.53125 \nQ 43.3125 49.21875 43.3125 52.78125 \nQ 43.3125 58.59375 39.234375 62.25 \nQ 35.15625 65.921875 28.609375 65.921875 \nQ 23.96875 65.921875 18.8125 64.3125 \nQ 13.671875 62.703125 7.8125 59.421875 \nL 7.8125 69.390625 \nQ 13.765625 71.78125 18.9375 73 \nQ 24.125 74.21875 28.421875 74.21875 \nQ 39.75 74.21875 46.484375 68.546875 \nQ 53.21875 62.890625 53.21875 53.421875 \nQ 53.21875 48.921875 51.53125 44.890625 \nQ 49.859375 40.875 45.40625 35.40625 \nQ 44.1875 33.984375 37.640625 27.21875 \nQ 31.109375 20.453125 19.1875 8.296875 \nz\n\" id=\"DejaVuSans-50\"/>\n       </defs>\n       <use xlink:href=\"#DejaVuSans-50\"/>\n       <use x=\"63.623047\" xlink:href=\"#DejaVuSans-48\"/>\n      </g>\n     </g>\n    </g>\n    <g id=\"xtick_4\">\n     <g id=\"line2d_4\">\n      <g>\n       <use style=\"stroke:#000000;stroke-width:0.8;\" x=\"171.973295\" xlink:href=\"#m99c1969803\" y=\"160.803196\"/>\n      </g>\n     </g>\n     <g id=\"text_4\">\n      <!-- 30 -->\n      <g transform=\"translate(165.610795 175.401634)scale(0.1 -0.1)\">\n       <defs>\n        <path d=\"M 40.578125 39.3125 \nQ 47.65625 37.796875 51.625 33 \nQ 55.609375 28.21875 55.609375 21.1875 \nQ 55.609375 10.40625 48.1875 4.484375 \nQ 40.765625 -1.421875 27.09375 -1.421875 \nQ 22.515625 -1.421875 17.65625 -0.515625 \nQ 12.796875 0.390625 7.625 2.203125 \nL 7.625 11.71875 \nQ 11.71875 9.328125 16.59375 8.109375 \nQ 21.484375 6.890625 26.8125 6.890625 \nQ 36.078125 6.890625 40.9375 10.546875 \nQ 45.796875 14.203125 45.796875 21.1875 \nQ 45.796875 27.640625 41.28125 31.265625 \nQ 36.765625 34.90625 28.71875 34.90625 \nL 20.21875 34.90625 \nL 20.21875 43.015625 \nL 29.109375 43.015625 \nQ 36.375 43.015625 40.234375 45.921875 \nQ 44.09375 48.828125 44.09375 54.296875 \nQ 44.09375 59.90625 40.109375 62.90625 \nQ 36.140625 65.921875 28.71875 65.921875 \nQ 24.65625 65.921875 20.015625 65.03125 \nQ 15.375 64.15625 9.8125 62.3125 \nL 9.8125 71.09375 \nQ 15.4375 72.65625 20.34375 73.4375 \nQ 25.25 74.21875 29.59375 74.21875 \nQ 40.828125 74.21875 47.359375 69.109375 \nQ 53.90625 64.015625 53.90625 55.328125 \nQ 53.90625 49.265625 50.4375 45.09375 \nQ 46.96875 40.921875 40.578125 39.3125 \nz\n\" id=\"DejaVuSans-51\"/>\n       </defs>\n       <use xlink:href=\"#DejaVuSans-51\"/>\n       <use x=\"63.623047\" xlink:href=\"#DejaVuSans-48\"/>\n      </g>\n     </g>\n    </g>\n   </g>\n   <g id=\"matplotlib.axis_2\">\n    <g id=\"ytick_1\">\n     <g id=\"line2d_5\">\n      <defs>\n       <path d=\"M 0 0 \nL -3.5 0 \n\" id=\"md7a282b400\" style=\"stroke:#000000;stroke-width:0.8;\"/>\n      </defs>\n      <g>\n       <use style=\"stroke:#000000;stroke-width:0.8;\" x=\"26.925\" xlink:href=\"#md7a282b400\" y=\"10.999219\"/>\n      </g>\n     </g>\n     <g id=\"text_5\">\n      <!-- 0 -->\n      <g transform=\"translate(13.5625 14.798437)scale(0.1 -0.1)\">\n       <use xlink:href=\"#DejaVuSans-48\"/>\n      </g>\n     </g>\n    </g>\n    <g id=\"ytick_2\">\n     <g id=\"line2d_6\">\n      <g>\n       <use style=\"stroke:#000000;stroke-width:0.8;\" x=\"26.925\" xlink:href=\"#md7a282b400\" y=\"34.777628\"/>\n      </g>\n     </g>\n     <g id=\"text_6\">\n      <!-- 5 -->\n      <g transform=\"translate(13.5625 38.576847)scale(0.1 -0.1)\">\n       <defs>\n        <path d=\"M 10.796875 72.90625 \nL 49.515625 72.90625 \nL 49.515625 64.59375 \nL 19.828125 64.59375 \nL 19.828125 46.734375 \nQ 21.96875 47.46875 24.109375 47.828125 \nQ 26.265625 48.1875 28.421875 48.1875 \nQ 40.625 48.1875 47.75 41.5 \nQ 54.890625 34.8125 54.890625 23.390625 \nQ 54.890625 11.625 47.5625 5.09375 \nQ 40.234375 -1.421875 26.90625 -1.421875 \nQ 22.3125 -1.421875 17.546875 -0.640625 \nQ 12.796875 0.140625 7.71875 1.703125 \nL 7.71875 11.625 \nQ 12.109375 9.234375 16.796875 8.0625 \nQ 21.484375 6.890625 26.703125 6.890625 \nQ 35.15625 6.890625 40.078125 11.328125 \nQ 45.015625 15.765625 45.015625 23.390625 \nQ 45.015625 31 40.078125 35.4375 \nQ 35.15625 39.890625 26.703125 39.890625 \nQ 22.75 39.890625 18.8125 39.015625 \nQ 14.890625 38.140625 10.796875 36.28125 \nz\n\" id=\"DejaVuSans-53\"/>\n       </defs>\n       <use xlink:href=\"#DejaVuSans-53\"/>\n      </g>\n     </g>\n    </g>\n    <g id=\"ytick_3\">\n     <g id=\"line2d_7\">\n      <g>\n       <use style=\"stroke:#000000;stroke-width:0.8;\" x=\"26.925\" xlink:href=\"#md7a282b400\" y=\"58.556037\"/>\n      </g>\n     </g>\n     <g id=\"text_7\">\n      <!-- 10 -->\n      <g transform=\"translate(7.2 62.355256)scale(0.1 -0.1)\">\n       <use xlink:href=\"#DejaVuSans-49\"/>\n       <use x=\"63.623047\" xlink:href=\"#DejaVuSans-48\"/>\n      </g>\n     </g>\n    </g>\n    <g id=\"ytick_4\">\n     <g id=\"line2d_8\">\n      <g>\n       <use style=\"stroke:#000000;stroke-width:0.8;\" x=\"26.925\" xlink:href=\"#md7a282b400\" y=\"82.334446\"/>\n      </g>\n     </g>\n     <g id=\"text_8\">\n      <!-- 15 -->\n      <g transform=\"translate(7.2 86.133665)scale(0.1 -0.1)\">\n       <use xlink:href=\"#DejaVuSans-49\"/>\n       <use x=\"63.623047\" xlink:href=\"#DejaVuSans-53\"/>\n      </g>\n     </g>\n    </g>\n    <g id=\"ytick_5\">\n     <g id=\"line2d_9\">\n      <g>\n       <use style=\"stroke:#000000;stroke-width:0.8;\" x=\"26.925\" xlink:href=\"#md7a282b400\" y=\"106.112855\"/>\n      </g>\n     </g>\n     <g id=\"text_9\">\n      <!-- 20 -->\n      <g transform=\"translate(7.2 109.912074)scale(0.1 -0.1)\">\n       <use xlink:href=\"#DejaVuSans-50\"/>\n       <use x=\"63.623047\" xlink:href=\"#DejaVuSans-48\"/>\n      </g>\n     </g>\n    </g>\n    <g id=\"ytick_6\">\n     <g id=\"line2d_10\">\n      <g>\n       <use style=\"stroke:#000000;stroke-width:0.8;\" x=\"26.925\" xlink:href=\"#md7a282b400\" y=\"129.891264\"/>\n      </g>\n     </g>\n     <g id=\"text_10\">\n      <!-- 25 -->\n      <g transform=\"translate(7.2 133.690483)scale(0.1 -0.1)\">\n       <use xlink:href=\"#DejaVuSans-50\"/>\n       <use x=\"63.623047\" xlink:href=\"#DejaVuSans-53\"/>\n      </g>\n     </g>\n    </g>\n    <g id=\"ytick_7\">\n     <g id=\"line2d_11\">\n      <g>\n       <use style=\"stroke:#000000;stroke-width:0.8;\" x=\"26.925\" xlink:href=\"#md7a282b400\" y=\"153.669673\"/>\n      </g>\n     </g>\n     <g id=\"text_11\">\n      <!-- 30 -->\n      <g transform=\"translate(7.2 157.468892)scale(0.1 -0.1)\">\n       <use xlink:href=\"#DejaVuSans-51\"/>\n       <use x=\"63.623047\" xlink:href=\"#DejaVuSans-48\"/>\n      </g>\n     </g>\n    </g>\n   </g>\n   <g id=\"patch_3\">\n    <path d=\"M 26.925 160.803196 \nL 26.925 8.621378 \n\" style=\"fill:none;stroke:#000000;stroke-linecap:square;stroke-linejoin:miter;stroke-width:0.8;\"/>\n   </g>\n   <g id=\"patch_4\">\n    <path d=\"M 179.106818 160.803196 \nL 179.106818 8.621378 \n\" style=\"fill:none;stroke:#000000;stroke-linecap:square;stroke-linejoin:miter;stroke-width:0.8;\"/>\n   </g>\n   <g id=\"patch_5\">\n    <path d=\"M 26.925 160.803196 \nL 179.106818 160.803196 \n\" style=\"fill:none;stroke:#000000;stroke-linecap:square;stroke-linejoin:miter;stroke-width:0.8;\"/>\n   </g>\n   <g id=\"patch_6\">\n    <path d=\"M 26.925 8.621378 \nL 179.106818 8.621378 \n\" style=\"fill:none;stroke:#000000;stroke-linecap:square;stroke-linejoin:miter;stroke-width:0.8;\"/>\n   </g>\n  </g>\n  <g id=\"axes_2\">\n   <g id=\"patch_7\">\n    <path d=\"M 209.543182 160.803196 \nL 361.725 160.803196 \nL 361.725 8.621378 \nL 209.543182 8.621378 \nz\n\" style=\"fill:#ffffff;\"/>\n   </g>\n   <g clip-path=\"url(#pfe3247b017)\">\n    <image height=\"153\" id=\"image4c1d67a34b\" transform=\"scale(1 -1)translate(0 -153)\" width=\"153\" x=\"209.543182\" xlink:href=\"data:image/png;base64,\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\" y=\"-7.803196\"/>\n   </g>\n   <g id=\"matplotlib.axis_3\">\n    <g id=\"xtick_5\">\n     <g id=\"line2d_12\">\n      <g>\n       <use style=\"stroke:#000000;stroke-width:0.8;\" x=\"211.921023\" xlink:href=\"#m99c1969803\" y=\"160.803196\"/>\n      </g>\n     </g>\n     <g id=\"text_12\">\n      <!-- 0 -->\n      <g transform=\"translate(208.739773 175.401634)scale(0.1 -0.1)\">\n       <use xlink:href=\"#DejaVuSans-48\"/>\n      </g>\n     </g>\n    </g>\n    <g id=\"xtick_6\">\n     <g id=\"line2d_13\">\n      <g>\n       <use style=\"stroke:#000000;stroke-width:0.8;\" x=\"259.477841\" xlink:href=\"#m99c1969803\" y=\"160.803196\"/>\n      </g>\n     </g>\n     <g id=\"text_13\">\n      <!-- 10 -->\n      <g transform=\"translate(253.115341 175.401634)scale(0.1 -0.1)\">\n       <use xlink:href=\"#DejaVuSans-49\"/>\n       <use x=\"63.623047\" xlink:href=\"#DejaVuSans-48\"/>\n      </g>\n     </g>\n    </g>\n    <g id=\"xtick_7\">\n     <g id=\"line2d_14\">\n      <g>\n       <use style=\"stroke:#000000;stroke-width:0.8;\" x=\"307.034659\" xlink:href=\"#m99c1969803\" y=\"160.803196\"/>\n      </g>\n     </g>\n     <g id=\"text_14\">\n      <!-- 20 -->\n      <g transform=\"translate(300.672159 175.401634)scale(0.1 -0.1)\">\n       <use xlink:href=\"#DejaVuSans-50\"/>\n       <use x=\"63.623047\" xlink:href=\"#DejaVuSans-48\"/>\n      </g>\n     </g>\n    </g>\n    <g id=\"xtick_8\">\n     <g id=\"line2d_15\">\n      <g>\n       <use style=\"stroke:#000000;stroke-width:0.8;\" x=\"354.591477\" xlink:href=\"#m99c1969803\" y=\"160.803196\"/>\n      </g>\n     </g>\n     <g id=\"text_15\">\n      <!-- 30 -->\n      <g transform=\"translate(348.228977 175.401634)scale(0.1 -0.1)\">\n       <use xlink:href=\"#DejaVuSans-51\"/>\n       <use x=\"63.623047\" xlink:href=\"#DejaVuSans-48\"/>\n      </g>\n     </g>\n    </g>\n   </g>\n   <g id=\"matplotlib.axis_4\">\n    <g id=\"ytick_8\">\n     <g id=\"line2d_16\">\n      <g>\n       <use style=\"stroke:#000000;stroke-width:0.8;\" x=\"209.543182\" xlink:href=\"#md7a282b400\" y=\"10.999219\"/>\n      </g>\n     </g>\n     <g id=\"text_16\">\n      <!-- 0 -->\n      <g transform=\"translate(196.180682 14.798437)scale(0.1 -0.1)\">\n       <use xlink:href=\"#DejaVuSans-48\"/>\n      </g>\n     </g>\n    </g>\n    <g id=\"ytick_9\">\n     <g id=\"line2d_17\">\n      <g>\n       <use style=\"stroke:#000000;stroke-width:0.8;\" x=\"209.543182\" xlink:href=\"#md7a282b400\" y=\"34.777628\"/>\n      </g>\n     </g>\n     <g id=\"text_17\">\n      <!-- 5 -->\n      <g transform=\"translate(196.180682 38.576847)scale(0.1 -0.1)\">\n       <use xlink:href=\"#DejaVuSans-53\"/>\n      </g>\n     </g>\n    </g>\n    <g id=\"ytick_10\">\n     <g id=\"line2d_18\">\n      <g>\n       <use style=\"stroke:#000000;stroke-width:0.8;\" x=\"209.543182\" xlink:href=\"#md7a282b400\" y=\"58.556037\"/>\n      </g>\n     </g>\n     <g id=\"text_18\">\n      <!-- 10 -->\n      <g transform=\"translate(189.818182 62.355256)scale(0.1 -0.1)\">\n       <use xlink:href=\"#DejaVuSans-49\"/>\n       <use x=\"63.623047\" xlink:href=\"#DejaVuSans-48\"/>\n      </g>\n     </g>\n    </g>\n    <g id=\"ytick_11\">\n     <g id=\"line2d_19\">\n      <g>\n       <use style=\"stroke:#000000;stroke-width:0.8;\" x=\"209.543182\" xlink:href=\"#md7a282b400\" y=\"82.334446\"/>\n      </g>\n     </g>\n     <g id=\"text_19\">\n      <!-- 15 -->\n      <g transform=\"translate(189.818182 86.133665)scale(0.1 -0.1)\">\n       <use xlink:href=\"#DejaVuSans-49\"/>\n       <use x=\"63.623047\" xlink:href=\"#DejaVuSans-53\"/>\n      </g>\n     </g>\n    </g>\n    <g id=\"ytick_12\">\n     <g id=\"line2d_20\">\n      <g>\n       <use style=\"stroke:#000000;stroke-width:0.8;\" x=\"209.543182\" xlink:href=\"#md7a282b400\" y=\"106.112855\"/>\n      </g>\n     </g>\n     <g id=\"text_20\">\n      <!-- 20 -->\n      <g transform=\"translate(189.818182 109.912074)scale(0.1 -0.1)\">\n       <use xlink:href=\"#DejaVuSans-50\"/>\n       <use x=\"63.623047\" xlink:href=\"#DejaVuSans-48\"/>\n      </g>\n     </g>\n    </g>\n    <g id=\"ytick_13\">\n     <g id=\"line2d_21\">\n      <g>\n       <use style=\"stroke:#000000;stroke-width:0.8;\" x=\"209.543182\" xlink:href=\"#md7a282b400\" y=\"129.891264\"/>\n      </g>\n     </g>\n     <g id=\"text_21\">\n      <!-- 25 -->\n      <g transform=\"translate(189.818182 133.690483)scale(0.1 -0.1)\">\n       <use xlink:href=\"#DejaVuSans-50\"/>\n       <use x=\"63.623047\" xlink:href=\"#DejaVuSans-53\"/>\n      </g>\n     </g>\n    </g>\n    <g id=\"ytick_14\">\n     <g id=\"line2d_22\">\n      <g>\n       <use style=\"stroke:#000000;stroke-width:0.8;\" x=\"209.543182\" xlink:href=\"#md7a282b400\" y=\"153.669673\"/>\n      </g>\n     </g>\n     <g id=\"text_22\">\n      <!-- 30 -->\n      <g transform=\"translate(189.818182 157.468892)scale(0.1 -0.1)\">\n       <use xlink:href=\"#DejaVuSans-51\"/>\n       <use x=\"63.623047\" xlink:href=\"#DejaVuSans-48\"/>\n      </g>\n     </g>\n    </g>\n   </g>\n   <g id=\"patch_8\">\n    <path d=\"M 209.543182 160.803196 \nL 209.543182 8.621378 \n\" style=\"fill:none;stroke:#000000;stroke-linecap:square;stroke-linejoin:miter;stroke-width:0.8;\"/>\n   </g>\n   <g id=\"patch_9\">\n    <path d=\"M 361.725 160.803196 \nL 361.725 8.621378 \n\" style=\"fill:none;stroke:#000000;stroke-linecap:square;stroke-linejoin:miter;stroke-width:0.8;\"/>\n   </g>\n   <g id=\"patch_10\">\n    <path d=\"M 209.543182 160.803196 \nL 361.725 160.803196 \n\" style=\"fill:none;stroke:#000000;stroke-linecap:square;stroke-linejoin:miter;stroke-width:0.8;\"/>\n   </g>\n   <g id=\"patch_11\">\n    <path d=\"M 209.543182 8.621378 \nL 361.725 8.621378 \n\" style=\"fill:none;stroke:#000000;stroke-linecap:square;stroke-linejoin:miter;stroke-width:0.8;\"/>\n   </g>\n  </g>\n </g>\n <defs>\n  <clipPath id=\"p0092e8ecb1\">\n   <rect height=\"152.181818\" width=\"152.181818\" x=\"26.925\" y=\"8.621378\"/>\n  </clipPath>\n  <clipPath id=\"pfe3247b017\">\n   <rect height=\"152.181818\" width=\"152.181818\" x=\"209.543182\" y=\"8.621378\"/>\n  </clipPath>\n </defs>\n</svg>\n",
      "image/png": "[encoded data removed]"
     },
     "metadata": {
      "needs_background": "light"
     }
    }
   ],
   "source": [
    "batch = next(iter(dataset))\n",
    "batch_augmented = augmentation(batch)\n",
    "fix, (axis1, axis2) = plt.subplots(1, 2)\n",
    "axis1.imshow(batch[0])\n",
    "axis2.imshow(batch_augmented[0])"
   ]
  },
  {
   "cell_type": "markdown",
   "metadata": {},
   "source": [
    "## Encoder \n",
    "Build the encoder. We use a ResNet18 backbone, with the final layer removed, and passed through a dense layer onto 2048-dimensional space"
   ]
  },
  {
   "cell_type": "code",
   "execution_count": 11,
   "id": "bd5a556e",
   "metadata": {},
   "outputs": [],
   "source": [
    "def get_encoder():\n",
    "    model = ResNet18(10)\n",
    "    encoder = tf.keras.Sequential(model.layers[:-1])\n",
    "    # encoder = tf.keras.Sequential([\n",
    "    #     encoder, \n",
    "    #     tf.keras.layers.ReLU(), \n",
    "    #     tf.keras.layers.Dense(2048)\n",
    "    # ])\n",
    "    return encoder\n",
    "\n",
    "encoder = get_encoder()"
   ]
  },
  {
   "cell_type": "markdown",
   "metadata": {},
   "source": [
    "Take a look at the encoder network: first, we must build the network by calling it on a batch of data"
   ]
  },
  {
   "cell_type": "code",
   "execution_count": 12,
   "metadata": {
    "tags": []
   },
   "outputs": [
    {
     "output_type": "stream",
     "name": "stdout",
     "text": "Model: \"sequential_26\"\n_________________________________________________________________\nLayer (type)                 Output Shape              Param #   \n=================================================================\nconv2d_20 (Conv2D)           (64, 32, 32, 64)          1728      \n_________________________________________________________________\nbatch_normalization_20 (Batc (64, 32, 32, 64)          256       \n_________________________________________________________________\nsequential_16 (Sequential)   (64, 32, 32, 64)          148480    \n_________________________________________________________________\nsequential_19 (Sequential)   (64, 16, 16, 128)         526848    \n_________________________________________________________________\nsequential_22 (Sequential)   (64, 8, 8, 256)           2102272   \n_________________________________________________________________\nsequential_25 (Sequential)   (64, 4, 4, 512)           8398848   \n_________________________________________________________________\nflatten_1 (Flatten)          (64, 8192)                0         \n=================================================================\nTotal params: 11,178,432\nTrainable params: 11,168,832\nNon-trainable params: 9,600\n_________________________________________________________________\ninput shape: (64, 32, 32, 3)\noutput shape: (64, 8192)\n"
    }
   ],
   "source": [
    "batch = next(iter(dataset))\n",
    "output = encoder(batch)\n",
    "encoder.summary()\n",
    "print(f'input shape: {batch.shape}')\n",
    "print(f'output shape: {output.shape}')\n"
   ]
  },
  {
   "cell_type": "markdown",
   "metadata": {},
   "source": [
    "We see that the network maps images of size 32 x 32 x 3 to representations of 2048 dimensions. Our goal is to pretrain this encoder by learning good representations."
   ]
  },
  {
   "cell_type": "markdown",
   "metadata": {},
   "source": [
    "## Projection head \n",
    "\n",
    "SimCLR requires a projection head which projects the high-dimensional representation onto a lower-dimensional embedding space. Here we use a simple multi-layer perceptron which maps from the 2048-dimensional representation space to a 265-dimensional embedding space: "
   ]
  },
  {
   "cell_type": "code",
   "execution_count": 17,
   "metadata": {},
   "outputs": [],
   "source": [
    "def get_projection_head():\n",
    "\n",
    "    projection_head = tf.keras.Sequential([\n",
    "        Dense(1024, activation='relu'),\n",
    "        tf.keras.layers.Dropout(0.5),\n",
    "        Dense(512, activation='relu'),\n",
    "        tf.keras.layers.Dropout(0.5),\n",
    "        Dense(256)\n",
    "    ])\n",
    "\n",
    "    return projection_head\n",
    "\n",
    "projection_head = get_projection_head()"
   ]
  },
  {
   "cell_type": "markdown",
   "metadata": {},
   "source": [
    "## Building and training the SimCLR Model"
   ]
  },
  {
   "cell_type": "code",
   "execution_count": 26,
   "metadata": {},
   "outputs": [],
   "source": [
    "sim_clr_model = SimCLR(encoder, augmentation, projection_head, temperature=0.07)"
   ]
  },
  {
   "cell_type": "code",
   "execution_count": 23,
   "metadata": {
    "tags": []
   },
   "outputs": [
    {
     "output_type": "stream",
     "name": "stdout",
     "text": "Model: \"sim_clr_2\"\n_________________________________________________________________\nLayer (type)                 Output Shape              Param #   \n=================================================================\nsequential_26 (Sequential)   (None, 8192)              11178432  \n_________________________________________________________________\nsequential_29 (Sequential)   (128, 256)                9045760   \n_________________________________________________________________\nmy_augmentation (MyAugmentat multiple                  0         \n_________________________________________________________________\nsim_clr_logits_from_embeddin multiple                  0         \n=================================================================\nTotal params: 20,224,192\nTrainable params: 20,214,592\nNon-trainable params: 9,600\n_________________________________________________________________\n"
    }
   ],
   "source": [
    "sim_clr_model(next(iter(dataset)))\n",
    "sim_clr_model.summary()"
   ]
  },
  {
   "cell_type": "markdown",
   "metadata": {},
   "source": [
    "The following cell performs the unsupervised pre-training:"
   ]
  },
  {
   "cell_type": "code",
   "execution_count": 10,
   "metadata": {
    "tags": []
   },
   "outputs": [
    {
     "output_type": "stream",
     "name": "stdout",
     "text": "Epoch 1/10\n234/234 [==============================] - 170s 699ms/step - SimCLR_loss: 5.4967 - SimCLR_accuracy: 0.1664\nEpoch 2/10\n234/234 [==============================] - 166s 709ms/step - SimCLR_loss: 5.4395 - SimCLR_accuracy: 0.2481\nEpoch 3/10\n234/234 [==============================] - 159s 677ms/step - SimCLR_loss: 5.4195 - SimCLR_accuracy: 0.3023\nEpoch 4/10\n201/234 [========================>.....] - ETA: 21s - SimCLR_loss: 5.4048 - SimCLR_accuracy: 0.3379"
    },
    {
     "output_type": "error",
     "ename": "KeyboardInterrupt",
     "evalue": "",
     "traceback": [
      "\u001b[0;31m---------------------------------------------------------------------------\u001b[0m",
      "\u001b[0;31mKeyboardInterrupt\u001b[0m                         Traceback (most recent call last)",
      "\u001b[0;32m<ipython-input-10-d31f4349ec3e>\u001b[0m in \u001b[0;36m<module>\u001b[0;34m\u001b[0m\n\u001b[1;32m      9\u001b[0m \u001b[0mdataset\u001b[0m \u001b[0;34m=\u001b[0m \u001b[0mdataset\u001b[0m\u001b[0;34m.\u001b[0m\u001b[0mtake\u001b[0m\u001b[0;34m(\u001b[0m\u001b[0mlen\u001b[0m\u001b[0;34m(\u001b[0m\u001b[0mdataset\u001b[0m\u001b[0;34m)\u001b[0m\u001b[0;34m-\u001b[0m\u001b[0;36m1\u001b[0m\u001b[0;34m)\u001b[0m\u001b[0;34m\u001b[0m\u001b[0;34m\u001b[0m\u001b[0m\n\u001b[1;32m     10\u001b[0m \u001b[0;34m\u001b[0m\u001b[0m\n\u001b[0;32m---> 11\u001b[0;31m \u001b[0msim_clr_model\u001b[0m\u001b[0;34m.\u001b[0m\u001b[0mfit\u001b[0m\u001b[0;34m(\u001b[0m\u001b[0mdataset\u001b[0m\u001b[0;34m,\u001b[0m \u001b[0mepochs\u001b[0m\u001b[0;34m=\u001b[0m\u001b[0mEPOCHS\u001b[0m\u001b[0;34m)\u001b[0m\u001b[0;34m\u001b[0m\u001b[0;34m\u001b[0m\u001b[0m\n\u001b[0m",
      "\u001b[0;32m~/Desktop/CISC867/viewmaker_reproduction/env/lib/python3.6/site-packages/keras/engine/training.py\u001b[0m in \u001b[0;36mfit\u001b[0;34m(self, x, y, batch_size, epochs, verbose, callbacks, validation_split, validation_data, shuffle, class_weight, sample_weight, initial_epoch, steps_per_epoch, validation_steps, validation_batch_size, validation_freq, max_queue_size, workers, use_multiprocessing)\u001b[0m\n\u001b[1;32m   1187\u001b[0m               \u001b[0mlogs\u001b[0m \u001b[0;34m=\u001b[0m \u001b[0mtmp_logs\u001b[0m  \u001b[0;31m# No error, now safe to assign to logs.\u001b[0m\u001b[0;34m\u001b[0m\u001b[0;34m\u001b[0m\u001b[0m\n\u001b[1;32m   1188\u001b[0m               \u001b[0mend_step\u001b[0m \u001b[0;34m=\u001b[0m \u001b[0mstep\u001b[0m \u001b[0;34m+\u001b[0m \u001b[0mdata_handler\u001b[0m\u001b[0;34m.\u001b[0m\u001b[0mstep_increment\u001b[0m\u001b[0;34m\u001b[0m\u001b[0;34m\u001b[0m\u001b[0m\n\u001b[0;32m-> 1189\u001b[0;31m               \u001b[0mcallbacks\u001b[0m\u001b[0;34m.\u001b[0m\u001b[0mon_train_batch_end\u001b[0m\u001b[0;34m(\u001b[0m\u001b[0mend_step\u001b[0m\u001b[0;34m,\u001b[0m \u001b[0mlogs\u001b[0m\u001b[0;34m)\u001b[0m\u001b[0;34m\u001b[0m\u001b[0;34m\u001b[0m\u001b[0m\n\u001b[0m\u001b[1;32m   1190\u001b[0m               \u001b[0;32mif\u001b[0m \u001b[0mself\u001b[0m\u001b[0;34m.\u001b[0m\u001b[0mstop_training\u001b[0m\u001b[0;34m:\u001b[0m\u001b[0;34m\u001b[0m\u001b[0;34m\u001b[0m\u001b[0m\n\u001b[1;32m   1191\u001b[0m                 \u001b[0;32mbreak\u001b[0m\u001b[0;34m\u001b[0m\u001b[0;34m\u001b[0m\u001b[0m\n",
      "\u001b[0;32m~/Desktop/CISC867/viewmaker_reproduction/env/lib/python3.6/site-packages/keras/callbacks.py\u001b[0m in \u001b[0;36mon_train_batch_end\u001b[0;34m(self, batch, logs)\u001b[0m\n\u001b[1;32m    433\u001b[0m     \"\"\"\n\u001b[1;32m    434\u001b[0m     \u001b[0;32mif\u001b[0m \u001b[0mself\u001b[0m\u001b[0;34m.\u001b[0m\u001b[0m_should_call_train_batch_hooks\u001b[0m\u001b[0;34m:\u001b[0m\u001b[0;34m\u001b[0m\u001b[0;34m\u001b[0m\u001b[0m\n\u001b[0;32m--> 435\u001b[0;31m       \u001b[0mself\u001b[0m\u001b[0;34m.\u001b[0m\u001b[0m_call_batch_hook\u001b[0m\u001b[0;34m(\u001b[0m\u001b[0mModeKeys\u001b[0m\u001b[0;34m.\u001b[0m\u001b[0mTRAIN\u001b[0m\u001b[0;34m,\u001b[0m \u001b[0;34m'end'\u001b[0m\u001b[0;34m,\u001b[0m \u001b[0mbatch\u001b[0m\u001b[0;34m,\u001b[0m \u001b[0mlogs\u001b[0m\u001b[0;34m=\u001b[0m\u001b[0mlogs\u001b[0m\u001b[0;34m)\u001b[0m\u001b[0;34m\u001b[0m\u001b[0;34m\u001b[0m\u001b[0m\n\u001b[0m\u001b[1;32m    436\u001b[0m \u001b[0;34m\u001b[0m\u001b[0m\n\u001b[1;32m    437\u001b[0m   \u001b[0;32mdef\u001b[0m \u001b[0mon_test_batch_begin\u001b[0m\u001b[0;34m(\u001b[0m\u001b[0mself\u001b[0m\u001b[0;34m,\u001b[0m \u001b[0mbatch\u001b[0m\u001b[0;34m,\u001b[0m \u001b[0mlogs\u001b[0m\u001b[0;34m=\u001b[0m\u001b[0;32mNone\u001b[0m\u001b[0;34m)\u001b[0m\u001b[0;34m:\u001b[0m\u001b[0;34m\u001b[0m\u001b[0;34m\u001b[0m\u001b[0m\n",
      "\u001b[0;32m~/Desktop/CISC867/viewmaker_reproduction/env/lib/python3.6/site-packages/keras/callbacks.py\u001b[0m in \u001b[0;36m_call_batch_hook\u001b[0;34m(self, mode, hook, batch, logs)\u001b[0m\n\u001b[1;32m    293\u001b[0m       \u001b[0mself\u001b[0m\u001b[0;34m.\u001b[0m\u001b[0m_call_batch_begin_hook\u001b[0m\u001b[0;34m(\u001b[0m\u001b[0mmode\u001b[0m\u001b[0;34m,\u001b[0m \u001b[0mbatch\u001b[0m\u001b[0;34m,\u001b[0m \u001b[0mlogs\u001b[0m\u001b[0;34m)\u001b[0m\u001b[0;34m\u001b[0m\u001b[0;34m\u001b[0m\u001b[0m\n\u001b[1;32m    294\u001b[0m     \u001b[0;32melif\u001b[0m \u001b[0mhook\u001b[0m \u001b[0;34m==\u001b[0m \u001b[0;34m'end'\u001b[0m\u001b[0;34m:\u001b[0m\u001b[0;34m\u001b[0m\u001b[0;34m\u001b[0m\u001b[0m\n\u001b[0;32m--> 295\u001b[0;31m       \u001b[0mself\u001b[0m\u001b[0;34m.\u001b[0m\u001b[0m_call_batch_end_hook\u001b[0m\u001b[0;34m(\u001b[0m\u001b[0mmode\u001b[0m\u001b[0;34m,\u001b[0m \u001b[0mbatch\u001b[0m\u001b[0;34m,\u001b[0m \u001b[0mlogs\u001b[0m\u001b[0;34m)\u001b[0m\u001b[0;34m\u001b[0m\u001b[0;34m\u001b[0m\u001b[0m\n\u001b[0m\u001b[1;32m    296\u001b[0m     \u001b[0;32melse\u001b[0m\u001b[0;34m:\u001b[0m\u001b[0;34m\u001b[0m\u001b[0;34m\u001b[0m\u001b[0m\n\u001b[1;32m    297\u001b[0m       \u001b[0;32mraise\u001b[0m \u001b[0mValueError\u001b[0m\u001b[0;34m(\u001b[0m\u001b[0;34m'Unrecognized hook: {}'\u001b[0m\u001b[0;34m.\u001b[0m\u001b[0mformat\u001b[0m\u001b[0;34m(\u001b[0m\u001b[0mhook\u001b[0m\u001b[0;34m)\u001b[0m\u001b[0;34m)\u001b[0m\u001b[0;34m\u001b[0m\u001b[0;34m\u001b[0m\u001b[0m\n",
      "\u001b[0;32m~/Desktop/CISC867/viewmaker_reproduction/env/lib/python3.6/site-packages/keras/callbacks.py\u001b[0m in \u001b[0;36m_call_batch_end_hook\u001b[0;34m(self, mode, batch, logs)\u001b[0m\n\u001b[1;32m    313\u001b[0m       \u001b[0mself\u001b[0m\u001b[0;34m.\u001b[0m\u001b[0m_batch_times\u001b[0m\u001b[0;34m.\u001b[0m\u001b[0mappend\u001b[0m\u001b[0;34m(\u001b[0m\u001b[0mbatch_time\u001b[0m\u001b[0;34m)\u001b[0m\u001b[0;34m\u001b[0m\u001b[0;34m\u001b[0m\u001b[0m\n\u001b[1;32m    314\u001b[0m \u001b[0;34m\u001b[0m\u001b[0m\n\u001b[0;32m--> 315\u001b[0;31m     \u001b[0mself\u001b[0m\u001b[0;34m.\u001b[0m\u001b[0m_call_batch_hook_helper\u001b[0m\u001b[0;34m(\u001b[0m\u001b[0mhook_name\u001b[0m\u001b[0;34m,\u001b[0m \u001b[0mbatch\u001b[0m\u001b[0;34m,\u001b[0m \u001b[0mlogs\u001b[0m\u001b[0;34m)\u001b[0m\u001b[0;34m\u001b[0m\u001b[0;34m\u001b[0m\u001b[0m\n\u001b[0m\u001b[1;32m    316\u001b[0m \u001b[0;34m\u001b[0m\u001b[0m\n\u001b[1;32m    317\u001b[0m     \u001b[0;32mif\u001b[0m \u001b[0mlen\u001b[0m\u001b[0;34m(\u001b[0m\u001b[0mself\u001b[0m\u001b[0;34m.\u001b[0m\u001b[0m_batch_times\u001b[0m\u001b[0;34m)\u001b[0m \u001b[0;34m>=\u001b[0m \u001b[0mself\u001b[0m\u001b[0;34m.\u001b[0m\u001b[0m_num_batches_for_timing_check\u001b[0m\u001b[0;34m:\u001b[0m\u001b[0;34m\u001b[0m\u001b[0;34m\u001b[0m\u001b[0m\n",
      "\u001b[0;32m~/Desktop/CISC867/viewmaker_reproduction/env/lib/python3.6/site-packages/keras/callbacks.py\u001b[0m in \u001b[0;36m_call_batch_hook_helper\u001b[0;34m(self, hook_name, batch, logs)\u001b[0m\n\u001b[1;32m    351\u001b[0m     \u001b[0;32mfor\u001b[0m \u001b[0mcallback\u001b[0m \u001b[0;32min\u001b[0m \u001b[0mself\u001b[0m\u001b[0;34m.\u001b[0m\u001b[0mcallbacks\u001b[0m\u001b[0;34m:\u001b[0m\u001b[0;34m\u001b[0m\u001b[0;34m\u001b[0m\u001b[0m\n\u001b[1;32m    352\u001b[0m       \u001b[0mhook\u001b[0m \u001b[0;34m=\u001b[0m \u001b[0mgetattr\u001b[0m\u001b[0;34m(\u001b[0m\u001b[0mcallback\u001b[0m\u001b[0;34m,\u001b[0m \u001b[0mhook_name\u001b[0m\u001b[0;34m)\u001b[0m\u001b[0;34m\u001b[0m\u001b[0;34m\u001b[0m\u001b[0m\n\u001b[0;32m--> 353\u001b[0;31m       \u001b[0mhook\u001b[0m\u001b[0;34m(\u001b[0m\u001b[0mbatch\u001b[0m\u001b[0;34m,\u001b[0m \u001b[0mlogs\u001b[0m\u001b[0;34m)\u001b[0m\u001b[0;34m\u001b[0m\u001b[0;34m\u001b[0m\u001b[0m\n\u001b[0m\u001b[1;32m    354\u001b[0m \u001b[0;34m\u001b[0m\u001b[0m\n\u001b[1;32m    355\u001b[0m     \u001b[0;32mif\u001b[0m \u001b[0mself\u001b[0m\u001b[0;34m.\u001b[0m\u001b[0m_check_timing\u001b[0m\u001b[0;34m:\u001b[0m\u001b[0;34m\u001b[0m\u001b[0;34m\u001b[0m\u001b[0m\n",
      "\u001b[0;32m~/Desktop/CISC867/viewmaker_reproduction/env/lib/python3.6/site-packages/keras/callbacks.py\u001b[0m in \u001b[0;36mon_train_batch_end\u001b[0;34m(self, batch, logs)\u001b[0m\n\u001b[1;32m   1026\u001b[0m \u001b[0;34m\u001b[0m\u001b[0m\n\u001b[1;32m   1027\u001b[0m   \u001b[0;32mdef\u001b[0m \u001b[0mon_train_batch_end\u001b[0m\u001b[0;34m(\u001b[0m\u001b[0mself\u001b[0m\u001b[0;34m,\u001b[0m \u001b[0mbatch\u001b[0m\u001b[0;34m,\u001b[0m \u001b[0mlogs\u001b[0m\u001b[0;34m=\u001b[0m\u001b[0;32mNone\u001b[0m\u001b[0;34m)\u001b[0m\u001b[0;34m:\u001b[0m\u001b[0;34m\u001b[0m\u001b[0;34m\u001b[0m\u001b[0m\n\u001b[0;32m-> 1028\u001b[0;31m     \u001b[0mself\u001b[0m\u001b[0;34m.\u001b[0m\u001b[0m_batch_update_progbar\u001b[0m\u001b[0;34m(\u001b[0m\u001b[0mbatch\u001b[0m\u001b[0;34m,\u001b[0m \u001b[0mlogs\u001b[0m\u001b[0;34m)\u001b[0m\u001b[0;34m\u001b[0m\u001b[0;34m\u001b[0m\u001b[0m\n\u001b[0m\u001b[1;32m   1029\u001b[0m \u001b[0;34m\u001b[0m\u001b[0m\n\u001b[1;32m   1030\u001b[0m   \u001b[0;32mdef\u001b[0m \u001b[0mon_test_batch_end\u001b[0m\u001b[0;34m(\u001b[0m\u001b[0mself\u001b[0m\u001b[0;34m,\u001b[0m \u001b[0mbatch\u001b[0m\u001b[0;34m,\u001b[0m \u001b[0mlogs\u001b[0m\u001b[0;34m=\u001b[0m\u001b[0;32mNone\u001b[0m\u001b[0;34m)\u001b[0m\u001b[0;34m:\u001b[0m\u001b[0;34m\u001b[0m\u001b[0;34m\u001b[0m\u001b[0m\n",
      "\u001b[0;32m~/Desktop/CISC867/viewmaker_reproduction/env/lib/python3.6/site-packages/keras/callbacks.py\u001b[0m in \u001b[0;36m_batch_update_progbar\u001b[0;34m(self, batch, logs)\u001b[0m\n\u001b[1;32m   1098\u001b[0m     \u001b[0;32mif\u001b[0m \u001b[0mself\u001b[0m\u001b[0;34m.\u001b[0m\u001b[0mverbose\u001b[0m \u001b[0;34m==\u001b[0m \u001b[0;36m1\u001b[0m\u001b[0;34m:\u001b[0m\u001b[0;34m\u001b[0m\u001b[0;34m\u001b[0m\u001b[0m\n\u001b[1;32m   1099\u001b[0m       \u001b[0;31m# Only block async when verbose = 1.\u001b[0m\u001b[0;34m\u001b[0m\u001b[0;34m\u001b[0m\u001b[0;34m\u001b[0m\u001b[0m\n\u001b[0;32m-> 1100\u001b[0;31m       \u001b[0mlogs\u001b[0m \u001b[0;34m=\u001b[0m \u001b[0mtf_utils\u001b[0m\u001b[0;34m.\u001b[0m\u001b[0msync_to_numpy_or_python_type\u001b[0m\u001b[0;34m(\u001b[0m\u001b[0mlogs\u001b[0m\u001b[0;34m)\u001b[0m\u001b[0;34m\u001b[0m\u001b[0;34m\u001b[0m\u001b[0m\n\u001b[0m\u001b[1;32m   1101\u001b[0m       \u001b[0mself\u001b[0m\u001b[0;34m.\u001b[0m\u001b[0mprogbar\u001b[0m\u001b[0;34m.\u001b[0m\u001b[0mupdate\u001b[0m\u001b[0;34m(\u001b[0m\u001b[0mself\u001b[0m\u001b[0;34m.\u001b[0m\u001b[0mseen\u001b[0m\u001b[0;34m,\u001b[0m \u001b[0mlist\u001b[0m\u001b[0;34m(\u001b[0m\u001b[0mlogs\u001b[0m\u001b[0;34m.\u001b[0m\u001b[0mitems\u001b[0m\u001b[0;34m(\u001b[0m\u001b[0;34m)\u001b[0m\u001b[0;34m)\u001b[0m\u001b[0;34m,\u001b[0m \u001b[0mfinalize\u001b[0m\u001b[0;34m=\u001b[0m\u001b[0;32mFalse\u001b[0m\u001b[0;34m)\u001b[0m\u001b[0;34m\u001b[0m\u001b[0;34m\u001b[0m\u001b[0m\n\u001b[1;32m   1102\u001b[0m \u001b[0;34m\u001b[0m\u001b[0m\n",
      "\u001b[0;32m~/Desktop/CISC867/viewmaker_reproduction/env/lib/python3.6/site-packages/keras/utils/tf_utils.py\u001b[0m in \u001b[0;36msync_to_numpy_or_python_type\u001b[0;34m(tensors)\u001b[0m\n\u001b[1;32m    514\u001b[0m     \u001b[0;32mreturn\u001b[0m \u001b[0mt\u001b[0m  \u001b[0;31m# Don't turn ragged or sparse tensors to NumPy.\u001b[0m\u001b[0;34m\u001b[0m\u001b[0;34m\u001b[0m\u001b[0m\n\u001b[1;32m    515\u001b[0m \u001b[0;34m\u001b[0m\u001b[0m\n\u001b[0;32m--> 516\u001b[0;31m   \u001b[0;32mreturn\u001b[0m \u001b[0mtf\u001b[0m\u001b[0;34m.\u001b[0m\u001b[0mnest\u001b[0m\u001b[0;34m.\u001b[0m\u001b[0mmap_structure\u001b[0m\u001b[0;34m(\u001b[0m\u001b[0m_to_single_numpy_or_python_type\u001b[0m\u001b[0;34m,\u001b[0m \u001b[0mtensors\u001b[0m\u001b[0;34m)\u001b[0m\u001b[0;34m\u001b[0m\u001b[0;34m\u001b[0m\u001b[0m\n\u001b[0m\u001b[1;32m    517\u001b[0m \u001b[0;34m\u001b[0m\u001b[0m\n\u001b[1;32m    518\u001b[0m \u001b[0;34m\u001b[0m\u001b[0m\n",
      "\u001b[0;32m~/Desktop/CISC867/viewmaker_reproduction/env/lib/python3.6/site-packages/tensorflow/python/util/nest.py\u001b[0m in \u001b[0;36mmap_structure\u001b[0;34m(func, *structure, **kwargs)\u001b[0m\n\u001b[1;32m    867\u001b[0m \u001b[0;34m\u001b[0m\u001b[0m\n\u001b[1;32m    868\u001b[0m   return pack_sequence_as(\n\u001b[0;32m--> 869\u001b[0;31m       \u001b[0mstructure\u001b[0m\u001b[0;34m[\u001b[0m\u001b[0;36m0\u001b[0m\u001b[0;34m]\u001b[0m\u001b[0;34m,\u001b[0m \u001b[0;34m[\u001b[0m\u001b[0mfunc\u001b[0m\u001b[0;34m(\u001b[0m\u001b[0;34m*\u001b[0m\u001b[0mx\u001b[0m\u001b[0;34m)\u001b[0m \u001b[0;32mfor\u001b[0m \u001b[0mx\u001b[0m \u001b[0;32min\u001b[0m \u001b[0mentries\u001b[0m\u001b[0;34m]\u001b[0m\u001b[0;34m,\u001b[0m\u001b[0;34m\u001b[0m\u001b[0;34m\u001b[0m\u001b[0m\n\u001b[0m\u001b[1;32m    870\u001b[0m       expand_composites=expand_composites)\n\u001b[1;32m    871\u001b[0m \u001b[0;34m\u001b[0m\u001b[0m\n",
      "\u001b[0;32m~/Desktop/CISC867/viewmaker_reproduction/env/lib/python3.6/site-packages/tensorflow/python/util/nest.py\u001b[0m in \u001b[0;36m<listcomp>\u001b[0;34m(.0)\u001b[0m\n\u001b[1;32m    867\u001b[0m \u001b[0;34m\u001b[0m\u001b[0m\n\u001b[1;32m    868\u001b[0m   return pack_sequence_as(\n\u001b[0;32m--> 869\u001b[0;31m       \u001b[0mstructure\u001b[0m\u001b[0;34m[\u001b[0m\u001b[0;36m0\u001b[0m\u001b[0;34m]\u001b[0m\u001b[0;34m,\u001b[0m \u001b[0;34m[\u001b[0m\u001b[0mfunc\u001b[0m\u001b[0;34m(\u001b[0m\u001b[0;34m*\u001b[0m\u001b[0mx\u001b[0m\u001b[0;34m)\u001b[0m \u001b[0;32mfor\u001b[0m \u001b[0mx\u001b[0m \u001b[0;32min\u001b[0m \u001b[0mentries\u001b[0m\u001b[0;34m]\u001b[0m\u001b[0;34m,\u001b[0m\u001b[0;34m\u001b[0m\u001b[0;34m\u001b[0m\u001b[0m\n\u001b[0m\u001b[1;32m    870\u001b[0m       expand_composites=expand_composites)\n\u001b[1;32m    871\u001b[0m \u001b[0;34m\u001b[0m\u001b[0m\n",
      "\u001b[0;32m~/Desktop/CISC867/viewmaker_reproduction/env/lib/python3.6/site-packages/keras/utils/tf_utils.py\u001b[0m in \u001b[0;36m_to_single_numpy_or_python_type\u001b[0;34m(t)\u001b[0m\n\u001b[1;32m    510\u001b[0m   \u001b[0;32mdef\u001b[0m \u001b[0m_to_single_numpy_or_python_type\u001b[0m\u001b[0;34m(\u001b[0m\u001b[0mt\u001b[0m\u001b[0;34m)\u001b[0m\u001b[0;34m:\u001b[0m\u001b[0;34m\u001b[0m\u001b[0;34m\u001b[0m\u001b[0m\n\u001b[1;32m    511\u001b[0m     \u001b[0;32mif\u001b[0m \u001b[0misinstance\u001b[0m\u001b[0;34m(\u001b[0m\u001b[0mt\u001b[0m\u001b[0;34m,\u001b[0m \u001b[0mtf\u001b[0m\u001b[0;34m.\u001b[0m\u001b[0mTensor\u001b[0m\u001b[0;34m)\u001b[0m\u001b[0;34m:\u001b[0m\u001b[0;34m\u001b[0m\u001b[0;34m\u001b[0m\u001b[0m\n\u001b[0;32m--> 512\u001b[0;31m       \u001b[0mx\u001b[0m \u001b[0;34m=\u001b[0m \u001b[0mt\u001b[0m\u001b[0;34m.\u001b[0m\u001b[0mnumpy\u001b[0m\u001b[0;34m(\u001b[0m\u001b[0;34m)\u001b[0m\u001b[0;34m\u001b[0m\u001b[0;34m\u001b[0m\u001b[0m\n\u001b[0m\u001b[1;32m    513\u001b[0m       \u001b[0;32mreturn\u001b[0m \u001b[0mx\u001b[0m\u001b[0;34m.\u001b[0m\u001b[0mitem\u001b[0m\u001b[0;34m(\u001b[0m\u001b[0;34m)\u001b[0m \u001b[0;32mif\u001b[0m \u001b[0mnp\u001b[0m\u001b[0;34m.\u001b[0m\u001b[0mndim\u001b[0m\u001b[0;34m(\u001b[0m\u001b[0mx\u001b[0m\u001b[0;34m)\u001b[0m \u001b[0;34m==\u001b[0m \u001b[0;36m0\u001b[0m \u001b[0;32melse\u001b[0m \u001b[0mx\u001b[0m\u001b[0;34m\u001b[0m\u001b[0;34m\u001b[0m\u001b[0m\n\u001b[1;32m    514\u001b[0m     \u001b[0;32mreturn\u001b[0m \u001b[0mt\u001b[0m  \u001b[0;31m# Don't turn ragged or sparse tensors to NumPy.\u001b[0m\u001b[0;34m\u001b[0m\u001b[0;34m\u001b[0m\u001b[0m\n",
      "\u001b[0;32m~/Desktop/CISC867/viewmaker_reproduction/env/lib/python3.6/site-packages/tensorflow/python/framework/ops.py\u001b[0m in \u001b[0;36mnumpy\u001b[0;34m(self)\u001b[0m\n\u001b[1;32m   1092\u001b[0m     \"\"\"\n\u001b[1;32m   1093\u001b[0m     \u001b[0;31m# TODO(slebedev): Consider avoiding a copy for non-CPU or remote tensors.\u001b[0m\u001b[0;34m\u001b[0m\u001b[0;34m\u001b[0m\u001b[0;34m\u001b[0m\u001b[0m\n\u001b[0;32m-> 1094\u001b[0;31m     \u001b[0mmaybe_arr\u001b[0m \u001b[0;34m=\u001b[0m \u001b[0mself\u001b[0m\u001b[0;34m.\u001b[0m\u001b[0m_numpy\u001b[0m\u001b[0;34m(\u001b[0m\u001b[0;34m)\u001b[0m  \u001b[0;31m# pylint: disable=protected-access\u001b[0m\u001b[0;34m\u001b[0m\u001b[0;34m\u001b[0m\u001b[0m\n\u001b[0m\u001b[1;32m   1095\u001b[0m     \u001b[0;32mreturn\u001b[0m \u001b[0mmaybe_arr\u001b[0m\u001b[0;34m.\u001b[0m\u001b[0mcopy\u001b[0m\u001b[0;34m(\u001b[0m\u001b[0;34m)\u001b[0m \u001b[0;32mif\u001b[0m \u001b[0misinstance\u001b[0m\u001b[0;34m(\u001b[0m\u001b[0mmaybe_arr\u001b[0m\u001b[0;34m,\u001b[0m \u001b[0mnp\u001b[0m\u001b[0;34m.\u001b[0m\u001b[0mndarray\u001b[0m\u001b[0;34m)\u001b[0m \u001b[0;32melse\u001b[0m \u001b[0mmaybe_arr\u001b[0m\u001b[0;34m\u001b[0m\u001b[0;34m\u001b[0m\u001b[0m\n\u001b[1;32m   1096\u001b[0m \u001b[0;34m\u001b[0m\u001b[0m\n",
      "\u001b[0;32m~/Desktop/CISC867/viewmaker_reproduction/env/lib/python3.6/site-packages/tensorflow/python/framework/ops.py\u001b[0m in \u001b[0;36m_numpy\u001b[0;34m(self)\u001b[0m\n\u001b[1;32m   1058\u001b[0m   \u001b[0;32mdef\u001b[0m \u001b[0m_numpy\u001b[0m\u001b[0;34m(\u001b[0m\u001b[0mself\u001b[0m\u001b[0;34m)\u001b[0m\u001b[0;34m:\u001b[0m\u001b[0;34m\u001b[0m\u001b[0;34m\u001b[0m\u001b[0m\n\u001b[1;32m   1059\u001b[0m     \u001b[0;32mtry\u001b[0m\u001b[0;34m:\u001b[0m\u001b[0;34m\u001b[0m\u001b[0;34m\u001b[0m\u001b[0m\n\u001b[0;32m-> 1060\u001b[0;31m       \u001b[0;32mreturn\u001b[0m \u001b[0mself\u001b[0m\u001b[0;34m.\u001b[0m\u001b[0m_numpy_internal\u001b[0m\u001b[0;34m(\u001b[0m\u001b[0;34m)\u001b[0m\u001b[0;34m\u001b[0m\u001b[0;34m\u001b[0m\u001b[0m\n\u001b[0m\u001b[1;32m   1061\u001b[0m     \u001b[0;32mexcept\u001b[0m \u001b[0mcore\u001b[0m\u001b[0;34m.\u001b[0m\u001b[0m_NotOkStatusException\u001b[0m \u001b[0;32mas\u001b[0m \u001b[0me\u001b[0m\u001b[0;34m:\u001b[0m  \u001b[0;31m# pylint: disable=protected-access\u001b[0m\u001b[0;34m\u001b[0m\u001b[0;34m\u001b[0m\u001b[0m\n\u001b[1;32m   1062\u001b[0m       \u001b[0msix\u001b[0m\u001b[0;34m.\u001b[0m\u001b[0mraise_from\u001b[0m\u001b[0;34m(\u001b[0m\u001b[0mcore\u001b[0m\u001b[0;34m.\u001b[0m\u001b[0m_status_to_exception\u001b[0m\u001b[0;34m(\u001b[0m\u001b[0me\u001b[0m\u001b[0;34m.\u001b[0m\u001b[0mcode\u001b[0m\u001b[0;34m,\u001b[0m \u001b[0me\u001b[0m\u001b[0;34m.\u001b[0m\u001b[0mmessage\u001b[0m\u001b[0;34m)\u001b[0m\u001b[0;34m,\u001b[0m \u001b[0;32mNone\u001b[0m\u001b[0;34m)\u001b[0m  \u001b[0;31m# pylint: disable=protected-access\u001b[0m\u001b[0;34m\u001b[0m\u001b[0;34m\u001b[0m\u001b[0m\n",
      "\u001b[0;31mKeyboardInterrupt\u001b[0m: "
     ]
    }
   ],
   "source": [
    "BATCH_SIZE = 256 \n",
    "EPOCHS = 10     \n",
    "LEARNING_RATE = 0.0001\n",
    "SAVE_DIRECTORY = './cifar_10_experiment'\n",
    "\n",
    "sim_clr_model.compile(optimizer=tf.keras.optimizers.Adam(learning_rate=LEARNING_RATE))\n",
    "\n",
    "dataset = get_unsupervised_dataset(batch_size=BATCH_SIZE)  \n",
    "dataset = dataset.take(len(dataset)-1)\n",
    "\n",
    "sim_clr_model.fit(dataset, epochs=EPOCHS)"
   ]
  },
  {
   "cell_type": "code",
   "execution_count": null,
   "metadata": {
    "tags": []
   },
   "outputs": [],
   "source": [
    "BATCH_SIZE = 256 \n",
    "EPOCHS = 100     \n",
    "LEARNING_RATE = 0.0001\n",
    "SAVE_DIRECTORY = './cifar_10_experiment'\n",
    "\n",
    "sim_clr_model.compile(optimizer=tf.keras.optimizers.Adam(learning_rate=LEARNING_RATE))\n",
    "\n",
    "dataset = get_unsupervised_dataset(batch_size=BATCH_SIZE)  \n",
    "dataset = dataset.take(len(dataset)-1)\n",
    "\n",
    "sim_clr_model.fit(dataset, epochs=EPOCHS)"
   ]
  },
  {
   "cell_type": "code",
   "execution_count": 10,
   "metadata": {},
   "outputs": [],
   "source": [
    "encoder = sim_clr_model.encoder"
   ]
  },
  {
   "cell_type": "code",
   "execution_count": 20,
   "metadata": {
    "tags": []
   },
   "outputs": [],
   "source": [
    "encoder.save_weights(f'{SAVE_DIRECTORY}/encoder_weights/ckpt1')"
   ]
  },
  {
   "cell_type": "code",
   "execution_count": 21,
   "metadata": {
    "tags": []
   },
   "outputs": [
    {
     "output_type": "stream",
     "name": "stdout",
     "text": "Epoch 1/3\n 29/234 [==>...........................] - ETA: 2:24 - SimCLR_loss: 10.7098"
    }
   ],
   "source": [
    "BATCH_SIZE = 256 \n",
    "EPOCHS = 3     \n",
    "LEARNING_RATE = 0.0001\n",
    "SAVE_DIRECTORY = './cifar_10_experiment'\n",
    "\n",
    "sim_clr_model.compile(optimizer=tf.keras.optimizers.Adam(learning_rate=LEARNING_RATE))\n",
    "\n",
    "dataset = get_unsupervised_dataset(batch_size=BATCH_SIZE)  \n",
    "dataset = dataset.take(len(dataset)-1)\n",
    "\n",
    "sim_clr_model.fit(dataset, epochs=EPOCHS)"
   ]
  },
  {
   "cell_type": "code",
   "execution_count": 12,
   "metadata": {},
   "outputs": [
    {
     "output_type": "execute_result",
     "data": {
      "text/plain": "<tensorflow.python.training.tracking.util.CheckpointLoadStatus at 0x7f923ed2c240>"
     },
     "metadata": {},
     "execution_count": 12
    }
   ],
   "source": [
    "SAVE_DIRECTORY = './cifar_10_experiment'\n",
    "encoder = get_encoder()\n",
    "encoder(next(iter(dataset)))\n",
    "encoder.load_weights(f'{SAVE_DIRECTORY}/encoder_weights/ckpt1')"
   ]
  },
  {
   "cell_type": "code",
   "execution_count": 13,
   "metadata": {
    "tags": []
   },
   "outputs": [
    {
     "output_type": "stream",
     "name": "stdout",
     "text": "Model: \"sequential_43\"\n_________________________________________________________________\nLayer (type)                 Output Shape              Param #   \n=================================================================\nsequential_42 (Sequential)   (64, 8192)                11178432  \n_________________________________________________________________\nre_lu_34 (ReLU)              (64, 8192)                0         \n_________________________________________________________________\ndense_11 (Dense)             (64, 2048)                16779264  \n=================================================================\nTotal params: 27,957,696\nTrainable params: 27,948,096\nNon-trainable params: 9,600\n_________________________________________________________________\n"
    }
   ],
   "source": [
    "encoder.summary()"
   ]
  },
  {
   "cell_type": "code",
   "execution_count": 27,
   "metadata": {
    "tags": []
   },
   "outputs": [
    {
     "output_type": "stream",
     "name": "stdout",
     "text": "Epoch 1/100\n234/234 [==============================] - 169s 706ms/step - SimCLR_loss: 5.4335 - SimCLR_accuracy: 0.2710\nEpoch 2/100\n234/234 [==============================] - 165s 706ms/step - SimCLR_loss: 5.4137 - SimCLR_accuracy: 0.3150\nEpoch 3/100\n234/234 [==============================] - 166s 707ms/step - SimCLR_loss: 5.4022 - SimCLR_accuracy: 0.3434\nEpoch 4/100\n234/234 [==============================] - 163s 699ms/step - SimCLR_loss: 5.3939 - SimCLR_accuracy: 0.3655\nEpoch 5/100\n234/234 [==============================] - 155s 661ms/step - SimCLR_loss: 5.3860 - SimCLR_accuracy: 0.3831\nEpoch 6/100\n234/234 [==============================] - 157s 670ms/step - SimCLR_loss: 5.3806 - SimCLR_accuracy: 0.3966\nEpoch 7/100\n234/234 [==============================] - 165s 707ms/step - SimCLR_loss: 5.3745 - SimCLR_accuracy: 0.4102\nEpoch 8/100\n234/234 [==============================] - 165s 707ms/step - SimCLR_loss: 5.3694 - SimCLR_accuracy: 0.4194\nEpoch 9/100\n234/234 [==============================] - 165s 706ms/step - SimCLR_loss: 5.3654 - SimCLR_accuracy: 0.4277\nEpoch 10/100\n234/234 [==============================] - 158s 674ms/step - SimCLR_loss: 5.3624 - SimCLR_accuracy: 0.4331\nEpoch 11/100\n234/234 [==============================] - 151s 647ms/step - SimCLR_loss: 5.3588 - SimCLR_accuracy: 0.4388\nEpoch 12/100\n234/234 [==============================] - 152s 648ms/step - SimCLR_loss: 5.3563 - SimCLR_accuracy: 0.4419\nEpoch 13/100\n234/234 [==============================] - 152s 650ms/step - SimCLR_loss: 5.3536 - SimCLR_accuracy: 0.4463\nEpoch 14/100\n234/234 [==============================] - 151s 646ms/step - SimCLR_loss: 5.3522 - SimCLR_accuracy: 0.4486\nEpoch 15/100\n234/234 [==============================] - 152s 649ms/step - SimCLR_loss: 5.3493 - SimCLR_accuracy: 0.4512\nEpoch 16/100\n234/234 [==============================] - 152s 649ms/step - SimCLR_loss: 5.3471 - SimCLR_accuracy: 0.4540\nEpoch 17/100\n234/234 [==============================] - 152s 648ms/step - SimCLR_loss: 5.3453 - SimCLR_accuracy: 0.4563\nEpoch 18/100\n234/234 [==============================] - 152s 649ms/step - SimCLR_loss: 5.3437 - SimCLR_accuracy: 0.4587\nEpoch 19/100\n234/234 [==============================] - 152s 648ms/step - SimCLR_loss: 5.3423 - SimCLR_accuracy: 0.4593\nEpoch 20/100\n234/234 [==============================] - 152s 650ms/step - SimCLR_loss: 5.3407 - SimCLR_accuracy: 0.4615\nEpoch 21/100\n234/234 [==============================] - 152s 648ms/step - SimCLR_loss: 5.3393 - SimCLR_accuracy: 0.4626\nEpoch 22/100\n234/234 [==============================] - 152s 650ms/step - SimCLR_loss: 5.3382 - SimCLR_accuracy: 0.4645\nEpoch 23/100\n234/234 [==============================] - 152s 649ms/step - SimCLR_loss: 5.3366 - SimCLR_accuracy: 0.4656\nEpoch 24/100\n234/234 [==============================] - 152s 648ms/step - SimCLR_loss: 5.3356 - SimCLR_accuracy: 0.4665\nEpoch 25/100\n234/234 [==============================] - 151s 647ms/step - SimCLR_loss: 5.3332 - SimCLR_accuracy: 0.4687\nEpoch 26/100\n234/234 [==============================] - 152s 649ms/step - SimCLR_loss: 5.3323 - SimCLR_accuracy: 0.4690\nEpoch 27/100\n234/234 [==============================] - 152s 648ms/step - SimCLR_loss: 5.3318 - SimCLR_accuracy: 0.4693\nEpoch 28/100\n234/234 [==============================] - 151s 647ms/step - SimCLR_loss: 5.3303 - SimCLR_accuracy: 0.4704\nEpoch 29/100\n234/234 [==============================] - 152s 649ms/step - SimCLR_loss: 5.3283 - SimCLR_accuracy: 0.4724\nEpoch 30/100\n234/234 [==============================] - 152s 648ms/step - SimCLR_loss: 5.3281 - SimCLR_accuracy: 0.4726\nEpoch 31/100\n234/234 [==============================] - 152s 648ms/step - SimCLR_loss: 5.3265 - SimCLR_accuracy: 0.4741\nEpoch 32/100\n234/234 [==============================] - 152s 649ms/step - SimCLR_loss: 5.3256 - SimCLR_accuracy: 0.4745\nEpoch 33/100\n234/234 [==============================] - 152s 648ms/step - SimCLR_loss: 5.3247 - SimCLR_accuracy: 0.4750\nEpoch 34/100\n234/234 [==============================] - 152s 650ms/step - SimCLR_loss: 5.3235 - SimCLR_accuracy: 0.4760\nEpoch 35/100\n234/234 [==============================] - 152s 649ms/step - SimCLR_loss: 5.3228 - SimCLR_accuracy: 0.4767\nEpoch 36/100\n234/234 [==============================] - 152s 649ms/step - SimCLR_loss: 5.3222 - SimCLR_accuracy: 0.4766\nEpoch 37/100\n234/234 [==============================] - 152s 650ms/step - SimCLR_loss: 5.3215 - SimCLR_accuracy: 0.4773\nEpoch 38/100\n234/234 [==============================] - 152s 649ms/step - SimCLR_loss: 5.3204 - SimCLR_accuracy: 0.4776\nEpoch 39/100\n234/234 [==============================] - 152s 648ms/step - SimCLR_loss: 5.3192 - SimCLR_accuracy: 0.4785\nEpoch 40/100\n234/234 [==============================] - 152s 649ms/step - SimCLR_loss: 5.3187 - SimCLR_accuracy: 0.4784\nEpoch 41/100\n234/234 [==============================] - 152s 648ms/step - SimCLR_loss: 5.3181 - SimCLR_accuracy: 0.4792\nEpoch 42/100\n234/234 [==============================] - 152s 649ms/step - SimCLR_loss: 5.3170 - SimCLR_accuracy: 0.4790\nEpoch 43/100\n234/234 [==============================] - 152s 649ms/step - SimCLR_loss: 5.3162 - SimCLR_accuracy: 0.4802\nEpoch 44/100\n234/234 [==============================] - 152s 649ms/step - SimCLR_loss: 5.3160 - SimCLR_accuracy: 0.4802\nEpoch 45/100\n234/234 [==============================] - 152s 650ms/step - SimCLR_loss: 5.3148 - SimCLR_accuracy: 0.4806\nEpoch 46/100\n234/234 [==============================] - 152s 649ms/step - SimCLR_loss: 5.3139 - SimCLR_accuracy: 0.4813\nEpoch 47/100\n234/234 [==============================] - 152s 649ms/step - SimCLR_loss: 5.3135 - SimCLR_accuracy: 0.4812\nEpoch 48/100\n234/234 [==============================] - 152s 648ms/step - SimCLR_loss: 5.3128 - SimCLR_accuracy: 0.4816\nEpoch 49/100\n234/234 [==============================] - 152s 649ms/step - SimCLR_loss: 5.3121 - SimCLR_accuracy: 0.4825\nEpoch 50/100\n234/234 [==============================] - 152s 648ms/step - SimCLR_loss: 5.3116 - SimCLR_accuracy: 0.4821\nEpoch 51/100\n234/234 [==============================] - 152s 648ms/step - SimCLR_loss: 5.3101 - SimCLR_accuracy: 0.4828\nEpoch 52/100\n234/234 [==============================] - 152s 650ms/step - SimCLR_loss: 5.3099 - SimCLR_accuracy: 0.4834\nEpoch 53/100\n234/234 [==============================] - 152s 649ms/step - SimCLR_loss: 5.3098 - SimCLR_accuracy: 0.4831\nEpoch 54/100\n234/234 [==============================] - 152s 649ms/step - SimCLR_loss: 5.3088 - SimCLR_accuracy: 0.4833\nEpoch 55/100\n234/234 [==============================] - 152s 649ms/step - SimCLR_loss: 5.3085 - SimCLR_accuracy: 0.4834\nEpoch 56/100\n234/234 [==============================] - 152s 651ms/step - SimCLR_loss: 5.3078 - SimCLR_accuracy: 0.4840\nEpoch 57/100\n234/234 [==============================] - 152s 650ms/step - SimCLR_loss: 5.3075 - SimCLR_accuracy: 0.4838\nEpoch 58/100\n234/234 [==============================] - 152s 650ms/step - SimCLR_loss: 5.3066 - SimCLR_accuracy: 0.4844\nEpoch 59/100\n234/234 [==============================] - 152s 648ms/step - SimCLR_loss: 5.3063 - SimCLR_accuracy: 0.4841\nEpoch 60/100\n234/234 [==============================] - 152s 650ms/step - SimCLR_loss: 5.3056 - SimCLR_accuracy: 0.4847\nEpoch 61/100\n234/234 [==============================] - 152s 651ms/step - SimCLR_loss: 5.3054 - SimCLR_accuracy: 0.4846\nEpoch 62/100\n234/234 [==============================] - 152s 650ms/step - SimCLR_loss: 5.3045 - SimCLR_accuracy: 0.4849\nEpoch 63/100\n234/234 [==============================] - 152s 650ms/step - SimCLR_loss: 5.3037 - SimCLR_accuracy: 0.4853\nEpoch 64/100\n234/234 [==============================] - 152s 649ms/step - SimCLR_loss: 5.3036 - SimCLR_accuracy: 0.4853\nEpoch 65/100\n234/234 [==============================] - 152s 649ms/step - SimCLR_loss: 5.3032 - SimCLR_accuracy: 0.4854\nEpoch 66/100\n234/234 [==============================] - 152s 652ms/step - SimCLR_loss: 5.3029 - SimCLR_accuracy: 0.4854\nEpoch 67/100\n234/234 [==============================] - 152s 649ms/step - SimCLR_loss: 5.3025 - SimCLR_accuracy: 0.4858\nEpoch 68/100\n234/234 [==============================] - 152s 651ms/step - SimCLR_loss: 5.3023 - SimCLR_accuracy: 0.4860\nEpoch 69/100\n234/234 [==============================] - 152s 651ms/step - SimCLR_loss: 5.3022 - SimCLR_accuracy: 0.4859\nEpoch 70/100\n234/234 [==============================] - 152s 651ms/step - SimCLR_loss: 5.3011 - SimCLR_accuracy: 0.4860\nEpoch 71/100\n234/234 [==============================] - 152s 651ms/step - SimCLR_loss: 5.3007 - SimCLR_accuracy: 0.4866\nEpoch 72/100\n234/234 [==============================] - 152s 650ms/step - SimCLR_loss: 5.3004 - SimCLR_accuracy: 0.4862\nEpoch 73/100\n234/234 [==============================] - 152s 651ms/step - SimCLR_loss: 5.2999 - SimCLR_accuracy: 0.4864\nEpoch 74/100\n234/234 [==============================] - 152s 651ms/step - SimCLR_loss: 5.2990 - SimCLR_accuracy: 0.4867\nEpoch 75/100\n234/234 [==============================] - 152s 651ms/step - SimCLR_loss: 5.2985 - SimCLR_accuracy: 0.4871\nEpoch 76/100\n234/234 [==============================] - 152s 651ms/step - SimCLR_loss: 5.2984 - SimCLR_accuracy: 0.4868\nEpoch 77/100\n234/234 [==============================] - 152s 652ms/step - SimCLR_loss: 5.2983 - SimCLR_accuracy: 0.4871\nEpoch 78/100\n234/234 [==============================] - 152s 651ms/step - SimCLR_loss: 5.2974 - SimCLR_accuracy: 0.4871\nEpoch 79/100\n234/234 [==============================] - 152s 651ms/step - SimCLR_loss: 5.2975 - SimCLR_accuracy: 0.4866\nEpoch 80/100\n234/234 [==============================] - 152s 651ms/step - SimCLR_loss: 5.2965 - SimCLR_accuracy: 0.4874\nEpoch 81/100\n234/234 [==============================] - 152s 650ms/step - SimCLR_loss: 5.2971 - SimCLR_accuracy: 0.4868\nEpoch 82/100\n234/234 [==============================] - 152s 651ms/step - SimCLR_loss: 5.2967 - SimCLR_accuracy: 0.4865\nEpoch 83/100\n234/234 [==============================] - 152s 650ms/step - SimCLR_loss: 5.2955 - SimCLR_accuracy: 0.4877\nEpoch 84/100\n234/234 [==============================] - 152s 650ms/step - SimCLR_loss: 5.2954 - SimCLR_accuracy: 0.4875\nEpoch 85/100\n234/234 [==============================] - 153s 652ms/step - SimCLR_loss: 5.2949 - SimCLR_accuracy: 0.4873\nEpoch 86/100\n234/234 [==============================] - 152s 652ms/step - SimCLR_loss: 5.2947 - SimCLR_accuracy: 0.4877\nEpoch 87/100\n234/234 [==============================] - 152s 651ms/step - SimCLR_loss: 5.2945 - SimCLR_accuracy: 0.4875\nEpoch 88/100\n234/234 [==============================] - 152s 652ms/step - SimCLR_loss: 5.2944 - SimCLR_accuracy: 0.4876\nEpoch 89/100\n234/234 [==============================] - 152s 651ms/step - SimCLR_loss: 5.2938 - SimCLR_accuracy: 0.4878\nEpoch 90/100\n234/234 [==============================] - 152s 650ms/step - SimCLR_loss: 5.2933 - SimCLR_accuracy: 0.4881\nEpoch 91/100\n234/234 [==============================] - 152s 651ms/step - SimCLR_loss: 5.2932 - SimCLR_accuracy: 0.4878\nEpoch 92/100\n234/234 [==============================] - 152s 650ms/step - SimCLR_loss: 5.2925 - SimCLR_accuracy: 0.4885\nEpoch 93/100\n234/234 [==============================] - 152s 650ms/step - SimCLR_loss: 5.2920 - SimCLR_accuracy: 0.4886\nEpoch 94/100\n234/234 [==============================] - 152s 651ms/step - SimCLR_loss: 5.2917 - SimCLR_accuracy: 0.4883\nEpoch 95/100\n234/234 [==============================] - 152s 651ms/step - SimCLR_loss: 5.2920 - SimCLR_accuracy: 0.4876\nEpoch 96/100\n234/234 [==============================] - 152s 650ms/step - SimCLR_loss: 5.2913 - SimCLR_accuracy: 0.4881\nEpoch 97/100\n234/234 [==============================] - 152s 650ms/step - SimCLR_loss: 5.2910 - SimCLR_accuracy: 0.4883\nEpoch 98/100\n234/234 [==============================] - 152s 651ms/step - SimCLR_loss: 5.2906 - SimCLR_accuracy: 0.4883\nEpoch 99/100\n234/234 [==============================] - 152s 650ms/step - SimCLR_loss: 5.2904 - SimCLR_accuracy: 0.4884\nEpoch 100/100\n234/234 [==============================] - 152s 650ms/step - SimCLR_loss: 5.2901 - SimCLR_accuracy: 0.4883\n"
    },
    {
     "output_type": "execute_result",
     "data": {
      "text/plain": "<keras.callbacks.History at 0x7fd11134a908>"
     },
     "metadata": {},
     "execution_count": 27
    }
   ],
   "source": [
    "sim_clr_model = SimCLR(encoder, augmentation, projection_head)\n",
    "BATCH_SIZE = 256 \n",
    "EPOCHS = 100     \n",
    "LEARNING_RATE = 0.0001\n",
    "SAVE_DIRECTORY = './cifar_10_experiment'\n",
    "\n",
    "sim_clr_model.compile(optimizer=tf.keras.optimizers.Adam(learning_rate=LEARNING_RATE))\n",
    "\n",
    "dataset = get_unsupervised_dataset(batch_size=BATCH_SIZE)  \n",
    "dataset = dataset.take(len(dataset)-1)\n",
    "\n",
    "sim_clr_model.fit(dataset, epochs=EPOCHS)\n"
   ]
  },
  {
   "cell_type": "code",
   "execution_count": 29,
   "metadata": {},
   "outputs": [],
   "source": [
    "sim_clr_model.save_weights(f'{SAVE_DIRECTORY}/simclr_weights/ckpt1')"
   ]
  }
 ],
 "metadata": {
  "interpreter": {
   "hash": "0e408a2d422f08ada9bc5fb395ddea2cf1b39d559985be2430f6620bfcca087f"
  },
  "kernelspec": {
   "display_name": "Python 3",
   "name": "python3"
  },
  "language_info": {
   "codemirror_mode": {
    "name": "ipython",
    "version": 3
   },
   "file_extension": ".py",
   "mimetype": "text/x-python",
   "name": "python",
   "nbconvert_exporter": "python",
   "pygments_lexer": "ipython3",
   "version": "3.6.9-final"
  }
 },
 "nbformat": 4,
 "nbformat_minor": 5
}