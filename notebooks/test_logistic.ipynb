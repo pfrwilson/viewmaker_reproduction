{
 "metadata": {
  "language_info": {
   "codemirror_mode": {
    "name": "ipython",
    "version": 3
   },
   "file_extension": ".py",
   "mimetype": "text/x-python",
   "name": "python",
   "nbconvert_exporter": "python",
   "pygments_lexer": "ipython3",
   "version": "3.6.9-final"
  },
  "orig_nbformat": 2,
  "kernelspec": {
   "name": "python3",
   "display_name": "Python 3"
  }
 },
 "nbformat": 4,
 "nbformat_minor": 2,
 "cells": [
  {
   "cell_type": "code",
   "execution_count": 1,
   "metadata": {},
   "outputs": [],
   "source": [
    "import tensorflow as tf\n",
    "import numpy as np\n",
    "import matplotlib.pyplot as plt\n",
    "from SimCLR_data_util import preprocess_for_train\n",
    "from resnet_small import ResNet18\n",
    "from tensorflow.keras.layers import Dense\n",
    "from SimCLR import SimCLR"
   ]
  },
  {
   "cell_type": "code",
   "execution_count": 2,
   "metadata": {},
   "outputs": [],
   "source": [
    "from logistic_regression import *"
   ]
  },
  {
   "cell_type": "code",
   "execution_count": 3,
   "metadata": {},
   "outputs": [],
   "source": [
    "from datasets.cifar_10 import get_unsupervised_dataset\n",
    "dataset = get_unsupervised_dataset(batch_size=64)          # increase batch size if GPU memory available"
   ]
  },
  {
   "cell_type": "code",
   "execution_count": 4,
   "metadata": {},
   "outputs": [],
   "source": [
    "class MyAugmentation(tf.keras.layers.Layer):\n",
    "    def __init__(self):\n",
    "        super().__init__()\n",
    "    \n",
    "    def call(self, x):\n",
    "        augment_image = lambda im: preprocess_for_train(im, 32, 32)\n",
    "        return tf.map_fn(augment_image, x)\n",
    "\n",
    "augmentation = MyAugmentation()"
   ]
  },
  {
   "cell_type": "code",
   "execution_count": 5,
   "metadata": {},
   "outputs": [],
   "source": [
    "def get_projection_head():\n",
    "\n",
    "    projection_head = tf.keras.Sequential([\n",
    "        Dense(1024, activation='relu'),\n",
    "        tf.keras.layers.Dropout(0.5),\n",
    "        Dense(512, activation='relu'),\n",
    "        tf.keras.layers.Dropout(0.5),\n",
    "        Dense(256)\n",
    "    ])\n",
    "\n",
    "    return projection_head\n",
    "\n",
    "projection_head = get_projection_head()"
   ]
  },
  {
   "cell_type": "code",
   "execution_count": 6,
   "metadata": {},
   "outputs": [],
   "source": [
    "def get_encoder():\n",
    "    model = ResNet18(10)\n",
    "    encoder = tf.keras.Sequential(model.layers[:-1])\n",
    "    return encoder\n",
    "\n",
    "encoder = get_encoder()"
   ]
  },
  {
   "cell_type": "code",
   "execution_count": 7,
   "metadata": {
    "tags": []
   },
   "outputs": [],
   "source": [
    "sim_clr_model = SimCLR(encoder, augmentation, projection_head, temperature=0.07)"
   ]
  },
  {
   "cell_type": "code",
   "execution_count": 8,
   "metadata": {},
   "outputs": [],
   "source": [
    "sim_clr_model.load_weights('./cifar_10_experiment/simclr_weights/ckpt1')\n",
    "encoder = sim_clr_model.encoder"
   ]
  },
  {
   "cell_type": "code",
   "execution_count": 9,
   "metadata": {},
   "outputs": [],
   "source": [
    "from datasets.cifar_10 import get_supervised_dataset\n",
    "dataset = get_supervised_dataset()     "
   ]
  },
  {
   "cell_type": "code",
   "execution_count": 10,
   "metadata": {},
   "outputs": [
    {
     "output_type": "execute_result",
     "data": {
      "text/plain": "(50000, 32, 32, 3)"
     },
     "metadata": {},
     "execution_count": 10
    }
   ],
   "source": [
    "dataset[0][0].shape"
   ]
  },
  {
   "cell_type": "code",
   "execution_count": 11,
   "metadata": {},
   "outputs": [
    {
     "output_type": "execute_result",
     "data": {
      "text/plain": "TensorShape([50000, 10])"
     },
     "metadata": {},
     "execution_count": 11
    }
   ],
   "source": [
    "dataset[0][1].shape"
   ]
  },
  {
   "cell_type": "code",
   "execution_count": 12,
   "metadata": {},
   "outputs": [
    {
     "output_type": "execute_result",
     "data": {
      "text/plain": "2"
     },
     "metadata": {},
     "execution_count": 12
    }
   ],
   "source": [
    "len(dataset[1])"
   ]
  },
  {
   "cell_type": "code",
   "execution_count": 13,
   "metadata": {},
   "outputs": [
    {
     "output_type": "execute_result",
     "data": {
      "text/plain": "(10000, 32, 32, 3)"
     },
     "metadata": {},
     "execution_count": 13
    }
   ],
   "source": [
    "dataset[1][0].shape"
   ]
  },
  {
   "cell_type": "code",
   "execution_count": 14,
   "metadata": {},
   "outputs": [
    {
     "output_type": "execute_result",
     "data": {
      "text/plain": "TensorShape([10000, 10])"
     },
     "metadata": {},
     "execution_count": 14
    }
   ],
   "source": [
    "dataset[1][1].shape"
   ]
  },
  {
   "cell_type": "code",
   "execution_count": 16,
   "metadata": {},
   "outputs": [],
   "source": [
    "classifier = TrainClassifier(10, encoder)"
   ]
  },
  {
   "cell_type": "code",
   "execution_count": 44,
   "metadata": {
    "tags": []
   },
   "outputs": [
    {
     "output_type": "stream",
     "name": "stdout",
     "text": "Epoch 1/100\n98/98 [==============================] - 10s 90ms/step - loss: 1.0491 - categorical_accuracy: 0.7051 - val_loss: 1.5229 - val_categorical_accuracy: 0.5314\nEpoch 2/100\n18/98 [====>.........................] - ETA: 5s - loss: 0.7119 - categorical_accuracy: 0.7631"
    },
    {
     "output_type": "error",
     "ename": "KeyboardInterrupt",
     "evalue": "",
     "traceback": [
      "\u001b[0;31m---------------------------------------------------------------------------\u001b[0m",
      "\u001b[0;31mKeyboardInterrupt\u001b[0m                         Traceback (most recent call last)",
      "\u001b[0;32m<ipython-input-44-25dc3592d84d>\u001b[0m in \u001b[0;36m<module>\u001b[0;34m\u001b[0m\n\u001b[1;32m      6\u001b[0m \u001b[0mx_val\u001b[0m \u001b[0;34m=\u001b[0m \u001b[0mtf\u001b[0m\u001b[0;34m.\u001b[0m\u001b[0mconvert_to_tensor\u001b[0m\u001b[0;34m(\u001b[0m\u001b[0mdataset\u001b[0m\u001b[0;34m[\u001b[0m\u001b[0;36m1\u001b[0m\u001b[0;34m]\u001b[0m\u001b[0;34m[\u001b[0m\u001b[0;36m0\u001b[0m\u001b[0;34m]\u001b[0m\u001b[0;34m[\u001b[0m\u001b[0;34m:\u001b[0m\u001b[0;36m5000\u001b[0m\u001b[0;34m]\u001b[0m\u001b[0;34m)\u001b[0m\u001b[0;34m\u001b[0m\u001b[0;34m\u001b[0m\u001b[0m\n\u001b[1;32m      7\u001b[0m \u001b[0my_val\u001b[0m \u001b[0;34m=\u001b[0m \u001b[0mdataset\u001b[0m\u001b[0;34m[\u001b[0m\u001b[0;36m1\u001b[0m\u001b[0;34m]\u001b[0m\u001b[0;34m[\u001b[0m\u001b[0;36m1\u001b[0m\u001b[0;34m]\u001b[0m\u001b[0;34m[\u001b[0m\u001b[0;34m:\u001b[0m\u001b[0;36m5000\u001b[0m\u001b[0;34m]\u001b[0m\u001b[0;34m\u001b[0m\u001b[0;34m\u001b[0m\u001b[0m\n\u001b[0;32m----> 8\u001b[0;31m \u001b[0mclassifier\u001b[0m\u001b[0;34m.\u001b[0m\u001b[0mfit\u001b[0m\u001b[0;34m(\u001b[0m\u001b[0mx\u001b[0m\u001b[0;34m=\u001b[0m\u001b[0mx\u001b[0m\u001b[0;34m,\u001b[0m \u001b[0my\u001b[0m\u001b[0;34m=\u001b[0m\u001b[0my\u001b[0m\u001b[0;34m,\u001b[0m \u001b[0mvalidation_data\u001b[0m\u001b[0;34m=\u001b[0m\u001b[0;34m(\u001b[0m\u001b[0mx_val\u001b[0m\u001b[0;34m,\u001b[0m \u001b[0my_val\u001b[0m\u001b[0;34m)\u001b[0m\u001b[0;34m,\u001b[0m \u001b[0mbatch_size\u001b[0m\u001b[0;34m=\u001b[0m\u001b[0;36m512\u001b[0m\u001b[0;34m,\u001b[0m \u001b[0mepochs\u001b[0m\u001b[0;34m=\u001b[0m\u001b[0;36m100\u001b[0m\u001b[0;34m)\u001b[0m\u001b[0;34m\u001b[0m\u001b[0;34m\u001b[0m\u001b[0m\n\u001b[0m",
      "\u001b[0;32m~/Desktop/CISC867/viewmaker_reproduction/env/lib/python3.6/site-packages/keras/engine/training.py\u001b[0m in \u001b[0;36mfit\u001b[0;34m(self, x, y, batch_size, epochs, verbose, callbacks, validation_split, validation_data, shuffle, class_weight, sample_weight, initial_epoch, steps_per_epoch, validation_steps, validation_batch_size, validation_freq, max_queue_size, workers, use_multiprocessing)\u001b[0m\n\u001b[1;32m   1182\u001b[0m                 _r=1):\n\u001b[1;32m   1183\u001b[0m               \u001b[0mcallbacks\u001b[0m\u001b[0;34m.\u001b[0m\u001b[0mon_train_batch_begin\u001b[0m\u001b[0;34m(\u001b[0m\u001b[0mstep\u001b[0m\u001b[0;34m)\u001b[0m\u001b[0;34m\u001b[0m\u001b[0;34m\u001b[0m\u001b[0m\n\u001b[0;32m-> 1184\u001b[0;31m               \u001b[0mtmp_logs\u001b[0m \u001b[0;34m=\u001b[0m \u001b[0mself\u001b[0m\u001b[0;34m.\u001b[0m\u001b[0mtrain_function\u001b[0m\u001b[0;34m(\u001b[0m\u001b[0miterator\u001b[0m\u001b[0;34m)\u001b[0m\u001b[0;34m\u001b[0m\u001b[0;34m\u001b[0m\u001b[0m\n\u001b[0m\u001b[1;32m   1185\u001b[0m               \u001b[0;32mif\u001b[0m \u001b[0mdata_handler\u001b[0m\u001b[0;34m.\u001b[0m\u001b[0mshould_sync\u001b[0m\u001b[0;34m:\u001b[0m\u001b[0;34m\u001b[0m\u001b[0;34m\u001b[0m\u001b[0m\n\u001b[1;32m   1186\u001b[0m                 \u001b[0mcontext\u001b[0m\u001b[0;34m.\u001b[0m\u001b[0masync_wait\u001b[0m\u001b[0;34m(\u001b[0m\u001b[0;34m)\u001b[0m\u001b[0;34m\u001b[0m\u001b[0;34m\u001b[0m\u001b[0m\n",
      "\u001b[0;32m~/Desktop/CISC867/viewmaker_reproduction/env/lib/python3.6/site-packages/tensorflow/python/eager/def_function.py\u001b[0m in \u001b[0;36m__call__\u001b[0;34m(self, *args, **kwds)\u001b[0m\n\u001b[1;32m    883\u001b[0m \u001b[0;34m\u001b[0m\u001b[0m\n\u001b[1;32m    884\u001b[0m       \u001b[0;32mwith\u001b[0m \u001b[0mOptionalXlaContext\u001b[0m\u001b[0;34m(\u001b[0m\u001b[0mself\u001b[0m\u001b[0;34m.\u001b[0m\u001b[0m_jit_compile\u001b[0m\u001b[0;34m)\u001b[0m\u001b[0;34m:\u001b[0m\u001b[0;34m\u001b[0m\u001b[0;34m\u001b[0m\u001b[0m\n\u001b[0;32m--> 885\u001b[0;31m         \u001b[0mresult\u001b[0m \u001b[0;34m=\u001b[0m \u001b[0mself\u001b[0m\u001b[0;34m.\u001b[0m\u001b[0m_call\u001b[0m\u001b[0;34m(\u001b[0m\u001b[0;34m*\u001b[0m\u001b[0margs\u001b[0m\u001b[0;34m,\u001b[0m \u001b[0;34m**\u001b[0m\u001b[0mkwds\u001b[0m\u001b[0;34m)\u001b[0m\u001b[0;34m\u001b[0m\u001b[0;34m\u001b[0m\u001b[0m\n\u001b[0m\u001b[1;32m    886\u001b[0m \u001b[0;34m\u001b[0m\u001b[0m\n\u001b[1;32m    887\u001b[0m       \u001b[0mnew_tracing_count\u001b[0m \u001b[0;34m=\u001b[0m \u001b[0mself\u001b[0m\u001b[0;34m.\u001b[0m\u001b[0mexperimental_get_tracing_count\u001b[0m\u001b[0;34m(\u001b[0m\u001b[0;34m)\u001b[0m\u001b[0;34m\u001b[0m\u001b[0;34m\u001b[0m\u001b[0m\n",
      "\u001b[0;32m~/Desktop/CISC867/viewmaker_reproduction/env/lib/python3.6/site-packages/tensorflow/python/eager/def_function.py\u001b[0m in \u001b[0;36m_call\u001b[0;34m(self, *args, **kwds)\u001b[0m\n\u001b[1;32m    915\u001b[0m       \u001b[0;31m# In this case we have created variables on the first call, so we run the\u001b[0m\u001b[0;34m\u001b[0m\u001b[0;34m\u001b[0m\u001b[0;34m\u001b[0m\u001b[0m\n\u001b[1;32m    916\u001b[0m       \u001b[0;31m# defunned version which is guaranteed to never create variables.\u001b[0m\u001b[0;34m\u001b[0m\u001b[0;34m\u001b[0m\u001b[0;34m\u001b[0m\u001b[0m\n\u001b[0;32m--> 917\u001b[0;31m       \u001b[0;32mreturn\u001b[0m \u001b[0mself\u001b[0m\u001b[0;34m.\u001b[0m\u001b[0m_stateless_fn\u001b[0m\u001b[0;34m(\u001b[0m\u001b[0;34m*\u001b[0m\u001b[0margs\u001b[0m\u001b[0;34m,\u001b[0m \u001b[0;34m**\u001b[0m\u001b[0mkwds\u001b[0m\u001b[0;34m)\u001b[0m  \u001b[0;31m# pylint: disable=not-callable\u001b[0m\u001b[0;34m\u001b[0m\u001b[0;34m\u001b[0m\u001b[0m\n\u001b[0m\u001b[1;32m    918\u001b[0m     \u001b[0;32melif\u001b[0m \u001b[0mself\u001b[0m\u001b[0;34m.\u001b[0m\u001b[0m_stateful_fn\u001b[0m \u001b[0;32mis\u001b[0m \u001b[0;32mnot\u001b[0m \u001b[0;32mNone\u001b[0m\u001b[0;34m:\u001b[0m\u001b[0;34m\u001b[0m\u001b[0;34m\u001b[0m\u001b[0m\n\u001b[1;32m    919\u001b[0m       \u001b[0;31m# Release the lock early so that multiple threads can perform the call\u001b[0m\u001b[0;34m\u001b[0m\u001b[0;34m\u001b[0m\u001b[0;34m\u001b[0m\u001b[0m\n",
      "\u001b[0;32m~/Desktop/CISC867/viewmaker_reproduction/env/lib/python3.6/site-packages/tensorflow/python/eager/function.py\u001b[0m in \u001b[0;36m__call__\u001b[0;34m(self, *args, **kwargs)\u001b[0m\n\u001b[1;32m   3038\u001b[0m        filtered_flat_args) = self._maybe_define_function(args, kwargs)\n\u001b[1;32m   3039\u001b[0m     return graph_function._call_flat(\n\u001b[0;32m-> 3040\u001b[0;31m         filtered_flat_args, captured_inputs=graph_function.captured_inputs)  # pylint: disable=protected-access\n\u001b[0m\u001b[1;32m   3041\u001b[0m \u001b[0;34m\u001b[0m\u001b[0m\n\u001b[1;32m   3042\u001b[0m   \u001b[0;34m@\u001b[0m\u001b[0mproperty\u001b[0m\u001b[0;34m\u001b[0m\u001b[0;34m\u001b[0m\u001b[0m\n",
      "\u001b[0;32m~/Desktop/CISC867/viewmaker_reproduction/env/lib/python3.6/site-packages/tensorflow/python/eager/function.py\u001b[0m in \u001b[0;36m_call_flat\u001b[0;34m(self, args, captured_inputs, cancellation_manager)\u001b[0m\n\u001b[1;32m   1962\u001b[0m       \u001b[0;31m# No tape is watching; skip to running the function.\u001b[0m\u001b[0;34m\u001b[0m\u001b[0;34m\u001b[0m\u001b[0;34m\u001b[0m\u001b[0m\n\u001b[1;32m   1963\u001b[0m       return self._build_call_outputs(self._inference_function.call(\n\u001b[0;32m-> 1964\u001b[0;31m           ctx, args, cancellation_manager=cancellation_manager))\n\u001b[0m\u001b[1;32m   1965\u001b[0m     forward_backward = self._select_forward_and_backward_functions(\n\u001b[1;32m   1966\u001b[0m         \u001b[0margs\u001b[0m\u001b[0;34m,\u001b[0m\u001b[0;34m\u001b[0m\u001b[0;34m\u001b[0m\u001b[0m\n",
      "\u001b[0;32m~/Desktop/CISC867/viewmaker_reproduction/env/lib/python3.6/site-packages/tensorflow/python/eager/function.py\u001b[0m in \u001b[0;36mcall\u001b[0;34m(self, ctx, args, cancellation_manager)\u001b[0m\n\u001b[1;32m    594\u001b[0m               \u001b[0minputs\u001b[0m\u001b[0;34m=\u001b[0m\u001b[0margs\u001b[0m\u001b[0;34m,\u001b[0m\u001b[0;34m\u001b[0m\u001b[0;34m\u001b[0m\u001b[0m\n\u001b[1;32m    595\u001b[0m               \u001b[0mattrs\u001b[0m\u001b[0;34m=\u001b[0m\u001b[0mattrs\u001b[0m\u001b[0;34m,\u001b[0m\u001b[0;34m\u001b[0m\u001b[0;34m\u001b[0m\u001b[0m\n\u001b[0;32m--> 596\u001b[0;31m               ctx=ctx)\n\u001b[0m\u001b[1;32m    597\u001b[0m         \u001b[0;32melse\u001b[0m\u001b[0;34m:\u001b[0m\u001b[0;34m\u001b[0m\u001b[0;34m\u001b[0m\u001b[0m\n\u001b[1;32m    598\u001b[0m           outputs = execute.execute_with_cancellation(\n",
      "\u001b[0;32m~/Desktop/CISC867/viewmaker_reproduction/env/lib/python3.6/site-packages/tensorflow/python/eager/execute.py\u001b[0m in \u001b[0;36mquick_execute\u001b[0;34m(op_name, num_outputs, inputs, attrs, ctx, name)\u001b[0m\n\u001b[1;32m     58\u001b[0m     \u001b[0mctx\u001b[0m\u001b[0;34m.\u001b[0m\u001b[0mensure_initialized\u001b[0m\u001b[0;34m(\u001b[0m\u001b[0;34m)\u001b[0m\u001b[0;34m\u001b[0m\u001b[0;34m\u001b[0m\u001b[0m\n\u001b[1;32m     59\u001b[0m     tensors = pywrap_tfe.TFE_Py_Execute(ctx._handle, device_name, op_name,\n\u001b[0;32m---> 60\u001b[0;31m                                         inputs, attrs, num_outputs)\n\u001b[0m\u001b[1;32m     61\u001b[0m   \u001b[0;32mexcept\u001b[0m \u001b[0mcore\u001b[0m\u001b[0;34m.\u001b[0m\u001b[0m_NotOkStatusException\u001b[0m \u001b[0;32mas\u001b[0m \u001b[0me\u001b[0m\u001b[0;34m:\u001b[0m\u001b[0;34m\u001b[0m\u001b[0;34m\u001b[0m\u001b[0m\n\u001b[1;32m     62\u001b[0m     \u001b[0;32mif\u001b[0m \u001b[0mname\u001b[0m \u001b[0;32mis\u001b[0m \u001b[0;32mnot\u001b[0m \u001b[0;32mNone\u001b[0m\u001b[0;34m:\u001b[0m\u001b[0;34m\u001b[0m\u001b[0;34m\u001b[0m\u001b[0m\n",
      "\u001b[0;31mKeyboardInterrupt\u001b[0m: "
     ]
    }
   ],
   "source": [
    "classifier.compile(optimizer=tf.keras.optimizers.Adam(learning_rate=0.03), \n",
    "                    loss=tf.keras.losses.categorical_crossentropy,\n",
    "                    metrics=[tf.keras.metrics.CategoricalAccuracy()])\n",
    "x = tf.convert_to_tensor(dataset[0][0])\n",
    "y = dataset[0][1]\n",
    "x_val = tf.convert_to_tensor(dataset[1][0][:5000])\n",
    "y_val = dataset[1][1][:5000]\n",
    "classifier.fit(x=x, y=y, validation_data=(x_val, y_val), batch_size=512, epochs=100)"
   ]
  },
  {
   "cell_type": "code",
   "execution_count": 39,
   "metadata": {
    "tags": []
   },
   "outputs": [
    {
     "output_type": "stream",
     "name": "stdout",
     "text": "Epoch 1/100\n391/391 [==============================] - 10s 21ms/step - loss: 2.1574 - categorical_accuracy: 0.2382\nEpoch 2/100\n391/391 [==============================] - 8s 21ms/step - loss: 2.0178 - categorical_accuracy: 0.3185\nEpoch 3/100\n391/391 [==============================] - 8s 21ms/step - loss: 1.9546 - categorical_accuracy: 0.3385\nEpoch 4/100\n391/391 [==============================] - 8s 21ms/step - loss: 1.9134 - categorical_accuracy: 0.3530\nEpoch 5/100\n391/391 [==============================] - 8s 21ms/step - loss: 1.8840 - categorical_accuracy: 0.3594\nEpoch 6/100\n391/391 [==============================] - 8s 21ms/step - loss: 1.8588 - categorical_accuracy: 0.3686\nEpoch 7/100\n391/391 [==============================] - 8s 21ms/step - loss: 1.8409 - categorical_accuracy: 0.3738\nEpoch 8/100\n391/391 [==============================] - 8s 21ms/step - loss: 1.8240 - categorical_accuracy: 0.3790\nEpoch 9/100\n391/391 [==============================] - 8s 21ms/step - loss: 1.8089 - categorical_accuracy: 0.3842\nEpoch 10/100\n391/391 [==============================] - 8s 21ms/step - loss: 1.7956 - categorical_accuracy: 0.3879\nEpoch 11/100\n391/391 [==============================] - 8s 21ms/step - loss: 1.7842 - categorical_accuracy: 0.3922\nEpoch 12/100\n391/391 [==============================] - 8s 21ms/step - loss: 1.7735 - categorical_accuracy: 0.3959\nEpoch 13/100\n391/391 [==============================] - 8s 21ms/step - loss: 1.7624 - categorical_accuracy: 0.3995\nEpoch 14/100\n391/391 [==============================] - 8s 21ms/step - loss: 1.7528 - categorical_accuracy: 0.4029\nEpoch 15/100\n391/391 [==============================] - 8s 21ms/step - loss: 1.7442 - categorical_accuracy: 0.4044\nEpoch 16/100\n391/391 [==============================] - 8s 21ms/step - loss: 1.7360 - categorical_accuracy: 0.4084\nEpoch 17/100\n391/391 [==============================] - 8s 21ms/step - loss: 1.7275 - categorical_accuracy: 0.4100\nEpoch 18/100\n391/391 [==============================] - 8s 21ms/step - loss: 1.7208 - categorical_accuracy: 0.4138\nEpoch 19/100\n391/391 [==============================] - 8s 21ms/step - loss: 1.7128 - categorical_accuracy: 0.4172\nEpoch 20/100\n391/391 [==============================] - 8s 21ms/step - loss: 1.7065 - categorical_accuracy: 0.4180\nEpoch 21/100\n391/391 [==============================] - 8s 21ms/step - loss: 1.7006 - categorical_accuracy: 0.4199\nEpoch 22/100\n391/391 [==============================] - 8s 21ms/step - loss: 1.6942 - categorical_accuracy: 0.4211\nEpoch 23/100\n391/391 [==============================] - 8s 21ms/step - loss: 1.6878 - categorical_accuracy: 0.4227\nEpoch 24/100\n391/391 [==============================] - 8s 21ms/step - loss: 1.6821 - categorical_accuracy: 0.4271\nEpoch 25/100\n391/391 [==============================] - 8s 20ms/step - loss: 1.6764 - categorical_accuracy: 0.4280\nEpoch 26/100\n391/391 [==============================] - 8s 21ms/step - loss: 1.6715 - categorical_accuracy: 0.4297\nEpoch 27/100\n391/391 [==============================] - 8s 21ms/step - loss: 1.6666 - categorical_accuracy: 0.4296\nEpoch 28/100\n391/391 [==============================] - 8s 21ms/step - loss: 1.6613 - categorical_accuracy: 0.4323\nEpoch 29/100\n391/391 [==============================] - 8s 22ms/step - loss: 1.6565 - categorical_accuracy: 0.4333\nEpoch 30/100\n391/391 [==============================] - 8s 21ms/step - loss: 1.6514 - categorical_accuracy: 0.4353\nEpoch 31/100\n391/391 [==============================] - 8s 21ms/step - loss: 1.6470 - categorical_accuracy: 0.4366\nEpoch 32/100\n391/391 [==============================] - 8s 21ms/step - loss: 1.6426 - categorical_accuracy: 0.4383\nEpoch 33/100\n391/391 [==============================] - 8s 21ms/step - loss: 1.6393 - categorical_accuracy: 0.4387\nEpoch 34/100\n391/391 [==============================] - 8s 21ms/step - loss: 1.6342 - categorical_accuracy: 0.4418\nEpoch 35/100\n391/391 [==============================] - 8s 21ms/step - loss: 1.6307 - categorical_accuracy: 0.4439\nEpoch 36/100\n391/391 [==============================] - 8s 21ms/step - loss: 1.6267 - categorical_accuracy: 0.4447\nEpoch 37/100\n391/391 [==============================] - 8s 21ms/step - loss: 1.6234 - categorical_accuracy: 0.4446\nEpoch 38/100\n391/391 [==============================] - 8s 21ms/step - loss: 1.6202 - categorical_accuracy: 0.4456\nEpoch 39/100\n391/391 [==============================] - 8s 21ms/step - loss: 1.6162 - categorical_accuracy: 0.4485\nEpoch 40/100\n391/391 [==============================] - 8s 21ms/step - loss: 1.6125 - categorical_accuracy: 0.4492\nEpoch 41/100\n391/391 [==============================] - 8s 21ms/step - loss: 1.6093 - categorical_accuracy: 0.4500\nEpoch 42/100\n391/391 [==============================] - 8s 21ms/step - loss: 1.6058 - categorical_accuracy: 0.4515\nEpoch 43/100\n391/391 [==============================] - 8s 21ms/step - loss: 1.6027 - categorical_accuracy: 0.4525\nEpoch 44/100\n391/391 [==============================] - 8s 21ms/step - loss: 1.5994 - categorical_accuracy: 0.4528\nEpoch 45/100\n391/391 [==============================] - 8s 21ms/step - loss: 1.5961 - categorical_accuracy: 0.4549\nEpoch 46/100\n391/391 [==============================] - 8s 21ms/step - loss: 1.5929 - categorical_accuracy: 0.4560\nEpoch 47/100\n391/391 [==============================] - 8s 21ms/step - loss: 1.5902 - categorical_accuracy: 0.4562\nEpoch 48/100\n391/391 [==============================] - 8s 21ms/step - loss: 1.5872 - categorical_accuracy: 0.4569\nEpoch 49/100\n391/391 [==============================] - 8s 21ms/step - loss: 1.5844 - categorical_accuracy: 0.4587\nEpoch 50/100\n391/391 [==============================] - 8s 21ms/step - loss: 1.5820 - categorical_accuracy: 0.4600\nEpoch 51/100\n391/391 [==============================] - 8s 20ms/step - loss: 1.5789 - categorical_accuracy: 0.4604\nEpoch 52/100\n391/391 [==============================] - 8s 21ms/step - loss: 1.5759 - categorical_accuracy: 0.4605\nEpoch 53/100\n391/391 [==============================] - 8s 21ms/step - loss: 1.5744 - categorical_accuracy: 0.4618\nEpoch 54/100\n391/391 [==============================] - 8s 21ms/step - loss: 1.5712 - categorical_accuracy: 0.4624\nEpoch 55/100\n391/391 [==============================] - 8s 21ms/step - loss: 1.5688 - categorical_accuracy: 0.4644\nEpoch 56/100\n391/391 [==============================] - 8s 21ms/step - loss: 1.5665 - categorical_accuracy: 0.4644\nEpoch 57/100\n391/391 [==============================] - 8s 21ms/step - loss: 1.5639 - categorical_accuracy: 0.4662\nEpoch 58/100\n391/391 [==============================] - 8s 21ms/step - loss: 1.5612 - categorical_accuracy: 0.4659\nEpoch 59/100\n391/391 [==============================] - 8s 21ms/step - loss: 1.5590 - categorical_accuracy: 0.4668\nEpoch 60/100\n391/391 [==============================] - 8s 21ms/step - loss: 1.5566 - categorical_accuracy: 0.4678\nEpoch 61/100\n391/391 [==============================] - 8s 21ms/step - loss: 1.5546 - categorical_accuracy: 0.4675\nEpoch 62/100\n391/391 [==============================] - 8s 21ms/step - loss: 1.5516 - categorical_accuracy: 0.4698\nEpoch 63/100\n391/391 [==============================] - 8s 21ms/step - loss: 1.5497 - categorical_accuracy: 0.4702\nEpoch 64/100\n391/391 [==============================] - 8s 21ms/step - loss: 1.5483 - categorical_accuracy: 0.4702\nEpoch 65/100\n391/391 [==============================] - 8s 21ms/step - loss: 1.5454 - categorical_accuracy: 0.4710\nEpoch 66/100\n391/391 [==============================] - 8s 21ms/step - loss: 1.5440 - categorical_accuracy: 0.4724\nEpoch 67/100\n391/391 [==============================] - 8s 21ms/step - loss: 1.5409 - categorical_accuracy: 0.4743\nEpoch 68/100\n391/391 [==============================] - 8s 21ms/step - loss: 1.5393 - categorical_accuracy: 0.4749\nEpoch 69/100\n391/391 [==============================] - 8s 20ms/step - loss: 1.5375 - categorical_accuracy: 0.4747\nEpoch 70/100\n391/391 [==============================] - 8s 20ms/step - loss: 1.5356 - categorical_accuracy: 0.4740\nEpoch 71/100\n391/391 [==============================] - 8s 20ms/step - loss: 1.5336 - categorical_accuracy: 0.4760\nEpoch 72/100\n391/391 [==============================] - 8s 20ms/step - loss: 1.5320 - categorical_accuracy: 0.4760\nEpoch 73/100\n391/391 [==============================] - 8s 20ms/step - loss: 1.5297 - categorical_accuracy: 0.4771\nEpoch 74/100\n391/391 [==============================] - 8s 20ms/step - loss: 1.5282 - categorical_accuracy: 0.4749\nEpoch 75/100\n391/391 [==============================] - 8s 20ms/step - loss: 1.5260 - categorical_accuracy: 0.4776\nEpoch 76/100\n391/391 [==============================] - 8s 20ms/step - loss: 1.5240 - categorical_accuracy: 0.4782\nEpoch 77/100\n391/391 [==============================] - 8s 20ms/step - loss: 1.5226 - categorical_accuracy: 0.4794\nEpoch 78/100\n391/391 [==============================] - 8s 20ms/step - loss: 1.5214 - categorical_accuracy: 0.4794\nEpoch 79/100\n391/391 [==============================] - 8s 20ms/step - loss: 1.5188 - categorical_accuracy: 0.4798\nEpoch 80/100\n391/391 [==============================] - 8s 20ms/step - loss: 1.5178 - categorical_accuracy: 0.4802\nEpoch 81/100\n391/391 [==============================] - 8s 20ms/step - loss: 1.5157 - categorical_accuracy: 0.4821\nEpoch 82/100\n391/391 [==============================] - 8s 21ms/step - loss: 1.5137 - categorical_accuracy: 0.4833\nEpoch 83/100\n391/391 [==============================] - 8s 21ms/step - loss: 1.5124 - categorical_accuracy: 0.4817\nEpoch 84/100\n391/391 [==============================] - 8s 20ms/step - loss: 1.5105 - categorical_accuracy: 0.4839\nEpoch 85/100\n391/391 [==============================] - 8s 20ms/step - loss: 1.5095 - categorical_accuracy: 0.4844\nEpoch 86/100\n391/391 [==============================] - 8s 21ms/step - loss: 1.5078 - categorical_accuracy: 0.4844\nEpoch 87/100\n391/391 [==============================] - 8s 21ms/step - loss: 1.5058 - categorical_accuracy: 0.4854\nEpoch 88/100\n391/391 [==============================] - 8s 20ms/step - loss: 1.5047 - categorical_accuracy: 0.4861\nEpoch 89/100\n391/391 [==============================] - 8s 20ms/step - loss: 1.5028 - categorical_accuracy: 0.4859\nEpoch 90/100\n391/391 [==============================] - 8s 20ms/step - loss: 1.5014 - categorical_accuracy: 0.4867\nEpoch 91/100\n391/391 [==============================] - 8s 21ms/step - loss: 1.4997 - categorical_accuracy: 0.4880\nEpoch 92/100\n391/391 [==============================] - 8s 22ms/step - loss: 1.4981 - categorical_accuracy: 0.4876\nEpoch 93/100\n391/391 [==============================] - 8s 21ms/step - loss: 1.4968 - categorical_accuracy: 0.4887\nEpoch 94/100\n391/391 [==============================] - 8s 21ms/step - loss: 1.4957 - categorical_accuracy: 0.4882\nEpoch 95/100\n391/391 [==============================] - 8s 21ms/step - loss: 1.4945 - categorical_accuracy: 0.4890\nEpoch 96/100\n391/391 [==============================] - 8s 21ms/step - loss: 1.4919 - categorical_accuracy: 0.4901\nEpoch 97/100\n391/391 [==============================] - 8s 21ms/step - loss: 1.4913 - categorical_accuracy: 0.4888\nEpoch 98/100\n391/391 [==============================] - 8s 21ms/step - loss: 1.4898 - categorical_accuracy: 0.4910\nEpoch 99/100\n391/391 [==============================] - 8s 21ms/step - loss: 1.4882 - categorical_accuracy: 0.4909\nEpoch 100/100\n391/391 [==============================] - 8s 21ms/step - loss: 1.4867 - categorical_accuracy: 0.4932\n"
    },
    {
     "output_type": "execute_result",
     "data": {
      "text/plain": "<keras.callbacks.History at 0x7fd8b59eacc0>"
     },
     "metadata": {},
     "execution_count": 39
    }
   ],
   "source": [
    "classifier1 = TrainClassifier(10, encoder)\n",
    "classifier1.compile(optimizer=tf.keras.optimizers.SGD(learning_rate=0.01, momentum=0.9), \n",
    "                    loss=tf.keras.losses.categorical_crossentropy,\n",
    "                    metrics=[tf.keras.metrics.CategoricalAccuracy()])\n",
    "x = tf.convert_to_tensor(dataset[0][0])\n",
    "y = dataset[0][1]\n",
    "classifier1.fit(x=x, y=y, batch_size=128, epochs=100)"
   ]
  },
  {
   "cell_type": "code",
   "execution_count": 28,
   "metadata": {},
   "outputs": [
    {
     "output_type": "execute_result",
     "data": {
      "text/plain": "((50000, 32, 32, 3), TensorShape([50000, 10]))"
     },
     "metadata": {},
     "execution_count": 28
    }
   ],
   "source": [
    "dataset[0][0].shape, dataset[0][1].shape"
   ]
  },
  {
   "cell_type": "code",
   "execution_count": 21,
   "metadata": {},
   "outputs": [
    {
     "output_type": "execute_result",
     "data": {
      "text/plain": "numpy.ndarray"
     },
     "metadata": {},
     "execution_count": 21
    }
   ],
   "source": [
    "type(dataset[0)"
   ]
  },
  {
   "cell_type": "code",
   "execution_count": 16,
   "metadata": {},
   "outputs": [],
   "source": [
    "from tensorflow.keras import Input"
   ]
  },
  {
   "cell_type": "code",
   "execution_count": 17,
   "metadata": {},
   "outputs": [],
   "source": [
    "inp = Input(shape=(32, 32, 3))"
   ]
  },
  {
   "cell_type": "code",
   "execution_count": 18,
   "metadata": {
    "tags": []
   },
   "outputs": [],
   "source": [
    "x = encoder(inp)"
   ]
  },
  {
   "cell_type": "code",
   "execution_count": 19,
   "metadata": {},
   "outputs": [
    {
     "output_type": "execute_result",
     "data": {
      "text/plain": "TensorShape([None, 8192])"
     },
     "metadata": {},
     "execution_count": 19
    }
   ],
   "source": [
    "x.shape"
   ]
  },
  {
   "cell_type": "code",
   "execution_count": 20,
   "metadata": {
    "tags": []
   },
   "outputs": [
    {
     "output_type": "stream",
     "name": "stdout",
     "text": "Model: \"sequential_13\"\n_________________________________________________________________\nLayer (type)                 Output Shape              Param #   \n=================================================================\nconv2d (Conv2D)              (None, 32, 32, 64)        1728      \n_________________________________________________________________\nbatch_normalization (BatchNo (None, 32, 32, 64)        256       \n_________________________________________________________________\nsequential_3 (Sequential)    (None, 32, 32, 64)        148480    \n_________________________________________________________________\nsequential_6 (Sequential)    (None, 16, 16, 128)       526848    \n_________________________________________________________________\nsequential_9 (Sequential)    (None, 8, 8, 256)         2102272   \n_________________________________________________________________\nsequential_12 (Sequential)   (None, 4, 4, 512)         8398848   \n_________________________________________________________________\nflatten (Flatten)            (None, 8192)              0         \n=================================================================\nTotal params: 11,178,432\nTrainable params: 0\nNon-trainable params: 11,178,432\n_________________________________________________________________\n"
    }
   ],
   "source": [
    "encoder.summary()"
   ]
  },
  {
   "cell_type": "code",
   "execution_count": 21,
   "metadata": {},
   "outputs": [],
   "source": [
    "logits = tf.keras.layers.Dense(10, activation=None)(x)"
   ]
  },
  {
   "cell_type": "code",
   "execution_count": 22,
   "metadata": {},
   "outputs": [
    {
     "output_type": "execute_result",
     "data": {
      "text/plain": "<KerasTensor: shape=(None, 10) dtype=float32 (created by layer 'dense_5')>"
     },
     "metadata": {},
     "execution_count": 22
    }
   ],
   "source": [
    "logits"
   ]
  },
  {
   "cell_type": "code",
   "execution_count": 23,
   "metadata": {},
   "outputs": [],
   "source": [
    "model = tf.keras.Model(inputs=inp, outputs=logits)"
   ]
  },
  {
   "cell_type": "code",
   "execution_count": 24,
   "metadata": {
    "tags": []
   },
   "outputs": [
    {
     "output_type": "stream",
     "name": "stdout",
     "text": "Model: \"model\"\n_________________________________________________________________\nLayer (type)                 Output Shape              Param #   \n=================================================================\ninput_1 (InputLayer)         [(None, 32, 32, 3)]       0         \n_________________________________________________________________\nsequential_13 (Sequential)   (None, 8192)              11178432  \n_________________________________________________________________\ndense_5 (Dense)              (None, 10)                81930     \n=================================================================\nTotal params: 11,260,362\nTrainable params: 81,930\nNon-trainable params: 11,178,432\n_________________________________________________________________\n"
    }
   ],
   "source": [
    "model.summary()"
   ]
  },
  {
   "cell_type": "code",
   "execution_count": 25,
   "metadata": {},
   "outputs": [],
   "source": [
    "model = tf.keras.Sequential([\n",
    "    encoder, \n",
    "    tf.keras.layers.Dense(10, activation=None)\n",
    "])"
   ]
  }
 ]
}