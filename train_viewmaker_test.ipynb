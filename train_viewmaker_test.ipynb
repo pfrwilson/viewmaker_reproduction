{
 "metadata": {
  "language_info": {
   "codemirror_mode": {
    "name": "ipython",
    "version": 3
   },
   "file_extension": ".py",
   "mimetype": "text/x-python",
   "name": "python",
   "nbconvert_exporter": "python",
   "pygments_lexer": "ipython3",
   "version": "3.6.9-final"
  },
  "orig_nbformat": 2,
  "kernelspec": {
   "name": "python3",
   "display_name": "Python 3"
  }
 },
 "nbformat": 4,
 "nbformat_minor": 2,
 "cells": [
  {
   "cell_type": "code",
   "execution_count": 1,
   "metadata": {},
   "outputs": [],
   "source": [
    "import tensorflow as tf\n",
    "import numpy as np\n",
    "import matplotlib.pyplot as plt\n",
    "from SimCLR_data_util import preprocess_for_train\n",
    "from resnet_small import ResNet18\n",
    "from tensorflow.keras.layers import Dense\n",
    "from viewmaker import *\n",
    "from SimCLR import *"
   ]
  },
  {
   "cell_type": "code",
   "execution_count": 2,
   "metadata": {},
   "outputs": [
    {
     "output_type": "execute_result",
     "data": {
      "text/plain": "'2.6.0'"
     },
     "metadata": {},
     "execution_count": 2
    }
   ],
   "source": [
    "tf.__version__"
   ]
  },
  {
   "cell_type": "code",
   "execution_count": null,
   "metadata": {},
   "outputs": [],
   "source": []
  },
  {
   "cell_type": "code",
   "execution_count": 3,
   "metadata": {},
   "outputs": [
    {
     "output_type": "error",
     "ename": "InternalError",
     "evalue": "Failed copying input tensor from /job:localhost/replica:0/task:0/device:CPU:0 to /job:localhost/replica:0/task:0/device:GPU:0 in order to run _EagerConst: Dst tensor is not initialized.",
     "traceback": [
      "\u001b[0;31m---------------------------------------------------------------------------\u001b[0m",
      "\u001b[0;31mInternalError\u001b[0m                             Traceback (most recent call last)",
      "\u001b[0;32m<ipython-input-3-4609fe4d803c>\u001b[0m in \u001b[0;36m<module>\u001b[0;34m\u001b[0m\n\u001b[1;32m      1\u001b[0m \u001b[0;32mfrom\u001b[0m \u001b[0mdatasets\u001b[0m\u001b[0;34m.\u001b[0m\u001b[0mcifar_10\u001b[0m \u001b[0;32mimport\u001b[0m \u001b[0mget_unsupervised_dataset\u001b[0m\u001b[0;34m\u001b[0m\u001b[0;34m\u001b[0m\u001b[0m\n\u001b[0;32m----> 2\u001b[0;31m \u001b[0mdataset\u001b[0m \u001b[0;34m=\u001b[0m \u001b[0mget_unsupervised_dataset\u001b[0m\u001b[0;34m(\u001b[0m\u001b[0mbatch_size\u001b[0m\u001b[0;34m=\u001b[0m\u001b[0;36m64\u001b[0m\u001b[0;34m)\u001b[0m\u001b[0;34m\u001b[0m\u001b[0;34m\u001b[0m\u001b[0m\n\u001b[0m",
      "\u001b[0;32m~/Desktop/CISC867/viewmaker_reproduction/datasets/cifar_10.py\u001b[0m in \u001b[0;36mget_unsupervised_dataset\u001b[0;34m(batch_size)\u001b[0m\n\u001b[1;32m     11\u001b[0m     \u001b[0mx\u001b[0m \u001b[0;34m=\u001b[0m \u001b[0mnp\u001b[0m\u001b[0;34m.\u001b[0m\u001b[0mconcatenate\u001b[0m\u001b[0;34m(\u001b[0m\u001b[0;34m[\u001b[0m\u001b[0mx_train\u001b[0m\u001b[0;34m,\u001b[0m \u001b[0mx_test\u001b[0m\u001b[0;34m]\u001b[0m\u001b[0;34m,\u001b[0m \u001b[0maxis\u001b[0m\u001b[0;34m=\u001b[0m\u001b[0;36m0\u001b[0m\u001b[0;34m)\u001b[0m\u001b[0;34m\u001b[0m\u001b[0;34m\u001b[0m\u001b[0m\n\u001b[1;32m     12\u001b[0m     \u001b[0mx\u001b[0m \u001b[0;34m=\u001b[0m \u001b[0mx\u001b[0m\u001b[0;34m.\u001b[0m\u001b[0mastype\u001b[0m\u001b[0;34m(\u001b[0m\u001b[0;34m'float32'\u001b[0m\u001b[0;34m)\u001b[0m\u001b[0;34m\u001b[0m\u001b[0;34m\u001b[0m\u001b[0m\n\u001b[0;32m---> 13\u001b[0;31m     \u001b[0mdataset\u001b[0m \u001b[0;34m=\u001b[0m \u001b[0mtf\u001b[0m\u001b[0;34m.\u001b[0m\u001b[0mdata\u001b[0m\u001b[0;34m.\u001b[0m\u001b[0mDataset\u001b[0m\u001b[0;34m.\u001b[0m\u001b[0mfrom_tensor_slices\u001b[0m\u001b[0;34m(\u001b[0m\u001b[0mx\u001b[0m\u001b[0;34m)\u001b[0m\u001b[0;34m\u001b[0m\u001b[0;34m\u001b[0m\u001b[0m\n\u001b[0m\u001b[1;32m     14\u001b[0m     \u001b[0mdataset\u001b[0m \u001b[0;34m=\u001b[0m \u001b[0mdataset\u001b[0m\u001b[0;34m.\u001b[0m\u001b[0mbatch\u001b[0m\u001b[0;34m(\u001b[0m\u001b[0mbatch_size\u001b[0m\u001b[0;34m)\u001b[0m\u001b[0;34m\u001b[0m\u001b[0;34m\u001b[0m\u001b[0m\n\u001b[1;32m     15\u001b[0m \u001b[0;34m\u001b[0m\u001b[0m\n",
      "\u001b[0;32m~/Desktop/CISC867/viewmaker_reproduction/env/lib/python3.6/site-packages/tensorflow/python/data/ops/dataset_ops.py\u001b[0m in \u001b[0;36mfrom_tensor_slices\u001b[0;34m(tensors)\u001b[0m\n\u001b[1;32m    683\u001b[0m       \u001b[0mDataset\u001b[0m\u001b[0;34m:\u001b[0m \u001b[0mA\u001b[0m\u001b[0;31m \u001b[0m\u001b[0;31m`\u001b[0m\u001b[0mDataset\u001b[0m\u001b[0;31m`\u001b[0m\u001b[0;34m.\u001b[0m\u001b[0;34m\u001b[0m\u001b[0;34m\u001b[0m\u001b[0m\n\u001b[1;32m    684\u001b[0m     \"\"\"\n\u001b[0;32m--> 685\u001b[0;31m     \u001b[0;32mreturn\u001b[0m \u001b[0mTensorSliceDataset\u001b[0m\u001b[0;34m(\u001b[0m\u001b[0mtensors\u001b[0m\u001b[0;34m)\u001b[0m\u001b[0;34m\u001b[0m\u001b[0;34m\u001b[0m\u001b[0m\n\u001b[0m\u001b[1;32m    686\u001b[0m \u001b[0;34m\u001b[0m\u001b[0m\n\u001b[1;32m    687\u001b[0m   \u001b[0;32mclass\u001b[0m \u001b[0m_GeneratorState\u001b[0m\u001b[0;34m(\u001b[0m\u001b[0mobject\u001b[0m\u001b[0;34m)\u001b[0m\u001b[0;34m:\u001b[0m\u001b[0;34m\u001b[0m\u001b[0;34m\u001b[0m\u001b[0m\n",
      "\u001b[0;32m~/Desktop/CISC867/viewmaker_reproduction/env/lib/python3.6/site-packages/tensorflow/python/data/ops/dataset_ops.py\u001b[0m in \u001b[0;36m__init__\u001b[0;34m(self, element)\u001b[0m\n\u001b[1;32m   3842\u001b[0m   \u001b[0;32mdef\u001b[0m \u001b[0m__init__\u001b[0m\u001b[0;34m(\u001b[0m\u001b[0mself\u001b[0m\u001b[0;34m,\u001b[0m \u001b[0melement\u001b[0m\u001b[0;34m)\u001b[0m\u001b[0;34m:\u001b[0m\u001b[0;34m\u001b[0m\u001b[0;34m\u001b[0m\u001b[0m\n\u001b[1;32m   3843\u001b[0m     \u001b[0;34m\"\"\"See `Dataset.from_tensor_slices()` for details.\"\"\"\u001b[0m\u001b[0;34m\u001b[0m\u001b[0;34m\u001b[0m\u001b[0m\n\u001b[0;32m-> 3844\u001b[0;31m     \u001b[0melement\u001b[0m \u001b[0;34m=\u001b[0m \u001b[0mstructure\u001b[0m\u001b[0;34m.\u001b[0m\u001b[0mnormalize_element\u001b[0m\u001b[0;34m(\u001b[0m\u001b[0melement\u001b[0m\u001b[0;34m)\u001b[0m\u001b[0;34m\u001b[0m\u001b[0;34m\u001b[0m\u001b[0m\n\u001b[0m\u001b[1;32m   3845\u001b[0m     \u001b[0mbatched_spec\u001b[0m \u001b[0;34m=\u001b[0m \u001b[0mstructure\u001b[0m\u001b[0;34m.\u001b[0m\u001b[0mtype_spec_from_value\u001b[0m\u001b[0;34m(\u001b[0m\u001b[0melement\u001b[0m\u001b[0;34m)\u001b[0m\u001b[0;34m\u001b[0m\u001b[0;34m\u001b[0m\u001b[0m\n\u001b[1;32m   3846\u001b[0m     \u001b[0mself\u001b[0m\u001b[0;34m.\u001b[0m\u001b[0m_tensors\u001b[0m \u001b[0;34m=\u001b[0m \u001b[0mstructure\u001b[0m\u001b[0;34m.\u001b[0m\u001b[0mto_batched_tensor_list\u001b[0m\u001b[0;34m(\u001b[0m\u001b[0mbatched_spec\u001b[0m\u001b[0;34m,\u001b[0m \u001b[0melement\u001b[0m\u001b[0;34m)\u001b[0m\u001b[0;34m\u001b[0m\u001b[0;34m\u001b[0m\u001b[0m\n",
      "\u001b[0;32m~/Desktop/CISC867/viewmaker_reproduction/env/lib/python3.6/site-packages/tensorflow/python/data/util/structure.py\u001b[0m in \u001b[0;36mnormalize_element\u001b[0;34m(element, element_signature)\u001b[0m\n\u001b[1;32m    127\u001b[0m           \u001b[0mdtype\u001b[0m \u001b[0;34m=\u001b[0m \u001b[0mgetattr\u001b[0m\u001b[0;34m(\u001b[0m\u001b[0mspec\u001b[0m\u001b[0;34m,\u001b[0m \u001b[0;34m\"dtype\"\u001b[0m\u001b[0;34m,\u001b[0m \u001b[0;32mNone\u001b[0m\u001b[0;34m)\u001b[0m\u001b[0;34m\u001b[0m\u001b[0;34m\u001b[0m\u001b[0m\n\u001b[1;32m    128\u001b[0m           normalized_components.append(\n\u001b[0;32m--> 129\u001b[0;31m               ops.convert_to_tensor(t, name=\"component_%d\" % i, dtype=dtype))\n\u001b[0m\u001b[1;32m    130\u001b[0m   \u001b[0;32mreturn\u001b[0m \u001b[0mnest\u001b[0m\u001b[0;34m.\u001b[0m\u001b[0mpack_sequence_as\u001b[0m\u001b[0;34m(\u001b[0m\u001b[0mpack_as\u001b[0m\u001b[0;34m,\u001b[0m \u001b[0mnormalized_components\u001b[0m\u001b[0;34m)\u001b[0m\u001b[0;34m\u001b[0m\u001b[0;34m\u001b[0m\u001b[0m\n\u001b[1;32m    131\u001b[0m \u001b[0;34m\u001b[0m\u001b[0m\n",
      "\u001b[0;32m~/Desktop/CISC867/viewmaker_reproduction/env/lib/python3.6/site-packages/tensorflow/python/profiler/trace.py\u001b[0m in \u001b[0;36mwrapped\u001b[0;34m(*args, **kwargs)\u001b[0m\n\u001b[1;32m    161\u001b[0m         \u001b[0;32mwith\u001b[0m \u001b[0mTrace\u001b[0m\u001b[0;34m(\u001b[0m\u001b[0mtrace_name\u001b[0m\u001b[0;34m,\u001b[0m \u001b[0;34m**\u001b[0m\u001b[0mtrace_kwargs\u001b[0m\u001b[0;34m)\u001b[0m\u001b[0;34m:\u001b[0m\u001b[0;34m\u001b[0m\u001b[0;34m\u001b[0m\u001b[0m\n\u001b[1;32m    162\u001b[0m           \u001b[0;32mreturn\u001b[0m \u001b[0mfunc\u001b[0m\u001b[0;34m(\u001b[0m\u001b[0;34m*\u001b[0m\u001b[0margs\u001b[0m\u001b[0;34m,\u001b[0m \u001b[0;34m**\u001b[0m\u001b[0mkwargs\u001b[0m\u001b[0;34m)\u001b[0m\u001b[0;34m\u001b[0m\u001b[0;34m\u001b[0m\u001b[0m\n\u001b[0;32m--> 163\u001b[0;31m       \u001b[0;32mreturn\u001b[0m \u001b[0mfunc\u001b[0m\u001b[0;34m(\u001b[0m\u001b[0;34m*\u001b[0m\u001b[0margs\u001b[0m\u001b[0;34m,\u001b[0m \u001b[0;34m**\u001b[0m\u001b[0mkwargs\u001b[0m\u001b[0;34m)\u001b[0m\u001b[0;34m\u001b[0m\u001b[0;34m\u001b[0m\u001b[0m\n\u001b[0m\u001b[1;32m    164\u001b[0m \u001b[0;34m\u001b[0m\u001b[0m\n\u001b[1;32m    165\u001b[0m     \u001b[0;32mreturn\u001b[0m \u001b[0mwrapped\u001b[0m\u001b[0;34m\u001b[0m\u001b[0;34m\u001b[0m\u001b[0m\n",
      "\u001b[0;32m~/Desktop/CISC867/viewmaker_reproduction/env/lib/python3.6/site-packages/tensorflow/python/framework/ops.py\u001b[0m in \u001b[0;36mconvert_to_tensor\u001b[0;34m(value, dtype, name, as_ref, preferred_dtype, dtype_hint, ctx, accepted_result_types)\u001b[0m\n\u001b[1;32m   1564\u001b[0m \u001b[0;34m\u001b[0m\u001b[0m\n\u001b[1;32m   1565\u001b[0m     \u001b[0;32mif\u001b[0m \u001b[0mret\u001b[0m \u001b[0;32mis\u001b[0m \u001b[0;32mNone\u001b[0m\u001b[0;34m:\u001b[0m\u001b[0;34m\u001b[0m\u001b[0;34m\u001b[0m\u001b[0m\n\u001b[0;32m-> 1566\u001b[0;31m       \u001b[0mret\u001b[0m \u001b[0;34m=\u001b[0m \u001b[0mconversion_func\u001b[0m\u001b[0;34m(\u001b[0m\u001b[0mvalue\u001b[0m\u001b[0;34m,\u001b[0m \u001b[0mdtype\u001b[0m\u001b[0;34m=\u001b[0m\u001b[0mdtype\u001b[0m\u001b[0;34m,\u001b[0m \u001b[0mname\u001b[0m\u001b[0;34m=\u001b[0m\u001b[0mname\u001b[0m\u001b[0;34m,\u001b[0m \u001b[0mas_ref\u001b[0m\u001b[0;34m=\u001b[0m\u001b[0mas_ref\u001b[0m\u001b[0;34m)\u001b[0m\u001b[0;34m\u001b[0m\u001b[0;34m\u001b[0m\u001b[0m\n\u001b[0m\u001b[1;32m   1567\u001b[0m \u001b[0;34m\u001b[0m\u001b[0m\n\u001b[1;32m   1568\u001b[0m     \u001b[0;32mif\u001b[0m \u001b[0mret\u001b[0m \u001b[0;32mis\u001b[0m \u001b[0mNotImplemented\u001b[0m\u001b[0;34m:\u001b[0m\u001b[0;34m\u001b[0m\u001b[0;34m\u001b[0m\u001b[0m\n",
      "\u001b[0;32m~/Desktop/CISC867/viewmaker_reproduction/env/lib/python3.6/site-packages/tensorflow/python/framework/tensor_conversion_registry.py\u001b[0m in \u001b[0;36m_default_conversion_function\u001b[0;34m(***failed resolving arguments***)\u001b[0m\n\u001b[1;32m     50\u001b[0m \u001b[0;32mdef\u001b[0m \u001b[0m_default_conversion_function\u001b[0m\u001b[0;34m(\u001b[0m\u001b[0mvalue\u001b[0m\u001b[0;34m,\u001b[0m \u001b[0mdtype\u001b[0m\u001b[0;34m,\u001b[0m \u001b[0mname\u001b[0m\u001b[0;34m,\u001b[0m \u001b[0mas_ref\u001b[0m\u001b[0;34m)\u001b[0m\u001b[0;34m:\u001b[0m\u001b[0;34m\u001b[0m\u001b[0;34m\u001b[0m\u001b[0m\n\u001b[1;32m     51\u001b[0m   \u001b[0;32mdel\u001b[0m \u001b[0mas_ref\u001b[0m  \u001b[0;31m# Unused.\u001b[0m\u001b[0;34m\u001b[0m\u001b[0;34m\u001b[0m\u001b[0m\n\u001b[0;32m---> 52\u001b[0;31m   \u001b[0;32mreturn\u001b[0m \u001b[0mconstant_op\u001b[0m\u001b[0;34m.\u001b[0m\u001b[0mconstant\u001b[0m\u001b[0;34m(\u001b[0m\u001b[0mvalue\u001b[0m\u001b[0;34m,\u001b[0m \u001b[0mdtype\u001b[0m\u001b[0;34m,\u001b[0m \u001b[0mname\u001b[0m\u001b[0;34m=\u001b[0m\u001b[0mname\u001b[0m\u001b[0;34m)\u001b[0m\u001b[0;34m\u001b[0m\u001b[0;34m\u001b[0m\u001b[0m\n\u001b[0m\u001b[1;32m     53\u001b[0m \u001b[0;34m\u001b[0m\u001b[0m\n\u001b[1;32m     54\u001b[0m \u001b[0;34m\u001b[0m\u001b[0m\n",
      "\u001b[0;32m~/Desktop/CISC867/viewmaker_reproduction/env/lib/python3.6/site-packages/tensorflow/python/framework/constant_op.py\u001b[0m in \u001b[0;36mconstant\u001b[0;34m(value, dtype, shape, name)\u001b[0m\n\u001b[1;32m    270\u001b[0m   \"\"\"\n\u001b[1;32m    271\u001b[0m   return _constant_impl(value, dtype, shape, name, verify_shape=False,\n\u001b[0;32m--> 272\u001b[0;31m                         allow_broadcast=True)\n\u001b[0m\u001b[1;32m    273\u001b[0m \u001b[0;34m\u001b[0m\u001b[0m\n\u001b[1;32m    274\u001b[0m \u001b[0;34m\u001b[0m\u001b[0m\n",
      "\u001b[0;32m~/Desktop/CISC867/viewmaker_reproduction/env/lib/python3.6/site-packages/tensorflow/python/framework/constant_op.py\u001b[0m in \u001b[0;36m_constant_impl\u001b[0;34m(value, dtype, shape, name, verify_shape, allow_broadcast)\u001b[0m\n\u001b[1;32m    281\u001b[0m       \u001b[0;32mwith\u001b[0m \u001b[0mtrace\u001b[0m\u001b[0;34m.\u001b[0m\u001b[0mTrace\u001b[0m\u001b[0;34m(\u001b[0m\u001b[0;34m\"tf.constant\"\u001b[0m\u001b[0;34m)\u001b[0m\u001b[0;34m:\u001b[0m\u001b[0;34m\u001b[0m\u001b[0;34m\u001b[0m\u001b[0m\n\u001b[1;32m    282\u001b[0m         \u001b[0;32mreturn\u001b[0m \u001b[0m_constant_eager_impl\u001b[0m\u001b[0;34m(\u001b[0m\u001b[0mctx\u001b[0m\u001b[0;34m,\u001b[0m \u001b[0mvalue\u001b[0m\u001b[0;34m,\u001b[0m \u001b[0mdtype\u001b[0m\u001b[0;34m,\u001b[0m \u001b[0mshape\u001b[0m\u001b[0;34m,\u001b[0m \u001b[0mverify_shape\u001b[0m\u001b[0;34m)\u001b[0m\u001b[0;34m\u001b[0m\u001b[0;34m\u001b[0m\u001b[0m\n\u001b[0;32m--> 283\u001b[0;31m     \u001b[0;32mreturn\u001b[0m \u001b[0m_constant_eager_impl\u001b[0m\u001b[0;34m(\u001b[0m\u001b[0mctx\u001b[0m\u001b[0;34m,\u001b[0m \u001b[0mvalue\u001b[0m\u001b[0;34m,\u001b[0m \u001b[0mdtype\u001b[0m\u001b[0;34m,\u001b[0m \u001b[0mshape\u001b[0m\u001b[0;34m,\u001b[0m \u001b[0mverify_shape\u001b[0m\u001b[0;34m)\u001b[0m\u001b[0;34m\u001b[0m\u001b[0;34m\u001b[0m\u001b[0m\n\u001b[0m\u001b[1;32m    284\u001b[0m \u001b[0;34m\u001b[0m\u001b[0m\n\u001b[1;32m    285\u001b[0m   \u001b[0mg\u001b[0m \u001b[0;34m=\u001b[0m \u001b[0mops\u001b[0m\u001b[0;34m.\u001b[0m\u001b[0mget_default_graph\u001b[0m\u001b[0;34m(\u001b[0m\u001b[0;34m)\u001b[0m\u001b[0;34m\u001b[0m\u001b[0;34m\u001b[0m\u001b[0m\n",
      "\u001b[0;32m~/Desktop/CISC867/viewmaker_reproduction/env/lib/python3.6/site-packages/tensorflow/python/framework/constant_op.py\u001b[0m in \u001b[0;36m_constant_eager_impl\u001b[0;34m(ctx, value, dtype, shape, verify_shape)\u001b[0m\n\u001b[1;32m    306\u001b[0m \u001b[0;32mdef\u001b[0m \u001b[0m_constant_eager_impl\u001b[0m\u001b[0;34m(\u001b[0m\u001b[0mctx\u001b[0m\u001b[0;34m,\u001b[0m \u001b[0mvalue\u001b[0m\u001b[0;34m,\u001b[0m \u001b[0mdtype\u001b[0m\u001b[0;34m,\u001b[0m \u001b[0mshape\u001b[0m\u001b[0;34m,\u001b[0m \u001b[0mverify_shape\u001b[0m\u001b[0;34m)\u001b[0m\u001b[0;34m:\u001b[0m\u001b[0;34m\u001b[0m\u001b[0;34m\u001b[0m\u001b[0m\n\u001b[1;32m    307\u001b[0m   \u001b[0;34m\"\"\"Creates a constant on the current device.\"\"\"\u001b[0m\u001b[0;34m\u001b[0m\u001b[0;34m\u001b[0m\u001b[0m\n\u001b[0;32m--> 308\u001b[0;31m   \u001b[0mt\u001b[0m \u001b[0;34m=\u001b[0m \u001b[0mconvert_to_eager_tensor\u001b[0m\u001b[0;34m(\u001b[0m\u001b[0mvalue\u001b[0m\u001b[0;34m,\u001b[0m \u001b[0mctx\u001b[0m\u001b[0;34m,\u001b[0m \u001b[0mdtype\u001b[0m\u001b[0;34m)\u001b[0m\u001b[0;34m\u001b[0m\u001b[0;34m\u001b[0m\u001b[0m\n\u001b[0m\u001b[1;32m    309\u001b[0m   \u001b[0;32mif\u001b[0m \u001b[0mshape\u001b[0m \u001b[0;32mis\u001b[0m \u001b[0;32mNone\u001b[0m\u001b[0;34m:\u001b[0m\u001b[0;34m\u001b[0m\u001b[0;34m\u001b[0m\u001b[0m\n\u001b[1;32m    310\u001b[0m     \u001b[0;32mreturn\u001b[0m \u001b[0mt\u001b[0m\u001b[0;34m\u001b[0m\u001b[0;34m\u001b[0m\u001b[0m\n",
      "\u001b[0;32m~/Desktop/CISC867/viewmaker_reproduction/env/lib/python3.6/site-packages/tensorflow/python/framework/constant_op.py\u001b[0m in \u001b[0;36mconvert_to_eager_tensor\u001b[0;34m(value, ctx, dtype)\u001b[0m\n\u001b[1;32m    104\u001b[0m       \u001b[0mdtype\u001b[0m \u001b[0;34m=\u001b[0m \u001b[0mdtypes\u001b[0m\u001b[0;34m.\u001b[0m\u001b[0mas_dtype\u001b[0m\u001b[0;34m(\u001b[0m\u001b[0mdtype\u001b[0m\u001b[0;34m)\u001b[0m\u001b[0;34m.\u001b[0m\u001b[0mas_datatype_enum\u001b[0m\u001b[0;34m\u001b[0m\u001b[0;34m\u001b[0m\u001b[0m\n\u001b[1;32m    105\u001b[0m   \u001b[0mctx\u001b[0m\u001b[0;34m.\u001b[0m\u001b[0mensure_initialized\u001b[0m\u001b[0;34m(\u001b[0m\u001b[0;34m)\u001b[0m\u001b[0;34m\u001b[0m\u001b[0;34m\u001b[0m\u001b[0m\n\u001b[0;32m--> 106\u001b[0;31m   \u001b[0;32mreturn\u001b[0m \u001b[0mops\u001b[0m\u001b[0;34m.\u001b[0m\u001b[0mEagerTensor\u001b[0m\u001b[0;34m(\u001b[0m\u001b[0mvalue\u001b[0m\u001b[0;34m,\u001b[0m \u001b[0mctx\u001b[0m\u001b[0;34m.\u001b[0m\u001b[0mdevice_name\u001b[0m\u001b[0;34m,\u001b[0m \u001b[0mdtype\u001b[0m\u001b[0;34m)\u001b[0m\u001b[0;34m\u001b[0m\u001b[0;34m\u001b[0m\u001b[0m\n\u001b[0m\u001b[1;32m    107\u001b[0m \u001b[0;34m\u001b[0m\u001b[0m\n\u001b[1;32m    108\u001b[0m \u001b[0;34m\u001b[0m\u001b[0m\n",
      "\u001b[0;31mInternalError\u001b[0m: Failed copying input tensor from /job:localhost/replica:0/task:0/device:CPU:0 to /job:localhost/replica:0/task:0/device:GPU:0 in order to run _EagerConst: Dst tensor is not initialized."
     ]
    }
   ],
   "source": [
    "from datasets.cifar_10 import get_unsupervised_dataset\n",
    "dataset = get_unsupervised_dataset(batch_size=64)"
   ]
  },
  {
   "cell_type": "code",
   "execution_count": null,
   "metadata": {
    "tags": []
   },
   "outputs": [],
   "source": [
    "batch = next(iter(dataset))\n",
    "viewmaker = Viewmaker()\n",
    "batch_augmented = viewmaker(batch)\n",
    "fix, (axis1, axis2) = plt.subplots(1, 2)\n",
    "axis1.imshow(batch[0])\n",
    "axis2.imshow(batch_augmented[0])"
   ]
  },
  {
   "cell_type": "code",
   "execution_count": 5,
   "metadata": {},
   "outputs": [
    {
     "output_type": "error",
     "ename": "AttributeError",
     "evalue": "The layer has never been called and thus has no defined output shape.",
     "traceback": [
      "\u001b[0;31m---------------------------------------------------------------------------\u001b[0m",
      "\u001b[0;31mAttributeError\u001b[0m                            Traceback (most recent call last)",
      "\u001b[0;32m<ipython-input-5-93c363d84f62>\u001b[0m in \u001b[0;36m<module>\u001b[0;34m\u001b[0m\n\u001b[0;32m----> 1\u001b[0;31m \u001b[0mviewmaker\u001b[0m\u001b[0;34m.\u001b[0m\u001b[0moutput_shape\u001b[0m\u001b[0;34m\u001b[0m\u001b[0;34m\u001b[0m\u001b[0m\n\u001b[0m",
      "\u001b[0;32m~/Desktop/CISC867/viewmaker_reproduction/env/lib/python3.6/site-packages/keras/engine/base_layer.py\u001b[0m in \u001b[0;36moutput_shape\u001b[0;34m(self)\u001b[0m\n\u001b[1;32m   2168\u001b[0m     \"\"\"\n\u001b[1;32m   2169\u001b[0m     \u001b[0;32mif\u001b[0m \u001b[0;32mnot\u001b[0m \u001b[0mself\u001b[0m\u001b[0;34m.\u001b[0m\u001b[0m_inbound_nodes\u001b[0m\u001b[0;34m:\u001b[0m\u001b[0;34m\u001b[0m\u001b[0;34m\u001b[0m\u001b[0m\n\u001b[0;32m-> 2170\u001b[0;31m       raise AttributeError('The layer has never been called '\n\u001b[0m\u001b[1;32m   2171\u001b[0m                            'and thus has no defined output shape.')\n\u001b[1;32m   2172\u001b[0m     all_output_shapes = set(\n",
      "\u001b[0;31mAttributeError\u001b[0m: The layer has never been called and thus has no defined output shape."
     ]
    }
   ],
   "source": [
    "viewmaker.output_shape"
   ]
  },
  {
   "cell_type": "code",
   "execution_count": 5,
   "metadata": {},
   "outputs": [],
   "source": [
    "def get_encoder():\n",
    "    model = ResNet18(10)\n",
    "    encoder = tf.keras.Sequential(model.layers[:-1])\n",
    "    # encoder = tf.keras.Sequential([\n",
    "    #     encoder, \n",
    "    #     tf.keras.layers.ReLU(), \n",
    "    #     tf.keras.layers.Dense(2048)\n",
    "    # ])\n",
    "    return encoder\n",
    "\n",
    "encoder = get_encoder()"
   ]
  },
  {
   "cell_type": "code",
   "execution_count": 6,
   "metadata": {
    "tags": []
   },
   "outputs": [
    {
     "output_type": "error",
     "ename": "NameError",
     "evalue": "name 'dataset' is not defined",
     "traceback": [
      "\u001b[0;31m---------------------------------------------------------------------------\u001b[0m",
      "\u001b[0;31mNameError\u001b[0m                                 Traceback (most recent call last)",
      "\u001b[0;32m<ipython-input-6-5dbc3d0f4934>\u001b[0m in \u001b[0;36m<module>\u001b[0;34m\u001b[0m\n\u001b[0;32m----> 1\u001b[0;31m \u001b[0mbatch\u001b[0m \u001b[0;34m=\u001b[0m \u001b[0mnext\u001b[0m\u001b[0;34m(\u001b[0m\u001b[0miter\u001b[0m\u001b[0;34m(\u001b[0m\u001b[0mdataset\u001b[0m\u001b[0;34m)\u001b[0m\u001b[0;34m)\u001b[0m\u001b[0;34m\u001b[0m\u001b[0;34m\u001b[0m\u001b[0m\n\u001b[0m\u001b[1;32m      2\u001b[0m \u001b[0moutput\u001b[0m \u001b[0;34m=\u001b[0m \u001b[0mencoder\u001b[0m\u001b[0;34m(\u001b[0m\u001b[0mbatch\u001b[0m\u001b[0;34m)\u001b[0m\u001b[0;34m\u001b[0m\u001b[0;34m\u001b[0m\u001b[0m\n\u001b[1;32m      3\u001b[0m \u001b[0mencoder\u001b[0m\u001b[0;34m.\u001b[0m\u001b[0msummary\u001b[0m\u001b[0;34m(\u001b[0m\u001b[0;34m)\u001b[0m\u001b[0;34m\u001b[0m\u001b[0;34m\u001b[0m\u001b[0m\n\u001b[1;32m      4\u001b[0m \u001b[0mprint\u001b[0m\u001b[0;34m(\u001b[0m\u001b[0;34mf'input shape: {batch.shape}'\u001b[0m\u001b[0;34m)\u001b[0m\u001b[0;34m\u001b[0m\u001b[0;34m\u001b[0m\u001b[0m\n\u001b[1;32m      5\u001b[0m \u001b[0mprint\u001b[0m\u001b[0;34m(\u001b[0m\u001b[0;34mf'output shape: {output.shape}'\u001b[0m\u001b[0;34m)\u001b[0m\u001b[0;34m\u001b[0m\u001b[0;34m\u001b[0m\u001b[0m\n",
      "\u001b[0;31mNameError\u001b[0m: name 'dataset' is not defined"
     ]
    }
   ],
   "source": [
    "batch = next(iter(dataset))\n",
    "output = encoder(batch)\n",
    "encoder.summary()\n",
    "print(f'input shape: {batch.shape}')\n",
    "print(f'output shape: {output.shape}')"
   ]
  },
  {
   "cell_type": "code",
   "execution_count": 7,
   "metadata": {
    "tags": []
   },
   "outputs": [
    {
     "output_type": "error",
     "ename": "NameError",
     "evalue": "name 'dataset' is not defined",
     "traceback": [
      "\u001b[0;31m---------------------------------------------------------------------------\u001b[0m",
      "\u001b[0;31mNameError\u001b[0m                                 Traceback (most recent call last)",
      "\u001b[0;32m<ipython-input-7-19189ac30019>\u001b[0m in \u001b[0;36m<module>\u001b[0;34m\u001b[0m\n\u001b[0;32m----> 1\u001b[0;31m \u001b[0mbatch\u001b[0m \u001b[0;34m=\u001b[0m \u001b[0mnext\u001b[0m\u001b[0;34m(\u001b[0m\u001b[0miter\u001b[0m\u001b[0;34m(\u001b[0m\u001b[0mdataset\u001b[0m\u001b[0;34m)\u001b[0m\u001b[0;34m)\u001b[0m\u001b[0;34m\u001b[0m\u001b[0;34m\u001b[0m\u001b[0m\n\u001b[0m\u001b[1;32m      2\u001b[0m \u001b[0mviewmaker\u001b[0m \u001b[0;34m=\u001b[0m \u001b[0mViewmaker\u001b[0m\u001b[0;34m(\u001b[0m\u001b[0;34m)\u001b[0m\u001b[0;34m\u001b[0m\u001b[0;34m\u001b[0m\u001b[0m\n\u001b[1;32m      3\u001b[0m \u001b[0moutput\u001b[0m \u001b[0;34m=\u001b[0m \u001b[0mviewmaker\u001b[0m\u001b[0;34m(\u001b[0m\u001b[0mbatch\u001b[0m\u001b[0;34m)\u001b[0m\u001b[0;34m\u001b[0m\u001b[0;34m\u001b[0m\u001b[0m\n\u001b[1;32m      4\u001b[0m \u001b[0mviewmaker\u001b[0m\u001b[0;34m.\u001b[0m\u001b[0msummary\u001b[0m\u001b[0;34m(\u001b[0m\u001b[0;34m)\u001b[0m\u001b[0;34m\u001b[0m\u001b[0;34m\u001b[0m\u001b[0m\n\u001b[1;32m      5\u001b[0m \u001b[0mprint\u001b[0m\u001b[0;34m(\u001b[0m\u001b[0;34mf'input shape: {batch.shape}'\u001b[0m\u001b[0;34m)\u001b[0m\u001b[0;34m\u001b[0m\u001b[0;34m\u001b[0m\u001b[0m\n",
      "\u001b[0;31mNameError\u001b[0m: name 'dataset' is not defined"
     ]
    }
   ],
   "source": [
    "batch = next(iter(dataset))\n",
    "viewmaker = Viewmaker()\n",
    "output = viewmaker(batch)\n",
    "viewmaker.summary()\n",
    "print(f'input shape: {batch.shape}')\n",
    "print(f'output shape: {output.shape}')"
   ]
  },
  {
   "cell_type": "code",
   "execution_count": 11,
   "metadata": {},
   "outputs": [],
   "source": [
    "def get_projection_head():\n",
    "\n",
    "    projection_head = tf.keras.Sequential([\n",
    "        Dense(1024, activation='relu'),\n",
    "        tf.keras.layers.Dropout(0.5),\n",
    "        Dense(512, activation='relu'),\n",
    "        tf.keras.layers.Dropout(0.5),\n",
    "        Dense(256)\n",
    "    ])\n",
    "\n",
    "    return projection_head\n",
    "\n",
    "projection_head = get_projection_head()"
   ]
  },
  {
   "cell_type": "code",
   "execution_count": 7,
   "metadata": {},
   "outputs": [
    {
     "output_type": "error",
     "ename": "NameError",
     "evalue": "name 'viewmaker' is not defined",
     "traceback": [
      "\u001b[0;31m---------------------------------------------------------------------------\u001b[0m",
      "\u001b[0;31mNameError\u001b[0m                                 Traceback (most recent call last)",
      "\u001b[0;32m<ipython-input-7-94cf7889a586>\u001b[0m in \u001b[0;36m<module>\u001b[0;34m\u001b[0m\n\u001b[0;32m----> 1\u001b[0;31m \u001b[0mmodel\u001b[0m \u001b[0;34m=\u001b[0m \u001b[0mSimCLR_adversarial\u001b[0m\u001b[0;34m(\u001b[0m\u001b[0mencoder\u001b[0m\u001b[0;34m,\u001b[0m \u001b[0mviewmaker\u001b[0m\u001b[0;34m,\u001b[0m \u001b[0mprojection_head\u001b[0m\u001b[0;34m)\u001b[0m\u001b[0;34m\u001b[0m\u001b[0;34m\u001b[0m\u001b[0m\n\u001b[0m",
      "\u001b[0;31mNameError\u001b[0m: name 'viewmaker' is not defined"
     ]
    }
   ],
   "source": [
    "model = SimCLR_adversarial(encoder, viewmaker, projection_head)"
   ]
  },
  {
   "cell_type": "code",
   "execution_count": 14,
   "metadata": {
    "tags": []
   },
   "outputs": [
    {
     "output_type": "stream",
     "name": "stdout",
     "text": "Epoch 1/100\n468/468 [==============================] - 182s 361ms/step - SimCLR loss: 4.6252 - SimCLR accuracy: 0.9893\nEpoch 2/100\n468/468 [==============================] - 167s 357ms/step - SimCLR loss: 4.6211 - SimCLR accuracy: 0.9877\nEpoch 3/100\n468/468 [==============================] - 165s 353ms/step - SimCLR loss: 4.6094 - SimCLR accuracy: 0.9944\nEpoch 4/100\n468/468 [==============================] - 169s 362ms/step - SimCLR loss: 4.6178 - SimCLR accuracy: 0.9867\nEpoch 5/100\n468/468 [==============================] - 165s 352ms/step - SimCLR loss: 4.6278 - SimCLR accuracy: 0.9712\nEpoch 6/100\n468/468 [==============================] - 161s 343ms/step - SimCLR loss: 4.6298 - SimCLR accuracy: 0.9692\nEpoch 7/100\n468/468 [==============================] - 161s 343ms/step - SimCLR loss: 4.6362 - SimCLR accuracy: 0.9608\nEpoch 8/100\n468/468 [==============================] - 161s 343ms/step - SimCLR loss: 4.6379 - SimCLR accuracy: 0.9629\nEpoch 9/100\n468/468 [==============================] - 161s 343ms/step - SimCLR loss: 4.6382 - SimCLR accuracy: 0.9611\nEpoch 10/100\n468/468 [==============================] - 161s 344ms/step - SimCLR loss: 4.6338 - SimCLR accuracy: 0.9681\nEpoch 11/100\n468/468 [==============================] - 161s 344ms/step - SimCLR loss: 4.6331 - SimCLR accuracy: 0.9688\nEpoch 12/100\n468/468 [==============================] - 161s 344ms/step - SimCLR loss: 4.6317 - SimCLR accuracy: 0.9693\nEpoch 13/100\n468/468 [==============================] - 161s 344ms/step - SimCLR loss: 4.6325 - SimCLR accuracy: 0.9684\nEpoch 14/100\n468/468 [==============================] - 161s 344ms/step - SimCLR loss: 4.6305 - SimCLR accuracy: 0.9686\nEpoch 15/100\n468/468 [==============================] - 161s 343ms/step - SimCLR loss: 4.6341 - SimCLR accuracy: 0.9606\nEpoch 16/100\n468/468 [==============================] - 161s 343ms/step - SimCLR loss: 4.6367 - SimCLR accuracy: 0.9525\nEpoch 17/100\n468/468 [==============================] - 161s 343ms/step - SimCLR loss: 4.6380 - SimCLR accuracy: 0.9498\nEpoch 18/100\n468/468 [==============================] - 161s 344ms/step - SimCLR loss: 4.6376 - SimCLR accuracy: 0.9512\nEpoch 19/100\n468/468 [==============================] - 161s 344ms/step - SimCLR loss: 4.6334 - SimCLR accuracy: 0.9573\nEpoch 20/100\n468/468 [==============================] - 161s 344ms/step - SimCLR loss: 4.6331 - SimCLR accuracy: 0.9565\nEpoch 21/100\n468/468 [==============================] - 161s 344ms/step - SimCLR loss: 4.6310 - SimCLR accuracy: 0.9612\nEpoch 22/100\n468/468 [==============================] - 161s 344ms/step - SimCLR loss: 4.6313 - SimCLR accuracy: 0.9579\nEpoch 23/100\n468/468 [==============================] - 161s 344ms/step - SimCLR loss: 4.6304 - SimCLR accuracy: 0.9599\nEpoch 24/100\n468/468 [==============================] - 161s 344ms/step - SimCLR loss: 4.6283 - SimCLR accuracy: 0.9638\nEpoch 25/100\n468/468 [==============================] - 161s 344ms/step - SimCLR loss: 4.6285 - SimCLR accuracy: 0.9610\nEpoch 26/100\n468/468 [==============================] - 161s 344ms/step - SimCLR loss: 4.6277 - SimCLR accuracy: 0.9608\nEpoch 27/100\n468/468 [==============================] - 161s 344ms/step - SimCLR loss: 4.6275 - SimCLR accuracy: 0.9604\nEpoch 28/100\n468/468 [==============================] - 161s 344ms/step - SimCLR loss: 4.6264 - SimCLR accuracy: 0.9609\nEpoch 29/100\n468/468 [==============================] - 161s 344ms/step - SimCLR loss: 4.6264 - SimCLR accuracy: 0.9598\nEpoch 30/100\n468/468 [==============================] - 161s 344ms/step - SimCLR loss: 4.6261 - SimCLR accuracy: 0.9591\nEpoch 31/100\n468/468 [==============================] - 161s 344ms/step - SimCLR loss: 4.6253 - SimCLR accuracy: 0.9591\nEpoch 32/100\n468/468 [==============================] - 161s 344ms/step - SimCLR loss: 4.6242 - SimCLR accuracy: 0.9594\nEpoch 33/100\n468/468 [==============================] - 161s 344ms/step - SimCLR loss: 4.6228 - SimCLR accuracy: 0.9615\nEpoch 34/100\n468/468 [==============================] - 161s 344ms/step - SimCLR loss: 4.6219 - SimCLR accuracy: 0.9616\nEpoch 35/100\n468/468 [==============================] - 161s 345ms/step - SimCLR loss: 4.6206 - SimCLR accuracy: 0.9624\nEpoch 36/100\n468/468 [==============================] - 161s 344ms/step - SimCLR loss: 4.6204 - SimCLR accuracy: 0.9613\nEpoch 37/100\n468/468 [==============================] - 161s 344ms/step - SimCLR loss: 4.6183 - SimCLR accuracy: 0.9617\nEpoch 38/100\n468/468 [==============================] - 161s 344ms/step - SimCLR loss: 4.6174 - SimCLR accuracy: 0.9621\nEpoch 39/100\n468/468 [==============================] - 161s 344ms/step - SimCLR loss: 4.6161 - SimCLR accuracy: 0.9626\nEpoch 40/100\n468/468 [==============================] - 161s 344ms/step - SimCLR loss: 4.6152 - SimCLR accuracy: 0.9626\nEpoch 41/100\n468/468 [==============================] - 161s 344ms/step - SimCLR loss: 4.6143 - SimCLR accuracy: 0.9630\nEpoch 42/100\n468/468 [==============================] - 161s 345ms/step - SimCLR loss: 4.6128 - SimCLR accuracy: 0.9619\nEpoch 43/100\n468/468 [==============================] - 161s 344ms/step - SimCLR loss: 4.6119 - SimCLR accuracy: 0.9625\nEpoch 44/100\n468/468 [==============================] - 161s 344ms/step - SimCLR loss: 4.6113 - SimCLR accuracy: 0.9614\nEpoch 45/100\n468/468 [==============================] - 161s 344ms/step - SimCLR loss: 4.6102 - SimCLR accuracy: 0.9609\nEpoch 46/100\n468/468 [==============================] - 161s 344ms/step - SimCLR loss: 4.6091 - SimCLR accuracy: 0.9615\nEpoch 47/100\n468/468 [==============================] - 161s 344ms/step - SimCLR loss: 4.6075 - SimCLR accuracy: 0.9633\nEpoch 48/100\n468/468 [==============================] - 161s 344ms/step - SimCLR loss: 4.6068 - SimCLR accuracy: 0.9624\nEpoch 49/100\n468/468 [==============================] - 161s 344ms/step - SimCLR loss: 4.6055 - SimCLR accuracy: 0.9621\nEpoch 50/100\n468/468 [==============================] - 161s 344ms/step - SimCLR loss: 4.6045 - SimCLR accuracy: 0.9620\nEpoch 51/100\n468/468 [==============================] - 161s 345ms/step - SimCLR loss: 4.6031 - SimCLR accuracy: 0.9626\nEpoch 52/100\n468/468 [==============================] - 161s 344ms/step - SimCLR loss: 4.6027 - SimCLR accuracy: 0.9608\nEpoch 53/100\n468/468 [==============================] - 161s 344ms/step - SimCLR loss: 4.6016 - SimCLR accuracy: 0.9634\nEpoch 54/100\n468/468 [==============================] - 161s 344ms/step - SimCLR loss: 4.6015 - SimCLR accuracy: 0.9601\nEpoch 55/100\n468/468 [==============================] - 161s 345ms/step - SimCLR loss: 4.6000 - SimCLR accuracy: 0.9611\nEpoch 56/100\n468/468 [==============================] - 161s 345ms/step - SimCLR loss: 4.5996 - SimCLR accuracy: 0.9589\nEpoch 57/100\n468/468 [==============================] - 161s 345ms/step - SimCLR loss: 4.5985 - SimCLR accuracy: 0.9600\nEpoch 58/100\n468/468 [==============================] - 161s 345ms/step - SimCLR loss: 4.5976 - SimCLR accuracy: 0.9599\nEpoch 59/100\n468/468 [==============================] - 161s 345ms/step - SimCLR loss: 4.5977 - SimCLR accuracy: 0.9586\nEpoch 60/100\n468/468 [==============================] - 161s 345ms/step - SimCLR loss: 4.5964 - SimCLR accuracy: 0.9577\nEpoch 61/100\n468/468 [==============================] - 161s 345ms/step - SimCLR loss: 4.5958 - SimCLR accuracy: 0.9573\nEpoch 62/100\n468/468 [==============================] - 161s 345ms/step - SimCLR loss: 4.5948 - SimCLR accuracy: 0.9575\nEpoch 63/100\n468/468 [==============================] - 162s 345ms/step - SimCLR loss: 4.5932 - SimCLR accuracy: 0.9592\nEpoch 64/100\n468/468 [==============================] - 161s 345ms/step - SimCLR loss: 4.5934 - SimCLR accuracy: 0.9558\nEpoch 65/100\n468/468 [==============================] - 161s 345ms/step - SimCLR loss: 4.5927 - SimCLR accuracy: 0.9566\nEpoch 66/100\n468/468 [==============================] - 161s 345ms/step - SimCLR loss: 4.5918 - SimCLR accuracy: 0.9570\nEpoch 67/100\n468/468 [==============================] - 161s 345ms/step - SimCLR loss: 4.5914 - SimCLR accuracy: 0.9544\nEpoch 68/100\n468/468 [==============================] - 161s 345ms/step - SimCLR loss: 4.5907 - SimCLR accuracy: 0.9547\nEpoch 69/100\n468/468 [==============================] - 161s 345ms/step - SimCLR loss: 4.5895 - SimCLR accuracy: 0.9557\nEpoch 70/100\n468/468 [==============================] - 161s 345ms/step - SimCLR loss: 4.5892 - SimCLR accuracy: 0.9547\nEpoch 71/100\n468/468 [==============================] - 161s 345ms/step - SimCLR loss: 4.5886 - SimCLR accuracy: 0.9549\nEpoch 72/100\n468/468 [==============================] - 161s 345ms/step - SimCLR loss: 4.5879 - SimCLR accuracy: 0.9538\nEpoch 73/100\n468/468 [==============================] - 161s 345ms/step - SimCLR loss: 4.5877 - SimCLR accuracy: 0.9523\nEpoch 74/100\n468/468 [==============================] - 162s 345ms/step - SimCLR loss: 4.5863 - SimCLR accuracy: 0.9548\nEpoch 75/100\n468/468 [==============================] - 161s 345ms/step - SimCLR loss: 4.5860 - SimCLR accuracy: 0.9532\nEpoch 76/100\n468/468 [==============================] - 161s 345ms/step - SimCLR loss: 4.5859 - SimCLR accuracy: 0.9519\nEpoch 77/100\n468/468 [==============================] - 161s 345ms/step - SimCLR loss: 4.5850 - SimCLR accuracy: 0.9533\nEpoch 78/100\n468/468 [==============================] - 161s 345ms/step - SimCLR loss: 4.5846 - SimCLR accuracy: 0.9515\nEpoch 79/100\n468/468 [==============================] - 161s 345ms/step - SimCLR loss: 4.5843 - SimCLR accuracy: 0.9501\nEpoch 80/100\n468/468 [==============================] - 161s 345ms/step - SimCLR loss: 4.5842 - SimCLR accuracy: 0.9481\nEpoch 81/100\n468/468 [==============================] - 161s 345ms/step - SimCLR loss: 4.5836 - SimCLR accuracy: 0.9486\nEpoch 82/100\n468/468 [==============================] - 161s 345ms/step - SimCLR loss: 4.5825 - SimCLR accuracy: 0.9502\nEpoch 83/100\n468/468 [==============================] - 161s 345ms/step - SimCLR loss: 4.5822 - SimCLR accuracy: 0.9486\nEpoch 84/100\n468/468 [==============================] - 161s 345ms/step - SimCLR loss: 4.5814 - SimCLR accuracy: 0.9487\nEpoch 85/100\n468/468 [==============================] - 161s 345ms/step - SimCLR loss: 4.5823 - SimCLR accuracy: 0.9456\nEpoch 86/100\n468/468 [==============================] - 161s 345ms/step - SimCLR loss: 4.5809 - SimCLR accuracy: 0.9475\nEpoch 87/100\n468/468 [==============================] - 161s 345ms/step - SimCLR loss: 4.5808 - SimCLR accuracy: 0.9458\nEpoch 88/100\n468/468 [==============================] - 161s 345ms/step - SimCLR loss: 4.5804 - SimCLR accuracy: 0.9461\nEpoch 89/100\n468/468 [==============================] - 161s 345ms/step - SimCLR loss: 4.5793 - SimCLR accuracy: 0.9476\nEpoch 90/100\n468/468 [==============================] - 161s 345ms/step - SimCLR loss: 4.5797 - SimCLR accuracy: 0.9450\nEpoch 91/100\n468/468 [==============================] - 161s 345ms/step - SimCLR loss: 4.5788 - SimCLR accuracy: 0.9460\nEpoch 92/100\n468/468 [==============================] - 161s 345ms/step - SimCLR loss: 4.5789 - SimCLR accuracy: 0.9419\nEpoch 93/100\n468/468 [==============================] - 161s 345ms/step - SimCLR loss: 4.5785 - SimCLR accuracy: 0.9420\nEpoch 94/100\n468/468 [==============================] - 161s 345ms/step - SimCLR loss: 4.5780 - SimCLR accuracy: 0.9426\nEpoch 95/100\n468/468 [==============================] - 161s 345ms/step - SimCLR loss: 4.5773 - SimCLR accuracy: 0.9443\nEpoch 96/100\n468/468 [==============================] - 161s 345ms/step - SimCLR loss: 4.5775 - SimCLR accuracy: 0.9406\nEpoch 97/100\n468/468 [==============================] - 161s 345ms/step - SimCLR loss: 4.5766 - SimCLR accuracy: 0.9424\nEpoch 98/100\n468/468 [==============================] - 161s 345ms/step - SimCLR loss: 4.5764 - SimCLR accuracy: 0.9434\nEpoch 99/100\n468/468 [==============================] - 161s 345ms/step - SimCLR loss: 4.5761 - SimCLR accuracy: 0.9407\nEpoch 100/100\n468/468 [==============================] - 161s 345ms/step - SimCLR loss: 4.5754 - SimCLR accuracy: 0.9428\n"
    },
    {
     "output_type": "execute_result",
     "data": {
      "text/plain": "<keras.callbacks.History at 0x7fc2863f67b8>"
     },
     "metadata": {},
     "execution_count": 14
    }
   ],
   "source": [
    "BATCH_SIZE = 128 \n",
    "EPOCHS = 100     \n",
    "LEARNING_RATE = 0.0001\n",
    "SAVE_DIRECTORY = './cifar_10_experiment'\n",
    "\n",
    "model.compile(optimizer=tf.keras.optimizers.Adam(learning_rate=LEARNING_RATE))\n",
    "\n",
    "dataset = get_unsupervised_dataset(batch_size=BATCH_SIZE)  \n",
    "dataset = dataset.take(len(dataset)-1)\n",
    "\n",
    "model.fit(dataset, epochs=EPOCHS)"
   ]
  },
  {
   "cell_type": "code",
   "execution_count": 23,
   "metadata": {
    "tags": []
   },
   "outputs": [
    {
     "output_type": "stream",
     "name": "stdout",
     "text": "Model: \"sequential_11\"\n_________________________________________________________________\nLayer (type)                 Output Shape              Param #   \n=================================================================\nbasic_block_6 (BasicBlock)   (None, 4, 4, 512)         3676160   \n_________________________________________________________________\nbasic_block_7 (BasicBlock)   (None, 4, 4, 512)         4722688   \n=================================================================\nTotal params: 8,398,848\nTrainable params: 8,393,728\nNon-trainable params: 5,120\n_________________________________________________________________\n"
    }
   ],
   "source": [
    "model.layers[0].layers[5].summary()\n"
   ]
  },
  {
   "cell_type": "code",
   "execution_count": 15,
   "metadata": {},
   "outputs": [],
   "source": [
    "model.save_weights(f'{SAVE_DIRECTORY}/viewmaker_and_simclr_weights/ckpt1')"
   ]
  },
  {
   "cell_type": "code",
   "execution_count": 1,
   "metadata": {},
   "outputs": [
    {
     "output_type": "error",
     "ename": "NameError",
     "evalue": "name 'model' is not defined",
     "traceback": [
      "\u001b[0;31m---------------------------------------------------------------------------\u001b[0m",
      "\u001b[0;31mNameError\u001b[0m                                 Traceback (most recent call last)",
      "\u001b[0;32m<ipython-input-1-1f8a688cae5d>\u001b[0m in \u001b[0;36m<module>\u001b[0;34m\u001b[0m\n\u001b[0;32m----> 1\u001b[0;31m \u001b[0mmodel\u001b[0m\u001b[0;34m\u001b[0m\u001b[0;34m\u001b[0m\u001b[0m\n\u001b[0m",
      "\u001b[0;31mNameError\u001b[0m: name 'model' is not defined"
     ]
    }
   ],
   "source": [
    "model.load_weights"
   ]
  }
 ]
}